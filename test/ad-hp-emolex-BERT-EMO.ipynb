{
 "cells": [
  {
   "cell_type": "code",
   "execution_count": 38,
   "metadata": {},
   "outputs": [],
   "source": [
    "from transformers import pipeline, AutoModelForSequenceClassification, AutoTokenizer\n",
    "import torch\n",
    "import pandas as pd\n",
    "import numpy as np\n",
    "from tqdm import tqdm"
   ]
  },
  {
   "cell_type": "code",
   "execution_count": 39,
   "metadata": {},
   "outputs": [],
   "source": [
    "from sklearn.feature_extraction.text import CountVectorizer\n",
    "from sklearn.linear_model import LogisticRegression\n",
    "from sklearn.preprocessing import OneHotEncoder\n",
    "import torch.nn as nn\n",
    "import torch.optim as optim\n",
    "from torch.utils.data import DataLoader, TensorDataset\n",
    "from nltk.corpus import stopwords\n",
    "from nltk.stem import PorterStemmer, WordNetLemmatizer\n",
    "from nltk.util import ngrams\n",
    "import spacy\n",
    "import re"
   ]
  },
  {
   "cell_type": "code",
   "execution_count": 40,
   "metadata": {},
   "outputs": [],
   "source": [
    "from sklearn.metrics import f1_score, jaccard_score, classification_report"
   ]
  },
  {
   "cell_type": "code",
   "execution_count": 41,
   "metadata": {},
   "outputs": [],
   "source": [
    "# Load data\n",
    "train = pd.read_csv('../public_data_test/track_a/train/eng.csv')\n",
    "val = pd.read_csv('../public_data_test/track_a/dev/eng.csv')\n",
    "test = pd.read_csv('../public_data_test/track_a/test/eng.csv')\n",
    "\n",
    "# Define emotions and mapping (model's labels to our labels)\n",
    "emotions = ['joy', 'sadness', 'surprise', 'fear', 'anger']\n",
    "emotion_mapping = {\n",
    "    'joy': 'joy',\n",
    "    'sadness': 'sadness',\n",
    "    'surprise': 'surprise',\n",
    "    'fear': 'fear',\n",
    "    'anger': 'anger',\n",
    "    'love': None  # We'll ignore this emotion as it's not in our target set\n",
    "}"
   ]
  },
  {
   "cell_type": "code",
   "execution_count": 42,
   "metadata": {},
   "outputs": [],
   "source": [
    "# Preprocessing Config\n",
    "config = {\n",
    "    'sep_pn': True, \n",
    "    'rm_pn': False, \n",
    "    'apply_lemmatization': True, \n",
    "    'apply_stemming': True, \n",
    "    'add_bigrams': True, \n",
    "    'rm_sw': False\n",
    "}"
   ]
  },
  {
   "cell_type": "code",
   "execution_count": 43,
   "metadata": {},
   "outputs": [],
   "source": [
    "# Load the pre-trained model and tokenizer\n",
    "model_name = \"bhadresh-savani/bert-base-uncased-emotion\"\n",
    "tokenizer = AutoTokenizer.from_pretrained(model_name)\n",
    "model = AutoModelForSequenceClassification.from_pretrained(model_name)"
   ]
  },
  {
   "cell_type": "code",
   "execution_count": 44,
   "metadata": {},
   "outputs": [],
   "source": [
    "emolex_path = \"../NRC-Emotion-Lexicon/NRC-Emotion-Lexicon-Wordlevel-v0.92.txt\""
   ]
  },
  {
   "cell_type": "code",
   "execution_count": 45,
   "metadata": {},
   "outputs": [
    {
     "name": "stdout",
     "output_type": "stream",
     "text": [
      "Loaded 3155 words from EmoLex\n"
     ]
    }
   ],
   "source": [
    "def load_emolex(emolex_path):\n",
    "    emolex = pd.read_csv(emolex_path, sep='\\t', header=None, names=[\"Word\", \"Emotion\", \"Association\"])\n",
    "    # Filter to only include our target emotions\n",
    "    emolex = emolex[emolex['Emotion'].isin(emotions)]\n",
    "    \n",
    "    emotion_dict = {}\n",
    "    for _, row in emolex.iterrows():\n",
    "        if row[\"Association\"] == 1:  # Only positive associations\n",
    "            word = row[\"Word\"].lower()  # Convert to lowercase\n",
    "            emotion = row[\"Emotion\"].lower()\n",
    "            if word not in emotion_dict:\n",
    "                emotion_dict[word] = []\n",
    "            emotion_dict[word].append(emotion)\n",
    "    \n",
    "    print(f\"Loaded {len(emotion_dict)} words from EmoLex\")\n",
    "    return emotion_dict\n",
    "\n",
    "emotion_dict = load_emolex(emolex_path)"
   ]
  },
  {
   "cell_type": "code",
   "execution_count": 46,
   "metadata": {},
   "outputs": [
    {
     "name": "stdout",
     "output_type": "stream",
     "text": [
      "\n",
      "joy words in lexicon: 687\n",
      "Sample words: ['absolution', 'abundance', 'abundant', 'accolade', 'accompaniment']\n",
      "\n",
      "sadness words in lexicon: 1187\n",
      "Sample words: ['abandon', 'abandoned', 'abandonment', 'abduction', 'abortion']\n",
      "\n",
      "surprise words in lexicon: 532\n",
      "Sample words: ['abandonment', 'abduction', 'abrupt', 'accident', 'accidental']\n",
      "\n",
      "fear words in lexicon: 1474\n",
      "Sample words: ['abandon', 'abandoned', 'abandonment', 'abduction', 'abhor']\n",
      "\n",
      "anger words in lexicon: 1245\n",
      "Sample words: ['abandoned', 'abandonment', 'abhor', 'abhorrent', 'abolish']\n",
      "\n",
      "Emotion word matches in training data:\n",
      "joy: 0 texts\n",
      "sadness: 0 texts\n",
      "surprise: 0 texts\n",
      "fear: 0 texts\n",
      "anger: 0 texts\n"
     ]
    }
   ],
   "source": [
    "nlp = spacy.load(\"en_core_web_sm\")\n",
    "\n",
    "# Initialize emotion_matches globally before preprocessing\n",
    "emotion_matches = {emotion: 0 for emotion in emotions}\n",
    "\n",
    "for emotion in emotions:\n",
    "    emotion_words = [word for word, emots in emotion_dict.items() if emotion in emots]\n",
    "    print(f\"\\n{emotion} words in lexicon: {len(emotion_words)}\")\n",
    "    print(\"Sample words:\", emotion_words[:5])\n",
    "\n",
    "# During preprocessing\n",
    "def pre_process(text, config, target_emotion, emotion_dict):\n",
    "    global emotion_matches  # Reference the global variable\n",
    "    \n",
    "    original_text = text  # Save original text for EmoLex matching\n",
    "\n",
    "    # First do EmoLex matching on original text\n",
    "    emolex_words = []\n",
    "    if target_emotion and emotion_dict:\n",
    "        # Convert text to lowercase for matching\n",
    "        text_lower = original_text.lower()\n",
    "        # Find words that appear in both text and emotion lexicon\n",
    "        text_words = set(text_lower.split())\n",
    "        emolex_words = [word for word in text_words \n",
    "                       if word in emotion_dict \n",
    "                       and target_emotion in emotion_dict[word]]\n",
    "        \n",
    "        if emolex_words:\n",
    "            emotion_matches[target_emotion] += 1\n",
    "\n",
    "    def separate_punctuation(text):\n",
    "        text = re.sub(r\"(\\w)([.,;:!?'\\\"”\\)])\", r\"\\1 \\2\", text)\n",
    "        text = re.sub(r\"([.,;:!?'\\\"“\\(\\)])(\\w)\", r\"\\1 \\2\", text)\n",
    "        return text\n",
    "\n",
    "    def remove_punctuation(text):\n",
    "        text = re.sub(r\"[.,;:!?'\\\"“”\\(\\)]\", \"\", text)\n",
    "        return text\n",
    "\n",
    "    def tokenize_text(text):\n",
    "        encoded_input = tokenizer(text, return_tensors='pt', add_special_tokens=True)\n",
    "        tokens = tokenizer.convert_ids_to_tokens(encoded_input['input_ids'][0])\n",
    "        return tokens\n",
    "\n",
    "    def apply_stemming(tokens):\n",
    "        stemmer = PorterStemmer()\n",
    "        return [stemmer.stem(token) for token in tokens]\n",
    "\n",
    "    def apply_lemmatization(tokens):\n",
    "        lemmatizer = WordNetLemmatizer()\n",
    "        return [lemmatizer.lemmatize(token) for token in tokens]\n",
    "\n",
    "    def generate_ngrams_from_tokens(tokens, n):\n",
    "        return [\" \".join(gram) for gram in ngrams(tokens, n)]\n",
    "\n",
    "    # Apply config options\n",
    "    if config['sep_pn'] and not config['rm_pn']:\n",
    "        text = separate_punctuation(text)\n",
    "    if config['rm_pn'] and not config['sep_pn']:\n",
    "        text = remove_punctuation(text)\n",
    "\n",
    "    tokens = tokenize_text(text)\n",
    "    if config['apply_stemming']:\n",
    "        tokens = apply_stemming(tokens)\n",
    "    if config['apply_lemmatization']:\n",
    "        tokens = apply_lemmatization(tokens)\n",
    "    if config['add_bigrams']:\n",
    "        tokens += generate_ngrams_from_tokens(tokens, 2)\n",
    "    if config['rm_sw']:\n",
    "        stop_words = set(stopwords.words('english'))\n",
    "        tokens = [word for word in tokens if word.lower() not in stop_words]\n",
    "\n",
    "    processed_text = \" \".join(tokens)\n",
    "\n",
    "    # Finally, append EmoLex words if found\n",
    "    if emolex_words:\n",
    "        processed_text = f\"{processed_text} [SEP] {' '.join(emolex_words)}\"\n",
    "    else:\n",
    "        processed_text = f\"{processed_text} [SEP]\"\n",
    "    \n",
    "    return processed_text\n",
    "\n",
    "# After preprocessing\n",
    "print(\"\\nEmotion word matches in training data:\")\n",
    "for emotion in emotions:\n",
    "    print(f\"{emotion}: {emotion_matches[emotion]} texts\")"
   ]
  },
  {
   "cell_type": "code",
   "execution_count": 47,
   "metadata": {},
   "outputs": [],
   "source": [
    "# Vectorizer Definition\n",
    "vectorizer = CountVectorizer()"
   ]
  },
  {
   "cell_type": "code",
   "execution_count": 48,
   "metadata": {},
   "outputs": [
    {
     "name": "stdout",
     "output_type": "stream",
     "text": [
      "\n",
      "Processing joy:\n"
     ]
    },
    {
     "name": "stderr",
     "output_type": "stream",
     "text": [
      "100%|██████████| 2768/2768 [00:01<00:00, 1941.10it/s]\n"
     ]
    },
    {
     "name": "stdout",
     "output_type": "stream",
     "text": [
      "Texts with joy-specific words: 461/2768\n",
      "\n",
      "Processing sadness:\n"
     ]
    },
    {
     "name": "stderr",
     "output_type": "stream",
     "text": [
      "100%|██████████| 2768/2768 [00:01<00:00, 1988.94it/s]\n"
     ]
    },
    {
     "name": "stdout",
     "output_type": "stream",
     "text": [
      "Texts with sadness-specific words: 569/2768\n",
      "\n",
      "Processing surprise:\n"
     ]
    },
    {
     "name": "stderr",
     "output_type": "stream",
     "text": [
      "100%|██████████| 2768/2768 [00:01<00:00, 2054.32it/s]\n"
     ]
    },
    {
     "name": "stdout",
     "output_type": "stream",
     "text": [
      "Texts with surprise-specific words: 318/2768\n",
      "\n",
      "Processing fear:\n"
     ]
    },
    {
     "name": "stderr",
     "output_type": "stream",
     "text": [
      "100%|██████████| 2768/2768 [00:01<00:00, 2063.66it/s]\n"
     ]
    },
    {
     "name": "stdout",
     "output_type": "stream",
     "text": [
      "Texts with fear-specific words: 520/2768\n",
      "\n",
      "Processing anger:\n"
     ]
    },
    {
     "name": "stderr",
     "output_type": "stream",
     "text": [
      "100%|██████████| 2768/2768 [00:01<00:00, 1826.84it/s]\n"
     ]
    },
    {
     "name": "stdout",
     "output_type": "stream",
     "text": [
      "Texts with anger-specific words: 463/2768\n",
      "\n",
      "Processing joy:\n"
     ]
    },
    {
     "name": "stderr",
     "output_type": "stream",
     "text": [
      "100%|██████████| 116/116 [00:00<00:00, 1817.30it/s]\n"
     ]
    },
    {
     "name": "stdout",
     "output_type": "stream",
     "text": [
      "Texts with joy-specific words: 19/116\n",
      "\n",
      "Processing sadness:\n"
     ]
    },
    {
     "name": "stderr",
     "output_type": "stream",
     "text": [
      "100%|██████████| 116/116 [00:00<00:00, 1898.44it/s]\n"
     ]
    },
    {
     "name": "stdout",
     "output_type": "stream",
     "text": [
      "Texts with sadness-specific words: 22/116\n",
      "\n",
      "Processing surprise:\n"
     ]
    },
    {
     "name": "stderr",
     "output_type": "stream",
     "text": [
      "100%|██████████| 116/116 [00:00<00:00, 1926.52it/s]\n"
     ]
    },
    {
     "name": "stdout",
     "output_type": "stream",
     "text": [
      "Texts with surprise-specific words: 15/116\n",
      "\n",
      "Processing fear:\n"
     ]
    },
    {
     "name": "stderr",
     "output_type": "stream",
     "text": [
      "100%|██████████| 116/116 [00:00<00:00, 1980.88it/s]\n"
     ]
    },
    {
     "name": "stdout",
     "output_type": "stream",
     "text": [
      "Texts with fear-specific words: 21/116\n",
      "\n",
      "Processing anger:\n"
     ]
    },
    {
     "name": "stderr",
     "output_type": "stream",
     "text": [
      "100%|██████████| 116/116 [00:00<00:00, 1939.54it/s]\n"
     ]
    },
    {
     "name": "stdout",
     "output_type": "stream",
     "text": [
      "Texts with anger-specific words: 17/116\n",
      "\n",
      "Processing joy:\n"
     ]
    },
    {
     "name": "stderr",
     "output_type": "stream",
     "text": [
      "100%|██████████| 2767/2767 [00:01<00:00, 1980.38it/s]\n"
     ]
    },
    {
     "name": "stdout",
     "output_type": "stream",
     "text": [
      "Texts with joy-specific words: 453/2767\n",
      "\n",
      "Processing sadness:\n"
     ]
    },
    {
     "name": "stderr",
     "output_type": "stream",
     "text": [
      "100%|██████████| 2767/2767 [00:01<00:00, 1981.33it/s]\n"
     ]
    },
    {
     "name": "stdout",
     "output_type": "stream",
     "text": [
      "Texts with sadness-specific words: 537/2767\n",
      "\n",
      "Processing surprise:\n"
     ]
    },
    {
     "name": "stderr",
     "output_type": "stream",
     "text": [
      "100%|██████████| 2767/2767 [00:01<00:00, 1968.10it/s]\n"
     ]
    },
    {
     "name": "stdout",
     "output_type": "stream",
     "text": [
      "Texts with surprise-specific words: 349/2767\n",
      "\n",
      "Processing fear:\n"
     ]
    },
    {
     "name": "stderr",
     "output_type": "stream",
     "text": [
      "100%|██████████| 2767/2767 [00:01<00:00, 1999.99it/s]\n"
     ]
    },
    {
     "name": "stdout",
     "output_type": "stream",
     "text": [
      "Texts with fear-specific words: 531/2767\n",
      "\n",
      "Processing anger:\n"
     ]
    },
    {
     "name": "stderr",
     "output_type": "stream",
     "text": [
      "100%|██████████| 2767/2767 [00:01<00:00, 1814.83it/s]\n"
     ]
    },
    {
     "name": "stdout",
     "output_type": "stream",
     "text": [
      "Texts with anger-specific words: 438/2767\n"
     ]
    }
   ],
   "source": [
    "# Reset emotion_matches before processing dataset\n",
    "def preprocess_dataset_with_emotions(dataset, emotions, config, emotion_dict):\n",
    "    global emotion_matches\n",
    "    emotion_matches = {emotion: 0 for emotion in emotions}  # Reset counters\n",
    "    \n",
    "    augmented_data = {}\n",
    "    \n",
    "    # Process for each emotion\n",
    "    for emotion in emotions:\n",
    "        print(f\"\\nProcessing {emotion}:\")\n",
    "        texts = []\n",
    "        for text in tqdm(dataset):\n",
    "            processed = pre_process(text, config, target_emotion=emotion, emotion_dict=emotion_dict)\n",
    "            texts.append(processed)\n",
    "            \n",
    "        # Count how many texts contain emotion-specific words\n",
    "        emotion_word_count = sum(1 for text in texts if '[SEP]' in text and not text.endswith('[SEP]'))\n",
    "        print(f\"Texts with {emotion}-specific words: {emotion_matches[emotion]}/{len(texts)}\")\n",
    "        \n",
    "        augmented_data[emotion] = texts\n",
    "    \n",
    "    return augmented_data\n",
    "\n",
    "train_augmented = preprocess_dataset_with_emotions(train[\"text\"], emotions, config, emotion_dict)\n",
    "val_augmented = preprocess_dataset_with_emotions(val[\"text\"], emotions, config, emotion_dict)\n",
    "test_augmented = preprocess_dataset_with_emotions(test[\"text\"], emotions, config, emotion_dict)\n",
    "\n",
    "# Fit the vectorizer on the combined training data\n",
    "vectorizer = CountVectorizer()\n",
    "vectorizer.fit(train_augmented['joy'] + train_augmented['sadness'] + train_augmented['surprise'] + train_augmented['fear'] + train_augmented['anger'])\n",
    "\n",
    "# Transform each emotion separately\n",
    "X_train = {emotion: vectorizer.transform(train_augmented[emotion]).toarray() for emotion in emotions}\n",
    "X_val = {emotion: vectorizer.transform(val_augmented[emotion]).toarray() for emotion in emotions}\n",
    "X_test = {emotion: vectorizer.transform(test_augmented[emotion]).toarray() for emotion in emotions}"
   ]
  },
  {
   "cell_type": "code",
   "execution_count": 49,
   "metadata": {},
   "outputs": [
    {
     "name": "stderr",
     "output_type": "stream",
     "text": [
      "Device set to use cpu\n",
      "/Users/angwang/miniforge3/lib/python3.12/site-packages/transformers/pipelines/text_classification.py:106: UserWarning: `return_all_scores` is now deprecated,  if want a similar functionality use `top_k=None` instead of `return_all_scores=True` or `top_k=1` instead of `return_all_scores=False`.\n",
      "  warnings.warn(\n"
     ]
    }
   ],
   "source": [
    "# Create the emotion classifier pipeline\n",
    "classifier = pipeline(\n",
    "    \"text-classification\",\n",
    "    model=model,\n",
    "    tokenizer=tokenizer,\n",
    "    return_all_scores=True,\n",
    "    device=0 if torch.cuda.is_available() else -1  # Use GPU if available\n",
    ")"
   ]
  },
  {
   "cell_type": "code",
   "execution_count": 50,
   "metadata": {},
   "outputs": [],
   "source": [
    "def get_predictions_batch(texts, batch_size=32):\n",
    "    \"\"\"\n",
    "    Get predictions for a list of texts in batches\n",
    "    \"\"\"\n",
    "    all_predictions = []\n",
    "    \n",
    "    for i in tqdm(range(0, len(texts), batch_size), desc=\"Predicting\"):\n",
    "        batch_texts = texts[i:i + batch_size]\n",
    "        predictions = classifier(batch_texts)\n",
    "        all_predictions.extend(predictions)\n",
    "    \n",
    "    return all_predictions"
   ]
  },
  {
   "cell_type": "code",
   "execution_count": 51,
   "metadata": {},
   "outputs": [],
   "source": [
    "def format_predictions(predictions, emotion_mapping):\n",
    "    \"\"\"\n",
    "    Convert raw predictions to the required format\n",
    "    \"\"\"\n",
    "    formatted_preds = []\n",
    "    for pred in predictions:\n",
    "        # Create a dictionary of emotion scores\n",
    "        scores = {p['label']: p['score'] for p in pred}\n",
    "        # Map to our required emotions and format\n",
    "        row = [scores.get(emotion_mapping.get(e, e), 0) for e in emotions]\n",
    "        formatted_preds.append(row)\n",
    "    \n",
    "    return np.array(formatted_preds)"
   ]
  },
  {
   "cell_type": "code",
   "execution_count": 52,
   "metadata": {},
   "outputs": [],
   "source": [
    "# Convert labels to numpy arrays\n",
    "y_train = train[emotions].values\n",
    "y_val = val[emotions].values\n",
    "y_test = test[emotions].values"
   ]
  },
  {
   "cell_type": "code",
   "execution_count": 53,
   "metadata": {},
   "outputs": [],
   "source": [
    "# POS Tagging\n",
    "def extract_pos_tags(texts):\n",
    "    return [[token.pos_ for token in nlp(text)] for text in texts]"
   ]
  },
  {
   "cell_type": "code",
   "execution_count": 55,
   "metadata": {},
   "outputs": [
    {
     "name": "stdout",
     "output_type": "stream",
     "text": [
      "Getting training BERT embeddings...\n"
     ]
    },
    {
     "name": "stderr",
     "output_type": "stream",
     "text": [
      "Predicting: 100%|██████████| 87/87 [03:22<00:00,  2.32s/it]\n"
     ]
    },
    {
     "name": "stdout",
     "output_type": "stream",
     "text": [
      "Getting validation BERT embeddings...\n"
     ]
    },
    {
     "name": "stderr",
     "output_type": "stream",
     "text": [
      "Predicting: 100%|██████████| 4/4 [00:09<00:00,  2.33s/it]\n"
     ]
    },
    {
     "name": "stdout",
     "output_type": "stream",
     "text": [
      "Getting test BERT embeddings...\n"
     ]
    },
    {
     "name": "stderr",
     "output_type": "stream",
     "text": [
      "Predicting: 100%|██████████| 87/87 [03:11<00:00,  2.20s/it]\n"
     ]
    },
    {
     "name": "stdout",
     "output_type": "stream",
     "text": [
      "Extracting POS features...\n"
     ]
    }
   ],
   "source": [
    "# Get BERT embeddings for training data\n",
    "print(\"Getting training BERT embeddings...\")\n",
    "train_raw_preds = get_predictions_batch(train['text'].tolist())\n",
    "train_bert_features = format_predictions(train_raw_preds, emotion_mapping)\n",
    "\n",
    "print(\"Getting validation BERT embeddings...\")\n",
    "val_raw_preds = get_predictions_batch(val['text'].tolist())\n",
    "val_bert_features = format_predictions(val_raw_preds, emotion_mapping)\n",
    "\n",
    "print(\"Getting test BERT embeddings...\")\n",
    "test_raw_preds = get_predictions_batch(test['text'].tolist())\n",
    "test_bert_features = format_predictions(test_raw_preds, emotion_mapping)\n",
    "\n",
    "# Get POS features\n",
    "print(\"Extracting POS features...\")\n",
    "train_pos_tags = extract_pos_tags(train[\"text\"])\n",
    "val_pos_tags = extract_pos_tags(val[\"text\"])\n",
    "test_pos_tags = extract_pos_tags(test[\"text\"])\n",
    "\n",
    "# POS Encoding\n",
    "max_length = max(\n",
    "    max(len(tags) for tags in train_pos_tags),\n",
    "    max(len(tags) for tags in val_pos_tags),\n",
    "    max(len(tags) for tags in test_pos_tags)\n",
    ")\n",
    "train_pos_tags = [tags + ['PAD'] * (max_length - len(tags)) for tags in train_pos_tags]\n",
    "val_pos_tags = [tags + ['PAD'] * (max_length - len(tags)) for tags in val_pos_tags]\n",
    "test_pos_tags = [tags + ['PAD'] * (max_length - len(tags)) for tags in test_pos_tags]\n",
    "\n",
    "encoder = OneHotEncoder(sparse_output=False, handle_unknown=\"ignore\")\n",
    "train_pos_encoded = encoder.fit_transform(train_pos_tags)\n",
    "val_pos_encoded = encoder.transform(val_pos_tags)\n",
    "test_pos_encoded = encoder.transform(test_pos_tags)"
   ]
  },
  {
   "cell_type": "code",
   "execution_count": 56,
   "metadata": {},
   "outputs": [
    {
     "name": "stdout",
     "output_type": "stream",
     "text": [
      "Combining features for each emotion...\n",
      "\n",
      "Processing joy:\n",
      "X_train shape: (2768, 4340)\n",
      "train_bert_features shape: (2768, 5)\n",
      "train_pos_encoded shape: (2768, 1176)\n",
      "Final features shape for joy: (2768, 5521)\n",
      "\n",
      "Processing sadness:\n",
      "X_train shape: (2768, 4340)\n",
      "train_bert_features shape: (2768, 5)\n",
      "train_pos_encoded shape: (2768, 1176)\n",
      "Final features shape for sadness: (2768, 5521)\n",
      "\n",
      "Processing surprise:\n",
      "X_train shape: (2768, 4340)\n",
      "train_bert_features shape: (2768, 5)\n",
      "train_pos_encoded shape: (2768, 1176)\n",
      "Final features shape for surprise: (2768, 5521)\n",
      "\n",
      "Processing fear:\n",
      "X_train shape: (2768, 4340)\n",
      "train_bert_features shape: (2768, 5)\n",
      "train_pos_encoded shape: (2768, 1176)\n",
      "Final features shape for fear: (2768, 5521)\n",
      "\n",
      "Processing anger:\n",
      "X_train shape: (2768, 4340)\n",
      "train_bert_features shape: (2768, 5)\n",
      "train_pos_encoded shape: (2768, 1176)\n",
      "Final features shape for anger: (2768, 5521)\n"
     ]
    }
   ],
   "source": [
    "# Combine features for each emotion separately\n",
    "final_train_features = {}\n",
    "final_val_features = {}\n",
    "final_test_features = {}\n",
    "\n",
    "print(\"Combining features for each emotion...\")\n",
    "for emotion in emotions:\n",
    "    print(f\"\\nProcessing {emotion}:\")\n",
    "    print(f\"X_train shape: {X_train[emotion].shape}\")\n",
    "    print(f\"train_bert_features shape: {train_bert_features.shape}\")\n",
    "    print(f\"train_pos_encoded shape: {train_pos_encoded.shape}\")\n",
    "    \n",
    "    final_train_features[emotion] = np.hstack([\n",
    "        X_train[emotion],\n",
    "        train_bert_features,\n",
    "        train_pos_encoded\n",
    "    ])\n",
    "    \n",
    "    final_val_features[emotion] = np.hstack([\n",
    "        X_val[emotion],\n",
    "        val_bert_features,\n",
    "        val_pos_encoded\n",
    "    ])\n",
    "    \n",
    "    final_test_features[emotion] = np.hstack([\n",
    "        X_test[emotion],\n",
    "        test_bert_features,\n",
    "        test_pos_encoded\n",
    "    ])\n",
    "    \n",
    "    print(f\"Final features shape for {emotion}: {final_train_features[emotion].shape}\")"
   ]
  },
  {
   "cell_type": "code",
   "execution_count": 57,
   "metadata": {},
   "outputs": [],
   "source": [
    "# # Create a model for each emotion\n",
    "# models = {}\n",
    "# for emotion in emotions:\n",
    "#     input_size = final_train_features[emotion].shape[1]  # Get the feature size for each emotion\n",
    "#     models[emotion] = nn.Sequential(\n",
    "#         nn.Linear(input_size, 256),  # Use the correct input size\n",
    "#         nn.BatchNorm1d(256),\n",
    "#         nn.ReLU(),\n",
    "#         nn.Dropout(0.3),\n",
    "#         nn.Linear(256, 128),\n",
    "#         nn.BatchNorm1d(128),\n",
    "#         nn.ReLU(),\n",
    "#         nn.Dropout(0.2),\n",
    "#         nn.Linear(128, 64),\n",
    "#         nn.BatchNorm1d(64),\n",
    "#         nn.ReLU(),\n",
    "#         nn.Linear(64, 1)\n",
    "#     )"
   ]
  },
  {
   "cell_type": "code",
   "execution_count": 58,
   "metadata": {},
   "outputs": [],
   "source": [
    "import matplotlib.pyplot as plt\n",
    "from torch.optim.lr_scheduler import ReduceLROnPlateau"
   ]
  },
  {
   "cell_type": "code",
   "execution_count": 59,
   "metadata": {},
   "outputs": [
    {
     "name": "stdout",
     "output_type": "stream",
     "text": [
      "Feature size for joy: 5521\n",
      "Feature size for sadness: 5521\n",
      "Feature size for surprise: 5521\n",
      "Feature size for fear: 5521\n",
      "Feature size for anger: 5521\n"
     ]
    }
   ],
   "source": [
    "for emotion in emotions:\n",
    "\n",
    "    print(f\"Feature size for {emotion}: {final_train_features[emotion].shape[1]}\")"
   ]
  },
  {
   "cell_type": "code",
   "execution_count": 60,
   "metadata": {},
   "outputs": [],
   "source": [
    "import torch\n",
    "import torch.nn.functional as F\n",
    "\n",
    "def add_adversarial_noise(model, inputs, labels, epsilon=0.01):\n",
    "    # Set requires_grad attribute of tensor to True\n",
    "    inputs.requires_grad = True\n",
    "\n",
    "    # Forward pass\n",
    "    outputs = model(inputs)\n",
    "    loss = F.binary_cross_entropy_with_logits(outputs, labels)\n",
    "\n",
    "    # Backward pass to calculate gradients\n",
    "    model.zero_grad()\n",
    "    loss.backward()\n",
    "\n",
    "    # Collect the gradients of the inputs\n",
    "    data_grad = inputs.grad.data\n",
    "\n",
    "    # Create adversarial examples by adding perturbation\n",
    "    perturbed_data = inputs + epsilon * data_grad.sign()\n",
    "\n",
    "    # Return the perturbed data\n",
    "    return perturbed_data"
   ]
  },
  {
   "cell_type": "code",
   "execution_count": 61,
   "metadata": {},
   "outputs": [],
   "source": [
    "# Save validation and test predictions\n",
    "from datetime import datetime\n",
    "timestamp = datetime.now().strftime('%Y-%m-%d_%H_%M_%S')"
   ]
  },
  {
   "cell_type": "code",
   "execution_count": 66,
   "metadata": {},
   "outputs": [
    {
     "name": "stdout",
     "output_type": "stream",
     "text": [
      "\u001b[33mDEPRECATION: Loading egg at /Users/angwang/miniforge3/lib/python3.12/site-packages/huggingface_hub-0.27.1-py3.8.egg is deprecated. pip 25.1 will enforce this behaviour change. A possible replacement is to use pip for package installation. Discussion can be found at https://github.com/pypa/pip/issues/12330\u001b[0m\u001b[33m\n",
      "\u001b[0mCollecting optuna\n",
      "  Downloading optuna-4.2.0-py3-none-any.whl.metadata (17 kB)\n",
      "Collecting alembic>=1.5.0 (from optuna)\n",
      "  Downloading alembic-1.14.1-py3-none-any.whl.metadata (7.4 kB)\n",
      "Collecting colorlog (from optuna)\n",
      "  Downloading colorlog-6.9.0-py3-none-any.whl.metadata (10 kB)\n",
      "Requirement already satisfied: numpy in /Users/angwang/miniforge3/lib/python3.12/site-packages (from optuna) (2.2.1)\n",
      "Requirement already satisfied: packaging>=20.0 in /Users/angwang/miniforge3/lib/python3.12/site-packages (from optuna) (24.1)\n",
      "Collecting sqlalchemy>=1.4.2 (from optuna)\n",
      "  Downloading SQLAlchemy-2.0.37-cp312-cp312-macosx_11_0_arm64.whl.metadata (9.6 kB)\n",
      "Requirement already satisfied: tqdm in /Users/angwang/miniforge3/lib/python3.12/site-packages (from optuna) (4.66.5)\n",
      "Requirement already satisfied: PyYAML in /Users/angwang/miniforge3/lib/python3.12/site-packages (from optuna) (6.0.2)\n",
      "Collecting Mako (from alembic>=1.5.0->optuna)\n",
      "  Downloading Mako-1.3.8-py3-none-any.whl.metadata (2.9 kB)\n",
      "Requirement already satisfied: typing-extensions>=4 in /Users/angwang/miniforge3/lib/python3.12/site-packages (from alembic>=1.5.0->optuna) (4.12.2)\n",
      "Requirement already satisfied: MarkupSafe>=0.9.2 in /Users/angwang/miniforge3/lib/python3.12/site-packages (from Mako->alembic>=1.5.0->optuna) (3.0.2)\n",
      "Downloading optuna-4.2.0-py3-none-any.whl (383 kB)\n",
      "Downloading alembic-1.14.1-py3-none-any.whl (233 kB)\n",
      "Downloading SQLAlchemy-2.0.37-cp312-cp312-macosx_11_0_arm64.whl (2.1 MB)\n",
      "\u001b[2K   \u001b[90m━━━━━━━━━━━━━━━━━━━━━━━━━━━━━━━━━━━━━━━━\u001b[0m \u001b[32m2.1/2.1 MB\u001b[0m \u001b[31m6.7 MB/s\u001b[0m eta \u001b[36m0:00:00\u001b[0ma \u001b[36m0:00:01\u001b[0m\n",
      "\u001b[?25hDownloading colorlog-6.9.0-py3-none-any.whl (11 kB)\n",
      "Downloading Mako-1.3.8-py3-none-any.whl (78 kB)\n",
      "Installing collected packages: sqlalchemy, Mako, colorlog, alembic, optuna\n",
      "Successfully installed Mako-1.3.8 alembic-1.14.1 colorlog-6.9.0 optuna-4.2.0 sqlalchemy-2.0.37\n",
      "\n",
      "\u001b[1m[\u001b[0m\u001b[34;49mnotice\u001b[0m\u001b[1;39;49m]\u001b[0m\u001b[39;49m A new release of pip is available: \u001b[0m\u001b[31;49m24.3.1\u001b[0m\u001b[39;49m -> \u001b[0m\u001b[32;49m25.0\u001b[0m\n",
      "\u001b[1m[\u001b[0m\u001b[34;49mnotice\u001b[0m\u001b[1;39;49m]\u001b[0m\u001b[39;49m To update, run: \u001b[0m\u001b[32;49mpip install --upgrade pip\u001b[0m\n"
     ]
    }
   ],
   "source": [
    "!pip install optuna\n",
    "import optuna\n",
    "from sklearn.metrics import f1_score"
   ]
  },
  {
   "cell_type": "code",
   "execution_count": null,
   "metadata": {},
   "outputs": [],
   "source": [
    "# import torch\n",
    "# from sklearn.metrics import f1_score\n",
    "\n",
    "# def evaluate_model(model, data_loader, device):\n",
    "#     model.eval()  # Set the model to evaluation mode\n",
    "#     all_preds = []\n",
    "#     all_labels = []\n",
    "\n",
    "#     with torch.no_grad():  # Disable gradient calculation\n",
    "#         for features, labels in data_loader:\n",
    "#             features, labels = features.to(device), labels.to(device)\n",
    "#             outputs = model(features)\n",
    "#             preds = torch.sigmoid(outputs).squeeze().cpu().numpy()  # Convert logits to probabilities\n",
    "#             all_preds.extend(preds)\n",
    "#             all_labels.extend(labels.cpu().numpy())\n",
    "\n",
    "#     # Convert predictions to binary using a threshold (e.g., 0.5)\n",
    "#     binary_preds = (np.array(all_preds) > 0.5).astype(int)\n",
    "#     macro_f1 = f1_score(all_labels, binary_preds, average='macro', zero_division=0)\n",
    "\n",
    "#     return macro_f1"
   ]
  },
  {
   "cell_type": "code",
   "execution_count": 76,
   "metadata": {},
   "outputs": [
    {
     "name": "stderr",
     "output_type": "stream",
     "text": [
      "[I 2025-01-31 18:42:55,580] A new study created in memory with name: no-name-45a93e24-8e53-4f45-8122-946ce69869a8\n",
      "/var/folders/sx/hkqgssrx0jd_jb2_792hz_hm0000gp/T/ipykernel_18361/3394097622.py:27: FutureWarning: suggest_uniform has been deprecated in v3.0.0. This feature will be removed in v6.0.0. See https://github.com/optuna/optuna/releases/tag/v3.0.0. Use suggest_float instead.\n",
      "  dropout_rate = trial.suggest_uniform('dropout_rate', 0.2, 0.5)\n",
      "/var/folders/sx/hkqgssrx0jd_jb2_792hz_hm0000gp/T/ipykernel_18361/3394097622.py:28: FutureWarning: suggest_loguniform has been deprecated in v3.0.0. This feature will be removed in v6.0.0. See https://github.com/optuna/optuna/releases/tag/v3.0.0. Use suggest_float(..., log=True) instead.\n",
      "  weight_decay = trial.suggest_loguniform('weight_decay', 1e-5, 1e-2)\n",
      "/var/folders/sx/hkqgssrx0jd_jb2_792hz_hm0000gp/T/ipykernel_18361/3394097622.py:30: FutureWarning: `torch.cuda.amp.GradScaler(args...)` is deprecated. Please use `torch.amp.GradScaler('cuda', args...)` instead.\n",
      "  scaler = GradScaler()\n",
      "/Users/angwang/miniforge3/lib/python3.12/site-packages/torch/amp/grad_scaler.py:132: UserWarning: torch.cuda.amp.GradScaler is enabled, but CUDA is not available.  Disabling.\n",
      "  warnings.warn(\n"
     ]
    },
    {
     "name": "stdout",
     "output_type": "stream",
     "text": [
      "\n",
      "Training model for joy\n",
      "\n",
      "Training model for joy\n",
      "\n",
      "Training model for joy\n",
      "\n",
      "Training model for joy\n",
      "Validation features shape for joy: torch.Size([116, 5521])\n",
      "Validation features shape for joy: torch.Size([116, 5521])\n",
      "Validation features shape for joy: torch.Size([116, 5521])\n",
      "Validation features shape for joy: torch.Size([116, 5521])\n"
     ]
    },
    {
     "name": "stderr",
     "output_type": "stream",
     "text": [
      "/Users/angwang/miniforge3/lib/python3.12/site-packages/torch/optim/lr_scheduler.py:62: UserWarning: The verbose parameter is deprecated. Please use get_last_lr() to access the learning rate.\n",
      "  warnings.warn(\n",
      "\n",
      "\n",
      "\u001b[A\u001b[A\n",
      "\n",
      "\n",
      "\u001b[A\u001b[A\u001b[A/var/folders/sx/hkqgssrx0jd_jb2_792hz_hm0000gp/T/ipykernel_18361/3394097622.py:99: FutureWarning: `torch.cuda.amp.autocast(args...)` is deprecated. Please use `torch.amp.autocast('cuda', args...)` instead.\n",
      "  with autocast():\n",
      "/Users/angwang/miniforge3/lib/python3.12/site-packages/torch/amp/autocast_mode.py:266: UserWarning: User provided device_type of 'cuda', but CUDA is not available. Disabling\n",
      "  warnings.warn(\n",
      "\n",
      "\n",
      "\n",
      "\u001b[A\u001b[A\u001b[A\n",
      "\n",
      "\n",
      "\u001b[A\u001b[A\u001b[A\n",
      "\n",
      "\n",
      "\u001b[A\u001b[A\u001b[A\n",
      "\n",
      "\n",
      "\u001b[A\u001b[A\u001b[A\n",
      "\n",
      "\n",
      "\u001b[A\u001b[A\u001b[A\n",
      "\n",
      "\n",
      "\u001b[A\u001b[A\u001b[A\n",
      "\n",
      "\n",
      "\u001b[A\u001b[A\u001b[A\n",
      "\n",
      "\n",
      "\u001b[A\u001b[A\u001b[A\n",
      "\n",
      "\n",
      "\u001b[A\u001b[A\u001b[A\n",
      "\n",
      "\n",
      "\u001b[A\u001b[A\u001b[A\n",
      "\n",
      "\n",
      "\u001b[A\u001b[A\u001b[A\n",
      "\n",
      "\n",
      "\u001b[A\u001b[A\u001b[A\n",
      "\n",
      "\n",
      "\u001b[A\u001b[A\u001b[A\n",
      "\n",
      "\n",
      "\u001b[A\u001b[A\u001b[A\n",
      "\n",
      "\n",
      "\u001b[A\u001b[A\u001b[A\n",
      "\n",
      "\n",
      "\u001b[A\u001b[A\u001b[A\n",
      "\n",
      "\n",
      "\u001b[A\u001b[A\u001b[A\n",
      "\n",
      "\n",
      "\u001b[A\u001b[A\u001b[A\n",
      "\n",
      "\n",
      "\u001b[A\u001b[A\u001b[A\n",
      "\n",
      "\n",
      "\u001b[A\u001b[A\u001b[A\n",
      "\n",
      "\n",
      "\u001b[A\u001b[A\u001b[A\n",
      "\n",
      "\n",
      "\u001b[A\u001b[A\u001b[A\n",
      "\n",
      "\n",
      "Training Loop (joy):   0%|          | 0/401 [00:02<?, ?epoch/s]\n",
      "[W 2025-01-31 18:42:58,390] Trial 0 failed with parameters: {'dropout_rate': 0.20624912559169276, 'weight_decay': 1.8156231416453193e-05} because of the following error: RuntimeError('Tensor for argument input is on cpu but expected on mps').\n",
      "Traceback (most recent call last):\n",
      "  File \"/Users/angwang/miniforge3/lib/python3.12/site-packages/optuna/study/_optimize.py\", line 197, in _run_trial\n",
      "    value_or_values = func(trial)\n",
      "                      ^^^^^^^^^^^\n",
      "  File \"/var/folders/sx/hkqgssrx0jd_jb2_792hz_hm0000gp/T/ipykernel_18361/3394097622.py\", line 133, in objective\n",
      "    val_outputs = model(val_features_tensor)\n",
      "                  ^^^^^^^^^^^^^^^^^^^^^^^^^^\n",
      "  File \"/Users/angwang/miniforge3/lib/python3.12/site-packages/torch/nn/modules/module.py\", line 1736, in _wrapped_call_impl\n",
      "    return self._call_impl(*args, **kwargs)\n",
      "           ^^^^^^^^^^^^^^^^^^^^^^^^^^^^^^^^\n",
      "  File \"/Users/angwang/miniforge3/lib/python3.12/site-packages/torch/nn/modules/module.py\", line 1747, in _call_impl\n",
      "    return forward_call(*args, **kwargs)\n",
      "           ^^^^^^^^^^^^^^^^^^^^^^^^^^^^^\n",
      "  File \"/Users/angwang/miniforge3/lib/python3.12/site-packages/torch/nn/modules/container.py\", line 250, in forward\n",
      "    input = module(input)\n",
      "            ^^^^^^^^^^^^^\n",
      "  File \"/Users/angwang/miniforge3/lib/python3.12/site-packages/torch/nn/modules/module.py\", line 1736, in _wrapped_call_impl\n",
      "    return self._call_impl(*args, **kwargs)\n",
      "           ^^^^^^^^^^^^^^^^^^^^^^^^^^^^^^^^\n",
      "  File \"/Users/angwang/miniforge3/lib/python3.12/site-packages/torch/nn/modules/module.py\", line 1747, in _call_impl\n",
      "    return forward_call(*args, **kwargs)\n",
      "           ^^^^^^^^^^^^^^^^^^^^^^^^^^^^^\n",
      "  File \"/Users/angwang/miniforge3/lib/python3.12/site-packages/torch/nn/modules/linear.py\", line 125, in forward\n",
      "    return F.linear(input, self.weight, self.bias)\n",
      "           ^^^^^^^^^^^^^^^^^^^^^^^^^^^^^^^^^^^^^^^\n",
      "RuntimeError: Tensor for argument input is on cpu but expected on mps\n",
      "[W 2025-01-31 18:42:58,392] Trial 0 failed with value None.\n"
     ]
    },
    {
     "ename": "KeyboardInterrupt",
     "evalue": "",
     "output_type": "error",
     "traceback": [
      "\u001b[0;31m---------------------------------------------------------------------------\u001b[0m",
      "\u001b[0;31mRuntimeError\u001b[0m                              Traceback (most recent call last)",
      "File \u001b[0;32m~/miniforge3/lib/python3.12/site-packages/optuna/study/_optimize.py:100\u001b[0m, in \u001b[0;36m_optimize\u001b[0;34m(study, func, n_trials, timeout, n_jobs, catch, callbacks, gc_after_trial, show_progress_bar)\u001b[0m\n\u001b[1;32m     99\u001b[0m     \u001b[38;5;28;01mfor\u001b[39;00m f \u001b[38;5;129;01min\u001b[39;00m completed:\n\u001b[0;32m--> 100\u001b[0m         \u001b[43mf\u001b[49m\u001b[38;5;241;43m.\u001b[39;49m\u001b[43mresult\u001b[49m\u001b[43m(\u001b[49m\u001b[43m)\u001b[49m\n\u001b[1;32m    102\u001b[0m futures\u001b[38;5;241m.\u001b[39madd(\n\u001b[1;32m    103\u001b[0m     executor\u001b[38;5;241m.\u001b[39msubmit(\n\u001b[1;32m    104\u001b[0m         _optimize_sequential,\n\u001b[0;32m   (...)\u001b[0m\n\u001b[1;32m    115\u001b[0m     )\n\u001b[1;32m    116\u001b[0m )\n",
      "File \u001b[0;32m~/miniforge3/lib/python3.12/concurrent/futures/_base.py:449\u001b[0m, in \u001b[0;36mFuture.result\u001b[0;34m(self, timeout)\u001b[0m\n\u001b[1;32m    448\u001b[0m \u001b[38;5;28;01melif\u001b[39;00m \u001b[38;5;28mself\u001b[39m\u001b[38;5;241m.\u001b[39m_state \u001b[38;5;241m==\u001b[39m FINISHED:\n\u001b[0;32m--> 449\u001b[0m     \u001b[38;5;28;01mreturn\u001b[39;00m \u001b[38;5;28;43mself\u001b[39;49m\u001b[38;5;241;43m.\u001b[39;49m\u001b[43m__get_result\u001b[49m\u001b[43m(\u001b[49m\u001b[43m)\u001b[49m\n\u001b[1;32m    451\u001b[0m \u001b[38;5;28mself\u001b[39m\u001b[38;5;241m.\u001b[39m_condition\u001b[38;5;241m.\u001b[39mwait(timeout)\n",
      "File \u001b[0;32m~/miniforge3/lib/python3.12/concurrent/futures/_base.py:401\u001b[0m, in \u001b[0;36mFuture.__get_result\u001b[0;34m(self)\u001b[0m\n\u001b[1;32m    400\u001b[0m \u001b[38;5;28;01mtry\u001b[39;00m:\n\u001b[0;32m--> 401\u001b[0m     \u001b[38;5;28;01mraise\u001b[39;00m \u001b[38;5;28mself\u001b[39m\u001b[38;5;241m.\u001b[39m_exception\n\u001b[1;32m    402\u001b[0m \u001b[38;5;28;01mfinally\u001b[39;00m:\n\u001b[1;32m    403\u001b[0m     \u001b[38;5;66;03m# Break a reference cycle with the exception in self._exception\u001b[39;00m\n",
      "File \u001b[0;32m~/miniforge3/lib/python3.12/concurrent/futures/thread.py:58\u001b[0m, in \u001b[0;36m_WorkItem.run\u001b[0;34m(self)\u001b[0m\n\u001b[1;32m     57\u001b[0m \u001b[38;5;28;01mtry\u001b[39;00m:\n\u001b[0;32m---> 58\u001b[0m     result \u001b[38;5;241m=\u001b[39m \u001b[38;5;28;43mself\u001b[39;49m\u001b[38;5;241;43m.\u001b[39;49m\u001b[43mfn\u001b[49m\u001b[43m(\u001b[49m\u001b[38;5;241;43m*\u001b[39;49m\u001b[38;5;28;43mself\u001b[39;49m\u001b[38;5;241;43m.\u001b[39;49m\u001b[43margs\u001b[49m\u001b[43m,\u001b[49m\u001b[43m \u001b[49m\u001b[38;5;241;43m*\u001b[39;49m\u001b[38;5;241;43m*\u001b[39;49m\u001b[38;5;28;43mself\u001b[39;49m\u001b[38;5;241;43m.\u001b[39;49m\u001b[43mkwargs\u001b[49m\u001b[43m)\u001b[49m\n\u001b[1;32m     59\u001b[0m \u001b[38;5;28;01mexcept\u001b[39;00m \u001b[38;5;167;01mBaseException\u001b[39;00m \u001b[38;5;28;01mas\u001b[39;00m exc:\n",
      "File \u001b[0;32m~/miniforge3/lib/python3.12/site-packages/optuna/study/_optimize.py:160\u001b[0m, in \u001b[0;36m_optimize_sequential\u001b[0;34m(study, func, n_trials, timeout, catch, callbacks, gc_after_trial, reseed_sampler_rng, time_start, progress_bar)\u001b[0m\n\u001b[1;32m    159\u001b[0m \u001b[38;5;28;01mtry\u001b[39;00m:\n\u001b[0;32m--> 160\u001b[0m     frozen_trial \u001b[38;5;241m=\u001b[39m \u001b[43m_run_trial\u001b[49m\u001b[43m(\u001b[49m\u001b[43mstudy\u001b[49m\u001b[43m,\u001b[49m\u001b[43m \u001b[49m\u001b[43mfunc\u001b[49m\u001b[43m,\u001b[49m\u001b[43m \u001b[49m\u001b[43mcatch\u001b[49m\u001b[43m)\u001b[49m\n\u001b[1;32m    161\u001b[0m \u001b[38;5;28;01mfinally\u001b[39;00m:\n\u001b[1;32m    162\u001b[0m     \u001b[38;5;66;03m# The following line mitigates memory problems that can be occurred in some\u001b[39;00m\n\u001b[1;32m    163\u001b[0m     \u001b[38;5;66;03m# environments (e.g., services that use computing containers such as GitHub Actions).\u001b[39;00m\n\u001b[1;32m    164\u001b[0m     \u001b[38;5;66;03m# Please refer to the following PR for further details:\u001b[39;00m\n\u001b[1;32m    165\u001b[0m     \u001b[38;5;66;03m# https://github.com/optuna/optuna/pull/325.\u001b[39;00m\n",
      "File \u001b[0;32m~/miniforge3/lib/python3.12/site-packages/optuna/study/_optimize.py:248\u001b[0m, in \u001b[0;36m_run_trial\u001b[0;34m(study, func, catch)\u001b[0m\n\u001b[1;32m    243\u001b[0m \u001b[38;5;28;01mif\u001b[39;00m (\n\u001b[1;32m    244\u001b[0m     frozen_trial\u001b[38;5;241m.\u001b[39mstate \u001b[38;5;241m==\u001b[39m TrialState\u001b[38;5;241m.\u001b[39mFAIL\n\u001b[1;32m    245\u001b[0m     \u001b[38;5;129;01mand\u001b[39;00m func_err \u001b[38;5;129;01mis\u001b[39;00m \u001b[38;5;129;01mnot\u001b[39;00m \u001b[38;5;28;01mNone\u001b[39;00m\n\u001b[1;32m    246\u001b[0m     \u001b[38;5;129;01mand\u001b[39;00m \u001b[38;5;129;01mnot\u001b[39;00m \u001b[38;5;28misinstance\u001b[39m(func_err, catch)\n\u001b[1;32m    247\u001b[0m ):\n\u001b[0;32m--> 248\u001b[0m     \u001b[38;5;28;01mraise\u001b[39;00m func_err\n\u001b[1;32m    249\u001b[0m \u001b[38;5;28;01mreturn\u001b[39;00m frozen_trial\n",
      "File \u001b[0;32m~/miniforge3/lib/python3.12/site-packages/optuna/study/_optimize.py:197\u001b[0m, in \u001b[0;36m_run_trial\u001b[0;34m(study, func, catch)\u001b[0m\n\u001b[1;32m    196\u001b[0m \u001b[38;5;28;01mtry\u001b[39;00m:\n\u001b[0;32m--> 197\u001b[0m     value_or_values \u001b[38;5;241m=\u001b[39m \u001b[43mfunc\u001b[49m\u001b[43m(\u001b[49m\u001b[43mtrial\u001b[49m\u001b[43m)\u001b[49m\n\u001b[1;32m    198\u001b[0m \u001b[38;5;28;01mexcept\u001b[39;00m exceptions\u001b[38;5;241m.\u001b[39mTrialPruned \u001b[38;5;28;01mas\u001b[39;00m e:\n\u001b[1;32m    199\u001b[0m     \u001b[38;5;66;03m# TODO(mamu): Handle multi-objective cases.\u001b[39;00m\n",
      "Cell \u001b[0;32mIn[76], line 133\u001b[0m, in \u001b[0;36mobjective\u001b[0;34m(trial)\u001b[0m\n\u001b[1;32m    132\u001b[0m \u001b[38;5;28;01mwith\u001b[39;00m torch\u001b[38;5;241m.\u001b[39mno_grad():\n\u001b[0;32m--> 133\u001b[0m     val_outputs \u001b[38;5;241m=\u001b[39m \u001b[43mmodel\u001b[49m\u001b[43m(\u001b[49m\u001b[43mval_features_tensor\u001b[49m\u001b[43m)\u001b[49m\n\u001b[1;32m    134\u001b[0m     val_probs \u001b[38;5;241m=\u001b[39m torch\u001b[38;5;241m.\u001b[39msigmoid(val_outputs)\u001b[38;5;241m.\u001b[39msqueeze()\u001b[38;5;241m.\u001b[39mnumpy()  \u001b[38;5;66;03m# Convert to probabilities\u001b[39;00m\n",
      "File \u001b[0;32m~/miniforge3/lib/python3.12/site-packages/torch/nn/modules/module.py:1736\u001b[0m, in \u001b[0;36mModule._wrapped_call_impl\u001b[0;34m(self, *args, **kwargs)\u001b[0m\n\u001b[1;32m   1735\u001b[0m \u001b[38;5;28;01melse\u001b[39;00m:\n\u001b[0;32m-> 1736\u001b[0m     \u001b[38;5;28;01mreturn\u001b[39;00m \u001b[38;5;28;43mself\u001b[39;49m\u001b[38;5;241;43m.\u001b[39;49m\u001b[43m_call_impl\u001b[49m\u001b[43m(\u001b[49m\u001b[38;5;241;43m*\u001b[39;49m\u001b[43margs\u001b[49m\u001b[43m,\u001b[49m\u001b[43m \u001b[49m\u001b[38;5;241;43m*\u001b[39;49m\u001b[38;5;241;43m*\u001b[39;49m\u001b[43mkwargs\u001b[49m\u001b[43m)\u001b[49m\n",
      "File \u001b[0;32m~/miniforge3/lib/python3.12/site-packages/torch/nn/modules/module.py:1747\u001b[0m, in \u001b[0;36mModule._call_impl\u001b[0;34m(self, *args, **kwargs)\u001b[0m\n\u001b[1;32m   1744\u001b[0m \u001b[38;5;28;01mif\u001b[39;00m \u001b[38;5;129;01mnot\u001b[39;00m (\u001b[38;5;28mself\u001b[39m\u001b[38;5;241m.\u001b[39m_backward_hooks \u001b[38;5;129;01mor\u001b[39;00m \u001b[38;5;28mself\u001b[39m\u001b[38;5;241m.\u001b[39m_backward_pre_hooks \u001b[38;5;129;01mor\u001b[39;00m \u001b[38;5;28mself\u001b[39m\u001b[38;5;241m.\u001b[39m_forward_hooks \u001b[38;5;129;01mor\u001b[39;00m \u001b[38;5;28mself\u001b[39m\u001b[38;5;241m.\u001b[39m_forward_pre_hooks\n\u001b[1;32m   1745\u001b[0m         \u001b[38;5;129;01mor\u001b[39;00m _global_backward_pre_hooks \u001b[38;5;129;01mor\u001b[39;00m _global_backward_hooks\n\u001b[1;32m   1746\u001b[0m         \u001b[38;5;129;01mor\u001b[39;00m _global_forward_hooks \u001b[38;5;129;01mor\u001b[39;00m _global_forward_pre_hooks):\n\u001b[0;32m-> 1747\u001b[0m     \u001b[38;5;28;01mreturn\u001b[39;00m \u001b[43mforward_call\u001b[49m\u001b[43m(\u001b[49m\u001b[38;5;241;43m*\u001b[39;49m\u001b[43margs\u001b[49m\u001b[43m,\u001b[49m\u001b[43m \u001b[49m\u001b[38;5;241;43m*\u001b[39;49m\u001b[38;5;241;43m*\u001b[39;49m\u001b[43mkwargs\u001b[49m\u001b[43m)\u001b[49m\n\u001b[1;32m   1749\u001b[0m result \u001b[38;5;241m=\u001b[39m \u001b[38;5;28;01mNone\u001b[39;00m\n",
      "File \u001b[0;32m~/miniforge3/lib/python3.12/site-packages/torch/nn/modules/container.py:250\u001b[0m, in \u001b[0;36mSequential.forward\u001b[0;34m(self, input)\u001b[0m\n\u001b[1;32m    249\u001b[0m \u001b[38;5;28;01mfor\u001b[39;00m module \u001b[38;5;129;01min\u001b[39;00m \u001b[38;5;28mself\u001b[39m:\n\u001b[0;32m--> 250\u001b[0m     \u001b[38;5;28minput\u001b[39m \u001b[38;5;241m=\u001b[39m \u001b[43mmodule\u001b[49m\u001b[43m(\u001b[49m\u001b[38;5;28;43minput\u001b[39;49m\u001b[43m)\u001b[49m\n\u001b[1;32m    251\u001b[0m \u001b[38;5;28;01mreturn\u001b[39;00m \u001b[38;5;28minput\u001b[39m\n",
      "File \u001b[0;32m~/miniforge3/lib/python3.12/site-packages/torch/nn/modules/module.py:1736\u001b[0m, in \u001b[0;36mModule._wrapped_call_impl\u001b[0;34m(self, *args, **kwargs)\u001b[0m\n\u001b[1;32m   1735\u001b[0m \u001b[38;5;28;01melse\u001b[39;00m:\n\u001b[0;32m-> 1736\u001b[0m     \u001b[38;5;28;01mreturn\u001b[39;00m \u001b[38;5;28;43mself\u001b[39;49m\u001b[38;5;241;43m.\u001b[39;49m\u001b[43m_call_impl\u001b[49m\u001b[43m(\u001b[49m\u001b[38;5;241;43m*\u001b[39;49m\u001b[43margs\u001b[49m\u001b[43m,\u001b[49m\u001b[43m \u001b[49m\u001b[38;5;241;43m*\u001b[39;49m\u001b[38;5;241;43m*\u001b[39;49m\u001b[43mkwargs\u001b[49m\u001b[43m)\u001b[49m\n",
      "File \u001b[0;32m~/miniforge3/lib/python3.12/site-packages/torch/nn/modules/module.py:1747\u001b[0m, in \u001b[0;36mModule._call_impl\u001b[0;34m(self, *args, **kwargs)\u001b[0m\n\u001b[1;32m   1744\u001b[0m \u001b[38;5;28;01mif\u001b[39;00m \u001b[38;5;129;01mnot\u001b[39;00m (\u001b[38;5;28mself\u001b[39m\u001b[38;5;241m.\u001b[39m_backward_hooks \u001b[38;5;129;01mor\u001b[39;00m \u001b[38;5;28mself\u001b[39m\u001b[38;5;241m.\u001b[39m_backward_pre_hooks \u001b[38;5;129;01mor\u001b[39;00m \u001b[38;5;28mself\u001b[39m\u001b[38;5;241m.\u001b[39m_forward_hooks \u001b[38;5;129;01mor\u001b[39;00m \u001b[38;5;28mself\u001b[39m\u001b[38;5;241m.\u001b[39m_forward_pre_hooks\n\u001b[1;32m   1745\u001b[0m         \u001b[38;5;129;01mor\u001b[39;00m _global_backward_pre_hooks \u001b[38;5;129;01mor\u001b[39;00m _global_backward_hooks\n\u001b[1;32m   1746\u001b[0m         \u001b[38;5;129;01mor\u001b[39;00m _global_forward_hooks \u001b[38;5;129;01mor\u001b[39;00m _global_forward_pre_hooks):\n\u001b[0;32m-> 1747\u001b[0m     \u001b[38;5;28;01mreturn\u001b[39;00m \u001b[43mforward_call\u001b[49m\u001b[43m(\u001b[49m\u001b[38;5;241;43m*\u001b[39;49m\u001b[43margs\u001b[49m\u001b[43m,\u001b[49m\u001b[43m \u001b[49m\u001b[38;5;241;43m*\u001b[39;49m\u001b[38;5;241;43m*\u001b[39;49m\u001b[43mkwargs\u001b[49m\u001b[43m)\u001b[49m\n\u001b[1;32m   1749\u001b[0m result \u001b[38;5;241m=\u001b[39m \u001b[38;5;28;01mNone\u001b[39;00m\n",
      "File \u001b[0;32m~/miniforge3/lib/python3.12/site-packages/torch/nn/modules/linear.py:125\u001b[0m, in \u001b[0;36mLinear.forward\u001b[0;34m(self, input)\u001b[0m\n\u001b[1;32m    124\u001b[0m \u001b[38;5;28;01mdef\u001b[39;00m \u001b[38;5;21mforward\u001b[39m(\u001b[38;5;28mself\u001b[39m, \u001b[38;5;28minput\u001b[39m: Tensor) \u001b[38;5;241m-\u001b[39m\u001b[38;5;241m>\u001b[39m Tensor:\n\u001b[0;32m--> 125\u001b[0m     \u001b[38;5;28;01mreturn\u001b[39;00m \u001b[43mF\u001b[49m\u001b[38;5;241;43m.\u001b[39;49m\u001b[43mlinear\u001b[49m\u001b[43m(\u001b[49m\u001b[38;5;28;43minput\u001b[39;49m\u001b[43m,\u001b[49m\u001b[43m \u001b[49m\u001b[38;5;28;43mself\u001b[39;49m\u001b[38;5;241;43m.\u001b[39;49m\u001b[43mweight\u001b[49m\u001b[43m,\u001b[49m\u001b[43m \u001b[49m\u001b[38;5;28;43mself\u001b[39;49m\u001b[38;5;241;43m.\u001b[39;49m\u001b[43mbias\u001b[49m\u001b[43m)\u001b[49m\n",
      "\u001b[0;31mRuntimeError\u001b[0m: Tensor for argument input is on cpu but expected on mps",
      "\nDuring handling of the above exception, another exception occurred:\n",
      "\u001b[0;31mKeyboardInterrupt\u001b[0m                         Traceback (most recent call last)",
      "Cell \u001b[0;32mIn[76], line 255\u001b[0m\n\u001b[1;32m    253\u001b[0m \u001b[38;5;66;03m# Create and run the Optuna study\u001b[39;00m\n\u001b[1;32m    254\u001b[0m study \u001b[38;5;241m=\u001b[39m optuna\u001b[38;5;241m.\u001b[39mcreate_study(direction\u001b[38;5;241m=\u001b[39m\u001b[38;5;124m'\u001b[39m\u001b[38;5;124mmaximize\u001b[39m\u001b[38;5;124m'\u001b[39m)\n\u001b[0;32m--> 255\u001b[0m \u001b[43mstudy\u001b[49m\u001b[38;5;241;43m.\u001b[39;49m\u001b[43moptimize\u001b[49m\u001b[43m(\u001b[49m\u001b[43mobjective\u001b[49m\u001b[43m,\u001b[49m\u001b[43m \u001b[49m\u001b[43mn_trials\u001b[49m\u001b[38;5;241;43m=\u001b[39;49m\u001b[38;5;241;43m100\u001b[39;49m\u001b[43m,\u001b[49m\u001b[43m \u001b[49m\u001b[43mn_jobs\u001b[49m\u001b[38;5;241;43m=\u001b[39;49m\u001b[38;5;241;43m4\u001b[39;49m\u001b[43m)\u001b[49m  \u001b[38;5;66;03m# Run 4 trials in parallel\u001b[39;00m\n\u001b[1;32m    257\u001b[0m \u001b[38;5;28;01mfor\u001b[39;00m emotion \u001b[38;5;129;01min\u001b[39;00m emotions:\n\u001b[1;32m    258\u001b[0m     \u001b[38;5;28mprint\u001b[39m(\u001b[38;5;124mf\u001b[39m\u001b[38;5;124m\"\u001b[39m\u001b[38;5;130;01m\\n\u001b[39;00m\u001b[38;5;124mBest hyperparameters for \u001b[39m\u001b[38;5;132;01m{\u001b[39;00memotion\u001b[38;5;132;01m}\u001b[39;00m\u001b[38;5;124m: \u001b[39m\u001b[38;5;132;01m{\u001b[39;00mbest_hyperparams[emotion]\u001b[38;5;132;01m}\u001b[39;00m\u001b[38;5;124m\"\u001b[39m)\n",
      "File \u001b[0;32m~/miniforge3/lib/python3.12/site-packages/optuna/study/study.py:475\u001b[0m, in \u001b[0;36mStudy.optimize\u001b[0;34m(self, func, n_trials, timeout, n_jobs, catch, callbacks, gc_after_trial, show_progress_bar)\u001b[0m\n\u001b[1;32m    373\u001b[0m \u001b[38;5;28;01mdef\u001b[39;00m \u001b[38;5;21moptimize\u001b[39m(\n\u001b[1;32m    374\u001b[0m     \u001b[38;5;28mself\u001b[39m,\n\u001b[1;32m    375\u001b[0m     func: ObjectiveFuncType,\n\u001b[0;32m   (...)\u001b[0m\n\u001b[1;32m    382\u001b[0m     show_progress_bar: \u001b[38;5;28mbool\u001b[39m \u001b[38;5;241m=\u001b[39m \u001b[38;5;28;01mFalse\u001b[39;00m,\n\u001b[1;32m    383\u001b[0m ) \u001b[38;5;241m-\u001b[39m\u001b[38;5;241m>\u001b[39m \u001b[38;5;28;01mNone\u001b[39;00m:\n\u001b[1;32m    384\u001b[0m \u001b[38;5;250m    \u001b[39m\u001b[38;5;124;03m\"\"\"Optimize an objective function.\u001b[39;00m\n\u001b[1;32m    385\u001b[0m \n\u001b[1;32m    386\u001b[0m \u001b[38;5;124;03m    Optimization is done by choosing a suitable set of hyperparameter values from a given\u001b[39;00m\n\u001b[0;32m   (...)\u001b[0m\n\u001b[1;32m    473\u001b[0m \u001b[38;5;124;03m            If nested invocation of this method occurs.\u001b[39;00m\n\u001b[1;32m    474\u001b[0m \u001b[38;5;124;03m    \"\"\"\u001b[39;00m\n\u001b[0;32m--> 475\u001b[0m     \u001b[43m_optimize\u001b[49m\u001b[43m(\u001b[49m\n\u001b[1;32m    476\u001b[0m \u001b[43m        \u001b[49m\u001b[43mstudy\u001b[49m\u001b[38;5;241;43m=\u001b[39;49m\u001b[38;5;28;43mself\u001b[39;49m\u001b[43m,\u001b[49m\n\u001b[1;32m    477\u001b[0m \u001b[43m        \u001b[49m\u001b[43mfunc\u001b[49m\u001b[38;5;241;43m=\u001b[39;49m\u001b[43mfunc\u001b[49m\u001b[43m,\u001b[49m\n\u001b[1;32m    478\u001b[0m \u001b[43m        \u001b[49m\u001b[43mn_trials\u001b[49m\u001b[38;5;241;43m=\u001b[39;49m\u001b[43mn_trials\u001b[49m\u001b[43m,\u001b[49m\n\u001b[1;32m    479\u001b[0m \u001b[43m        \u001b[49m\u001b[43mtimeout\u001b[49m\u001b[38;5;241;43m=\u001b[39;49m\u001b[43mtimeout\u001b[49m\u001b[43m,\u001b[49m\n\u001b[1;32m    480\u001b[0m \u001b[43m        \u001b[49m\u001b[43mn_jobs\u001b[49m\u001b[38;5;241;43m=\u001b[39;49m\u001b[43mn_jobs\u001b[49m\u001b[43m,\u001b[49m\n\u001b[1;32m    481\u001b[0m \u001b[43m        \u001b[49m\u001b[43mcatch\u001b[49m\u001b[38;5;241;43m=\u001b[39;49m\u001b[38;5;28;43mtuple\u001b[39;49m\u001b[43m(\u001b[49m\u001b[43mcatch\u001b[49m\u001b[43m)\u001b[49m\u001b[43m \u001b[49m\u001b[38;5;28;43;01mif\u001b[39;49;00m\u001b[43m \u001b[49m\u001b[38;5;28;43misinstance\u001b[39;49m\u001b[43m(\u001b[49m\u001b[43mcatch\u001b[49m\u001b[43m,\u001b[49m\u001b[43m \u001b[49m\u001b[43mIterable\u001b[49m\u001b[43m)\u001b[49m\u001b[43m \u001b[49m\u001b[38;5;28;43;01melse\u001b[39;49;00m\u001b[43m \u001b[49m\u001b[43m(\u001b[49m\u001b[43mcatch\u001b[49m\u001b[43m,\u001b[49m\u001b[43m)\u001b[49m\u001b[43m,\u001b[49m\n\u001b[1;32m    482\u001b[0m \u001b[43m        \u001b[49m\u001b[43mcallbacks\u001b[49m\u001b[38;5;241;43m=\u001b[39;49m\u001b[43mcallbacks\u001b[49m\u001b[43m,\u001b[49m\n\u001b[1;32m    483\u001b[0m \u001b[43m        \u001b[49m\u001b[43mgc_after_trial\u001b[49m\u001b[38;5;241;43m=\u001b[39;49m\u001b[43mgc_after_trial\u001b[49m\u001b[43m,\u001b[49m\n\u001b[1;32m    484\u001b[0m \u001b[43m        \u001b[49m\u001b[43mshow_progress_bar\u001b[49m\u001b[38;5;241;43m=\u001b[39;49m\u001b[43mshow_progress_bar\u001b[49m\u001b[43m,\u001b[49m\n\u001b[1;32m    485\u001b[0m \u001b[43m    \u001b[49m\u001b[43m)\u001b[49m\n",
      "File \u001b[0;32m~/miniforge3/lib/python3.12/site-packages/optuna/study/_optimize.py:82\u001b[0m, in \u001b[0;36m_optimize\u001b[0;34m(study, func, n_trials, timeout, n_jobs, catch, callbacks, gc_after_trial, show_progress_bar)\u001b[0m\n\u001b[1;32m     79\u001b[0m time_start \u001b[38;5;241m=\u001b[39m datetime\u001b[38;5;241m.\u001b[39mdatetime\u001b[38;5;241m.\u001b[39mnow()\n\u001b[1;32m     80\u001b[0m futures: \u001b[38;5;28mset\u001b[39m[Future] \u001b[38;5;241m=\u001b[39m \u001b[38;5;28mset\u001b[39m()\n\u001b[0;32m---> 82\u001b[0m \u001b[38;5;28;01mwith\u001b[39;00m ThreadPoolExecutor(max_workers\u001b[38;5;241m=\u001b[39mn_jobs) \u001b[38;5;28;01mas\u001b[39;00m executor:\n\u001b[1;32m     83\u001b[0m     \u001b[38;5;28;01mfor\u001b[39;00m n_submitted_trials \u001b[38;5;129;01min\u001b[39;00m itertools\u001b[38;5;241m.\u001b[39mcount():\n\u001b[1;32m     84\u001b[0m         \u001b[38;5;28;01mif\u001b[39;00m study\u001b[38;5;241m.\u001b[39m_stop_flag:\n",
      "File \u001b[0;32m~/miniforge3/lib/python3.12/concurrent/futures/_base.py:647\u001b[0m, in \u001b[0;36mExecutor.__exit__\u001b[0;34m(self, exc_type, exc_val, exc_tb)\u001b[0m\n\u001b[1;32m    646\u001b[0m \u001b[38;5;28;01mdef\u001b[39;00m \u001b[38;5;21m__exit__\u001b[39m(\u001b[38;5;28mself\u001b[39m, exc_type, exc_val, exc_tb):\n\u001b[0;32m--> 647\u001b[0m     \u001b[38;5;28;43mself\u001b[39;49m\u001b[38;5;241;43m.\u001b[39;49m\u001b[43mshutdown\u001b[49m\u001b[43m(\u001b[49m\u001b[43mwait\u001b[49m\u001b[38;5;241;43m=\u001b[39;49m\u001b[38;5;28;43;01mTrue\u001b[39;49;00m\u001b[43m)\u001b[49m\n\u001b[1;32m    648\u001b[0m     \u001b[38;5;28;01mreturn\u001b[39;00m \u001b[38;5;28;01mFalse\u001b[39;00m\n",
      "File \u001b[0;32m~/miniforge3/lib/python3.12/concurrent/futures/thread.py:238\u001b[0m, in \u001b[0;36mThreadPoolExecutor.shutdown\u001b[0;34m(self, wait, cancel_futures)\u001b[0m\n\u001b[1;32m    236\u001b[0m \u001b[38;5;28;01mif\u001b[39;00m wait:\n\u001b[1;32m    237\u001b[0m     \u001b[38;5;28;01mfor\u001b[39;00m t \u001b[38;5;129;01min\u001b[39;00m \u001b[38;5;28mself\u001b[39m\u001b[38;5;241m.\u001b[39m_threads:\n\u001b[0;32m--> 238\u001b[0m         \u001b[43mt\u001b[49m\u001b[38;5;241;43m.\u001b[39;49m\u001b[43mjoin\u001b[49m\u001b[43m(\u001b[49m\u001b[43m)\u001b[49m\n",
      "File \u001b[0;32m~/miniforge3/lib/python3.12/threading.py:1149\u001b[0m, in \u001b[0;36mThread.join\u001b[0;34m(self, timeout)\u001b[0m\n\u001b[1;32m   1146\u001b[0m     \u001b[38;5;28;01mraise\u001b[39;00m \u001b[38;5;167;01mRuntimeError\u001b[39;00m(\u001b[38;5;124m\"\u001b[39m\u001b[38;5;124mcannot join current thread\u001b[39m\u001b[38;5;124m\"\u001b[39m)\n\u001b[1;32m   1148\u001b[0m \u001b[38;5;28;01mif\u001b[39;00m timeout \u001b[38;5;129;01mis\u001b[39;00m \u001b[38;5;28;01mNone\u001b[39;00m:\n\u001b[0;32m-> 1149\u001b[0m     \u001b[38;5;28;43mself\u001b[39;49m\u001b[38;5;241;43m.\u001b[39;49m\u001b[43m_wait_for_tstate_lock\u001b[49m\u001b[43m(\u001b[49m\u001b[43m)\u001b[49m\n\u001b[1;32m   1150\u001b[0m \u001b[38;5;28;01melse\u001b[39;00m:\n\u001b[1;32m   1151\u001b[0m     \u001b[38;5;66;03m# the behavior of a negative timeout isn't documented, but\u001b[39;00m\n\u001b[1;32m   1152\u001b[0m     \u001b[38;5;66;03m# historically .join(timeout=x) for x<0 has acted as if timeout=0\u001b[39;00m\n\u001b[1;32m   1153\u001b[0m     \u001b[38;5;28mself\u001b[39m\u001b[38;5;241m.\u001b[39m_wait_for_tstate_lock(timeout\u001b[38;5;241m=\u001b[39m\u001b[38;5;28mmax\u001b[39m(timeout, \u001b[38;5;241m0\u001b[39m))\n",
      "File \u001b[0;32m~/miniforge3/lib/python3.12/threading.py:1169\u001b[0m, in \u001b[0;36mThread._wait_for_tstate_lock\u001b[0;34m(self, block, timeout)\u001b[0m\n\u001b[1;32m   1166\u001b[0m     \u001b[38;5;28;01mreturn\u001b[39;00m\n\u001b[1;32m   1168\u001b[0m \u001b[38;5;28;01mtry\u001b[39;00m:\n\u001b[0;32m-> 1169\u001b[0m     \u001b[38;5;28;01mif\u001b[39;00m \u001b[43mlock\u001b[49m\u001b[38;5;241;43m.\u001b[39;49m\u001b[43macquire\u001b[49m\u001b[43m(\u001b[49m\u001b[43mblock\u001b[49m\u001b[43m,\u001b[49m\u001b[43m \u001b[49m\u001b[43mtimeout\u001b[49m\u001b[43m)\u001b[49m:\n\u001b[1;32m   1170\u001b[0m         lock\u001b[38;5;241m.\u001b[39mrelease()\n\u001b[1;32m   1171\u001b[0m         \u001b[38;5;28mself\u001b[39m\u001b[38;5;241m.\u001b[39m_stop()\n",
      "\u001b[0;31mKeyboardInterrupt\u001b[0m: "
     ]
    }
   ],
   "source": [
    "import optuna\n",
    "import torch\n",
    "from torch.utils.data import DataLoader\n",
    "from torch.cuda.amp import GradScaler, autocast\n",
    "from sklearn.metrics import f1_score\n",
    "import logging\n",
    "\n",
    "logging.basicConfig(level=logging.INFO)\n",
    "\n",
    "# Initialize dictionaries to store best hyperparameters and thresholds for each emotion\n",
    "best_hyperparams = {emotion: None for emotion in emotions}\n",
    "best_thresholds = {emotion: 0.5 for emotion in emotions}\n",
    "best_macro_f1s = {emotion: 0 for emotion in emotions}\n",
    "\n",
    "# Initialize a global dictionary to store the best model state dicts\n",
    "best_model_state_dicts = {}\n",
    "\n",
    "# Update model architecture with current dropout rate\n",
    "models = {}\n",
    "\n",
    "# Iterate over all combinations of hyper-parameters\n",
    "# Define the objective function\n",
    "def objective(trial):\n",
    "    # Suggest hyperparameters\n",
    "    lr = 1e-3 #trial.suggest_loguniform('learning_rate', 1e-4, 1e-2)\n",
    "    batch_size = 32 #trial.suggest_categorical('batch_size', [16, 32, 64, 128])\n",
    "    dropout_rate = trial.suggest_uniform('dropout_rate', 0.2, 0.5)\n",
    "    weight_decay = trial.suggest_loguniform('weight_decay', 1e-5, 1e-2)\n",
    "\n",
    "    scaler = GradScaler()\n",
    "    \n",
    "    for emotion in emotions:\n",
    "        input_size = final_train_features[emotion].shape[1]\n",
    "        models[emotion] = nn.Sequential(\n",
    "            nn.Linear(input_size, 256),\n",
    "            nn.BatchNorm1d(256),\n",
    "            nn.ReLU(),\n",
    "            nn.Dropout(dropout_rate),\n",
    "            nn.Linear(256, 128),\n",
    "            nn.BatchNorm1d(128),\n",
    "            nn.ReLU(),\n",
    "            nn.Dropout(dropout_rate),\n",
    "            nn.Linear(128, 64),\n",
    "            nn.BatchNorm1d(64),\n",
    "            nn.ReLU(),\n",
    "            nn.Linear(64, 1)\n",
    "        )\n",
    "\n",
    "    # Training loop for each emotion\n",
    "    # best_macro_f1 = 0\n",
    "    for emotion in emotions:\n",
    "        print(f\"\\nTraining model for {emotion}\")\n",
    "        model = models[emotion]\n",
    "        model.train()  # Add this to explicitly set training mode\n",
    "        \n",
    "        # Prepare data for this emotion\n",
    "        features_tensor = torch.tensor(final_train_features[emotion], dtype=torch.float32)\n",
    "        labels_tensor = torch.tensor(y_train[:, emotions.index(emotion)], dtype=torch.float32).unsqueeze(1)\n",
    "        \n",
    "        # Add validation tensors\n",
    "        val_features_tensor = torch.tensor(final_val_features[emotion], dtype=torch.float32)\n",
    "        val_labels_tensor = torch.tensor(y_val[:, emotions.index(emotion)], dtype=torch.float32).unsqueeze(1)\n",
    "        print(f\"Validation features shape for {emotion}: {val_features_tensor.shape}\")\n",
    "        \n",
    "        dataset = TensorDataset(features_tensor, labels_tensor)\n",
    "        data_loader = DataLoader(dataset, batch_size=batch_size, shuffle=True)  # Increased batch size\n",
    "\n",
    "        # Calculate class weights for this emotion\n",
    "        pos_weight = (len(labels_tensor) - labels_tensor.sum()) / labels_tensor.sum()\n",
    "        criterion = nn.BCEWithLogitsLoss(pos_weight=pos_weight)  # Better handling of class imbalance\n",
    "        \n",
    "        # Use Adam optimizer with learning rate scheduler\n",
    "        optimizer = optim.Adam(model.parameters(), lr=lr, weight_decay=weight_decay)\n",
    "        scheduler = ReduceLROnPlateau(optimizer, mode='max', patience=5, factor=0.5, verbose=True)\n",
    "\n",
    "        # Determine the device to use\n",
    "        if torch.backends.mps.is_available():\n",
    "            device = torch.device('mps')\n",
    "        else:\n",
    "            device = torch.device('cuda' if torch.cuda.is_available() else 'cpu')\n",
    "        model.to(device)\n",
    "\n",
    "        # Training loop\n",
    "        best_f1 = 0\n",
    "        patience = 10\n",
    "        patience_counter = 0\n",
    "        train_losses = []\n",
    "        val_f1s = []\n",
    "        \n",
    "        for epoch in tqdm(range(401), desc=f\"Training Loop ({emotion})\", unit=\"epoch\"):\n",
    "            # Training phase\n",
    "            model.train()\n",
    "            epoch_loss = 0\n",
    "            batch_count = 0\n",
    "            \n",
    "            for features, labels in tqdm(data_loader, desc=f\"Epoch {epoch+1}/{401} Batches\", leave=False, unit=\"batch\"):\n",
    "                features, labels = features.to(device), labels.to(device)\n",
    "                optimizer.zero_grad()\n",
    "                with autocast():\n",
    "                    outputs = model(features)\n",
    "                    loss = criterion(outputs, labels)\n",
    "                scaler.scale(loss).backward()\n",
    "                scaler.step(optimizer)\n",
    "                scaler.update()\n",
    "                \n",
    "                # Forward pass for original data\n",
    "                outputs = model(features)\n",
    "                loss = criterion(outputs, labels)\n",
    "\n",
    "                # Generate adversarial examples\n",
    "                adv_features = add_adversarial_noise(model, features, labels)\n",
    "\n",
    "                # Forward pass for adversarial examples\n",
    "                adv_outputs = model(adv_features)\n",
    "                adv_loss = criterion(adv_outputs, labels)\n",
    "\n",
    "                # Combine losses\n",
    "                total_loss = loss + adv_loss\n",
    "\n",
    "                # Backward pass and optimize\n",
    "                total_loss.backward()\n",
    "                optimizer.step()\n",
    "\n",
    "                epoch_loss += total_loss.item()\n",
    "                batch_count += 1\n",
    "\n",
    "            avg_train_loss = epoch_loss / batch_count\n",
    "            train_losses.append(avg_train_loss)  # Append average training loss\n",
    "            \n",
    "            # Validation phase\n",
    "            model.eval()\n",
    "            with torch.no_grad():\n",
    "                val_outputs = model(val_features_tensor)\n",
    "                val_probs = torch.sigmoid(val_outputs).squeeze().numpy()  # Convert to probabilities\n",
    "                val_labels = val_labels_tensor.squeeze().numpy()\n",
    "                \n",
    "                # Calculate macro F1 score using a default threshold (e.g., 0.5)\n",
    "                val_preds = (val_probs > 0.5).astype(float)\n",
    "                macro_f1 = f1_score(val_labels, val_preds, average='macro', zero_division=0)\n",
    "                trial.report(macro_f1, epoch)\n",
    "\n",
    "                if trial.should_prune():\n",
    "                    raise optuna.exceptions.TrialPruned()\n",
    "\n",
    "                val_f1s.append(macro_f1)  # Append validation F1 score\n",
    "                \n",
    "                if macro_f1 > best_f1:\n",
    "                    best_f1 = macro_f1\n",
    "                    # Save best model\n",
    "                    model_path = f'./model_checkpoints/{emotion}_best.pth'\n",
    "                    torch.save({\n",
    "                        'epoch': epoch,\n",
    "                        'model_state_dict': model.state_dict(),\n",
    "                        'optimizer_state_dict': optimizer.state_dict(),\n",
    "                        'loss': avg_train_loss,\n",
    "                        'f1': best_f1\n",
    "                    }, model_path)\n",
    "                    # Save best model state dict to the global dictionary\n",
    "                    best_model_state_dicts[emotion] = model.state_dict()\n",
    "                    print(f\"\\nNew best model for {emotion} at epoch {epoch} with F1: {best_f1:.4f}\")\n",
    "                    patience_counter = 0\n",
    "                else:\n",
    "                    patience_counter += 1\n",
    "                \n",
    "                # # Update the learning rate based on the validation F1 score\n",
    "                scheduler.step(macro_f1)\n",
    "\n",
    "            # Early stopping\n",
    "            if patience_counter >= patience:\n",
    "                print(f\"\\nEarly stopping triggered at epoch {epoch}\")\n",
    "                break\n",
    "                        # Check if this is the best macro F1 score\n",
    "\n",
    "        # Load best model for this emotion\n",
    "        checkpoint = torch.load(f'./model_checkpoints/{emotion}_best.pth')\n",
    "        model.load_state_dict(checkpoint['model_state_dict'])\n",
    "        print(f\"\\nLoaded best model for {emotion} from epoch {checkpoint['epoch']} with F1: {checkpoint['f1']:.4f}\")\n",
    "\n",
    "        model.load_state_dict(best_model_state_dicts[emotion])\n",
    "        print(f\"\\nLoaded best model for {emotion} with F1: {best_f1:.4f}\")\n",
    "\n",
    "        # Update the global models dictionary with the best model\n",
    "        models[emotion] = model\n",
    "\n",
    "        # Load best model state dict from the global dictionary\n",
    "        model.load_state_dict(best_model_state_dicts[emotion])\n",
    "        print(f\"\\nLoaded best model for {emotion} with F1: {best_f1:.4f}\")\n",
    "\n",
    "        # Optimize threshold after training\n",
    "        print(f\"\\nOptimizing threshold for {emotion}...\")\n",
    "        model.eval()\n",
    "        with torch.no_grad():\n",
    "            val_outputs = model(val_features_tensor)\n",
    "            val_probs = torch.sigmoid(val_outputs).squeeze().numpy()\n",
    "            val_labels = val_labels_tensor.squeeze().numpy()\n",
    "            \n",
    "            # Perform threshold grid search\n",
    "            thresholds = np.arange(0.1, 0.9, 0.05)\n",
    "            best_threshold = 0.5\n",
    "            best_macro_f1 = 0\n",
    "            \n",
    "            for threshold in thresholds:\n",
    "                val_preds = (val_probs > threshold).astype(float)\n",
    "                macro_f1 = f1_score(val_labels, val_preds, average='macro', zero_division=0)\n",
    "                \n",
    "                if macro_f1 > best_macro_f1:\n",
    "                    best_macro_f1 = macro_f1\n",
    "                    best_threshold = threshold\n",
    "            \n",
    "            print(f\"Best threshold for {emotion}: {best_threshold:.2f} with Macro F1: {best_macro_f1:.4f}\")\n",
    "        \n",
    "        if best_f1 > best_macro_f1s[emotion]:\n",
    "            best_macro_f1s[emotion] = best_macro_f1\n",
    "            best_thresholds[emotion] = best_threshold\n",
    "            best_hyperparams[emotion] = {\n",
    "                'learning_rate': lr,\n",
    "                'batch_size': batch_size,\n",
    "                'dropout_rate': dropout_rate,\n",
    "                'weight_decay': weight_decay\n",
    "            }\n",
    "            \n",
    "        # Plot training curves\n",
    "        plt.figure(figsize=(12, 4))\n",
    "        \n",
    "        plt.subplot(1, 2, 1)\n",
    "        plt.plot(range(len(train_losses)), train_losses, label='Training Loss')\n",
    "        plt.title(f'Training Loss for {emotion}')\n",
    "        plt.xlabel('Epoch (x10)')\n",
    "        plt.ylabel('Loss')\n",
    "        plt.grid(True)\n",
    "        plt.legend()\n",
    "        \n",
    "        plt.subplot(1, 2, 2)\n",
    "        plt.plot(range(len(val_f1s)), val_f1s, label='Validation F1')\n",
    "        plt.title(f'Validation Macro F1 for {emotion}')\n",
    "        plt.xlabel('Epoch (x10)')\n",
    "        plt.ylabel('Macro F1')\n",
    "        plt.grid(True)\n",
    "        plt.legend()\n",
    "        \n",
    "        plt.tight_layout()\n",
    "        plt.show()\n",
    "\n",
    "        # Report intermediate results to Optuna\n",
    "        trial.report(macro_f1, epoch)\n",
    "\n",
    "        # Prune unpromising trials\n",
    "        if trial.should_prune():\n",
    "            raise optuna.exceptions.TrialPruned()\n",
    "\n",
    "    return sum(best_macro_f1s.values()) / len(emotions)  # Return average macro F1\n",
    "\n",
    "# Create and run the Optuna study\n",
    "study = optuna.create_study(direction='maximize')\n",
    "study.optimize(objective, n_trials=100, n_jobs=4)  # Run 4 trials in parallel\n",
    "\n",
    "for emotion in emotions:\n",
    "    print(f\"\\nBest hyperparameters for {emotion}: {best_hyperparams[emotion]}\")\n",
    "    print(f\"Best threshold for {emotion}: {best_thresholds[emotion]:.3f} with Macro F1: {best_macro_f1s[emotion]:.4f}\")\n",
    "\n",
    "# After the study, you can access the best models from the global dictionary\n",
    "for emotion in emotions:\n",
    "    print(f\"\\nBest model state dict for {emotion}: {best_model_state_dicts[emotion]}\")\n",
    "    # Ensure the models dictionary is updated with the best model\n",
    "    models[emotion].load_state_dict(best_model_state_dicts[emotion])"
   ]
  },
  {
   "cell_type": "markdown",
   "metadata": {},
   "source": [
    "Previous F1 scores for each emotion before threshold tuning and hyperparameter search:\n",
    "\n",
    "Here are the macro f1 scores for each emotion: \n",
    "\n",
    "Using best joy model from epoch 10 with F1: 0.727\n",
    "Using best sadness model from epoch 12 with F1: 0.789\n",
    "Using best surprise model from epoch 7 with F1: 0.733\n",
    "Using best fear model from epoch 6 with F1: 0.714\n",
    "Using best anger model from epoch 3 with F1: 0.728\n",
    "\n",
    "Final average macro f1 be 0.62?"
   ]
  },
  {
   "cell_type": "markdown",
   "metadata": {},
   "source": [
    "### Complete same training loop for all emotions using macro F1 score"
   ]
  },
  {
   "cell_type": "code",
   "execution_count": 25,
   "metadata": {},
   "outputs": [],
   "source": [
    "# Save predictions\n",
    "def save_predictions(predictions, ids, filename):\n",
    "    df_predictions = pd.DataFrame(predictions, columns=emotions)\n",
    "    df_predictions['id'] = ids\n",
    "    df_predictions = df_predictions[['id'] + emotions]\n",
    "    df_predictions.to_csv(filename, index=False)\n",
    "    print(f\"Saved predictions to {filename}\")"
   ]
  },
  {
   "cell_type": "markdown",
   "metadata": {},
   "source": [
    "### Run Final Models and make final predictions for submission"
   ]
  },
  {
   "cell_type": "code",
   "execution_count": 26,
   "metadata": {},
   "outputs": [
    {
     "name": "stdout",
     "output_type": "stream",
     "text": [
      "\n",
      "Generating predictions for all emotions...\n",
      "Using best joy model from epoch 10 with F1: 0.727\n"
     ]
    },
    {
     "name": "stderr",
     "output_type": "stream",
     "text": [
      "/var/folders/sx/hkqgssrx0jd_jb2_792hz_hm0000gp/T/ipykernel_18361/184351224.py:11: FutureWarning: You are using `torch.load` with `weights_only=False` (the current default value), which uses the default pickle module implicitly. It is possible to construct malicious pickle data which will execute arbitrary code during unpickling (See https://github.com/pytorch/pytorch/blob/main/SECURITY.md#untrusted-models for more details). In a future release, the default value for `weights_only` will be flipped to `True`. This limits the functions that could be executed during unpickling. Arbitrary objects will no longer be allowed to be loaded via this mode unless they are explicitly allowlisted by the user via `torch.serialization.add_safe_globals`. We recommend you start setting `weights_only=True` for any use case where you don't have full control of the loaded file. Please open an issue on GitHub for any issues related to this experimental feature.\n",
      "  checkpoint = torch.load(f'./model_checkpoints/{emotion}_best.pth')\n"
     ]
    },
    {
     "name": "stdout",
     "output_type": "stream",
     "text": [
      "Using best sadness model from epoch 12 with F1: 0.789\n",
      "Using best surprise model from epoch 7 with F1: 0.733\n",
      "Using best fear model from epoch 6 with F1: 0.714\n",
      "Using best anger model from epoch 3 with F1: 0.728\n",
      "\n",
      "Performing threshold grid search...\n"
     ]
    },
    {
     "name": "stderr",
     "output_type": "stream",
     "text": [
      "Testing thresholds:   0%|          | 0/16 [00:00<?, ?it/s]/Users/angwang/miniforge3/lib/python3.12/site-packages/sklearn/metrics/_classification.py:1531: UndefinedMetricWarning: Jaccard is ill-defined and being set to 0.0 in samples with no true or predicted labels. Use `zero_division` parameter to control this behavior.\n",
      "  _warn_prf(average, modifier, f\"{metric.capitalize()} is\", len(result))\n",
      "Testing thresholds:  25%|██▌       | 4/16 [00:00<00:00, 38.84it/s]/Users/angwang/miniforge3/lib/python3.12/site-packages/sklearn/metrics/_classification.py:1531: UndefinedMetricWarning: Jaccard is ill-defined and being set to 0.0 in samples with no true or predicted labels. Use `zero_division` parameter to control this behavior.\n",
      "  _warn_prf(average, modifier, f\"{metric.capitalize()} is\", len(result))\n",
      "/Users/angwang/miniforge3/lib/python3.12/site-packages/sklearn/metrics/_classification.py:1531: UndefinedMetricWarning: Jaccard is ill-defined and being set to 0.0 in samples with no true or predicted labels. Use `zero_division` parameter to control this behavior.\n",
      "  _warn_prf(average, modifier, f\"{metric.capitalize()} is\", len(result))\n",
      "/Users/angwang/miniforge3/lib/python3.12/site-packages/sklearn/metrics/_classification.py:1531: UndefinedMetricWarning: Jaccard is ill-defined and being set to 0.0 in samples with no true or predicted labels. Use `zero_division` parameter to control this behavior.\n",
      "  _warn_prf(average, modifier, f\"{metric.capitalize()} is\", len(result))\n",
      "/Users/angwang/miniforge3/lib/python3.12/site-packages/sklearn/metrics/_classification.py:1531: UndefinedMetricWarning: Jaccard is ill-defined and being set to 0.0 in samples with no true or predicted labels. Use `zero_division` parameter to control this behavior.\n",
      "  _warn_prf(average, modifier, f\"{metric.capitalize()} is\", len(result))\n",
      "/Users/angwang/miniforge3/lib/python3.12/site-packages/sklearn/metrics/_classification.py:1531: UndefinedMetricWarning: Jaccard is ill-defined and being set to 0.0 in samples with no true or predicted labels. Use `zero_division` parameter to control this behavior.\n",
      "  _warn_prf(average, modifier, f\"{metric.capitalize()} is\", len(result))\n",
      "/Users/angwang/miniforge3/lib/python3.12/site-packages/sklearn/metrics/_classification.py:1531: UndefinedMetricWarning: Jaccard is ill-defined and being set to 0.0 in samples with no true or predicted labels. Use `zero_division` parameter to control this behavior.\n",
      "  _warn_prf(average, modifier, f\"{metric.capitalize()} is\", len(result))\n",
      "/Users/angwang/miniforge3/lib/python3.12/site-packages/sklearn/metrics/_classification.py:1531: UndefinedMetricWarning: Jaccard is ill-defined and being set to 0.0 in samples with no true or predicted labels. Use `zero_division` parameter to control this behavior.\n",
      "  _warn_prf(average, modifier, f\"{metric.capitalize()} is\", len(result))\n",
      "/Users/angwang/miniforge3/lib/python3.12/site-packages/sklearn/metrics/_classification.py:1531: UndefinedMetricWarning: Jaccard is ill-defined and being set to 0.0 in samples with no true or predicted labels. Use `zero_division` parameter to control this behavior.\n",
      "  _warn_prf(average, modifier, f\"{metric.capitalize()} is\", len(result))\n",
      "/Users/angwang/miniforge3/lib/python3.12/site-packages/sklearn/metrics/_classification.py:1531: UndefinedMetricWarning: Jaccard is ill-defined and being set to 0.0 in samples with no true or predicted labels. Use `zero_division` parameter to control this behavior.\n",
      "  _warn_prf(average, modifier, f\"{metric.capitalize()} is\", len(result))\n",
      "/Users/angwang/miniforge3/lib/python3.12/site-packages/sklearn/metrics/_classification.py:1531: UndefinedMetricWarning: Jaccard is ill-defined and being set to 0.0 in samples with no true or predicted labels. Use `zero_division` parameter to control this behavior.\n",
      "  _warn_prf(average, modifier, f\"{metric.capitalize()} is\", len(result))\n",
      "/Users/angwang/miniforge3/lib/python3.12/site-packages/sklearn/metrics/_classification.py:1531: UndefinedMetricWarning: Jaccard is ill-defined and being set to 0.0 in samples with no true or predicted labels. Use `zero_division` parameter to control this behavior.\n",
      "  _warn_prf(average, modifier, f\"{metric.capitalize()} is\", len(result))\n",
      "/Users/angwang/miniforge3/lib/python3.12/site-packages/sklearn/metrics/_classification.py:1531: UndefinedMetricWarning: Jaccard is ill-defined and being set to 0.0 in samples with no true or predicted labels. Use `zero_division` parameter to control this behavior.\n",
      "  _warn_prf(average, modifier, f\"{metric.capitalize()} is\", len(result))\n",
      "Testing thresholds: 100%|██████████| 16/16 [00:00<00:00, 79.26it/s]\n"
     ]
    },
    {
     "name": "stdout",
     "output_type": "stream",
     "text": [
      "\n",
      "Best Results:\n",
      "Best threshold: 0.500\n",
      "Best Macro F1: 0.622\n"
     ]
    },
    {
     "data": {
      "image/png": "[encoded data removed]",
      "text/plain": [
       "<Figure size 1000x600 with 1 Axes>"
      ]
     },
     "metadata": {},
     "output_type": "display_data"
    },
    {
     "name": "stdout",
     "output_type": "stream",
     "text": [
      "\n",
      "Final Validation Performance with Best Threshold:\n",
      "              precision    recall  f1-score   support\n",
      "\n",
      "         joy       0.71      0.48      0.58        31\n",
      "     sadness       0.81      0.60      0.69        35\n",
      "    surprise       0.65      0.55      0.60        31\n",
      "        fear       0.75      0.71      0.73        63\n",
      "       anger       0.64      0.44      0.52        16\n",
      "\n",
      "   micro avg       0.73      0.60      0.66       176\n",
      "   macro avg       0.71      0.56      0.62       176\n",
      "weighted avg       0.73      0.60      0.65       176\n",
      " samples avg       0.62      0.55      0.56       176\n",
      "\n",
      "Saved predictions to ../results/val_predictions_threshold_0.500_2025-01-30_19_11_35.csv\n",
      "Saved predictions to ../results/test_predictions_threshold_0.500_2025-01-30_19_11_35.csv\n",
      "\n",
      "Per-emotion performance at best threshold:\n",
      "joy: F1 = 0.577\n",
      "sadness: F1 = 0.689\n",
      "surprise: F1 = 0.596\n",
      "fear: F1 = 0.732\n",
      "anger: F1 = 0.519\n"
     ]
    },
    {
     "name": "stderr",
     "output_type": "stream",
     "text": [
      "/Users/angwang/miniforge3/lib/python3.12/site-packages/sklearn/metrics/_classification.py:1531: UndefinedMetricWarning: Precision is ill-defined and being set to 0.0 in samples with no predicted labels. Use `zero_division` parameter to control this behavior.\n",
      "  _warn_prf(average, modifier, f\"{metric.capitalize()} is\", len(result))\n",
      "/Users/angwang/miniforge3/lib/python3.12/site-packages/sklearn/metrics/_classification.py:1531: UndefinedMetricWarning: Recall is ill-defined and being set to 0.0 in samples with no true labels. Use `zero_division` parameter to control this behavior.\n",
      "  _warn_prf(average, modifier, f\"{metric.capitalize()} is\", len(result))\n",
      "/Users/angwang/miniforge3/lib/python3.12/site-packages/sklearn/metrics/_classification.py:1531: UndefinedMetricWarning: F-score is ill-defined and being set to 0.0 in samples with no true nor predicted labels. Use `zero_division` parameter to control this behavior.\n",
      "  _warn_prf(average, modifier, f\"{metric.capitalize()} is\", len(result))\n"
     ]
    }
   ],
   "source": [
    "# After training loop finishes for all emotions...\n",
    "\n",
    "# Make predictions for each emotion using best models\n",
    "print(\"\\nGenerating predictions for all emotions...\")\n",
    "val_preds = {}\n",
    "test_preds = {}\n",
    "\n",
    "for emotion in emotions:\n",
    "    # Load the best model for this emotion\n",
    "    model = models[emotion]\n",
    "    checkpoint = torch.load(f'./model_checkpoints/{emotion}_best.pth')\n",
    "    model.load_state_dict(checkpoint['model_state_dict'])\n",
    "    model.eval()  # Set to evaluation mode\n",
    "    \n",
    "    print(f\"Using best {emotion} model from epoch {checkpoint['epoch']} with F1: {checkpoint['f1']:.3f}\")\n",
    "    \n",
    "    with torch.no_grad():\n",
    "        # Get raw probabilities using sigmoid\n",
    "        val_outputs = model(torch.tensor(final_val_features[emotion], dtype=torch.float32))\n",
    "        val_probs = torch.sigmoid(val_outputs).numpy()\n",
    "        val_preds[emotion] = (val_probs > best_thresholds[emotion]).astype(int)  # Apply threshold\n",
    "        \n",
    "        test_outputs = model(torch.tensor(final_test_features[emotion], dtype=torch.float32))\n",
    "        test_probs = torch.sigmoid(test_outputs).numpy()\n",
    "        test_preds[emotion] = (test_probs > best_thresholds[emotion]).astype(int)  # Apply threshold\n",
    "\n",
    "# Combine predictions\n",
    "val_probs = np.hstack([val_preds[emotion] for emotion in emotions])\n",
    "test_probs = np.hstack([test_preds[emotion] for emotion in emotions])\n",
    "\n",
    "# Grid search for optimal threshold\n",
    "# print(\"\\nPerforming threshold grid search...\")\n",
    "# thresholds = np.arange(0.1, 0.9, 0.05)\n",
    "# best_threshold = 0\n",
    "# best_macro_f1 = 0\n",
    "# results = []\n",
    "\n",
    "# # Calculate metrics\n",
    "# macro_f1 = f1_score(val[emotions].values, val_probs, average='macro')\n",
    "# micro_f1 = f1_score(val[emotions].values, val_probs, average='micro')\n",
    "# jaccard = jaccard_score(val[emotions].values, val_probs, average='samples')\n",
    "\n",
    "# results.append({\n",
    "#     'macro_f1': macro_f1,\n",
    "#     'micro_f1': micro_f1,\n",
    "#     'jaccard': jaccard\n",
    "# })\n",
    "\n",
    "# Generate final predictions using best threshold\n",
    "# val_binary_preds = (val_probs > best_threshold).astype(int)\n",
    "# test_binary_preds = (test_probs > best_threshold).astype(int)\n",
    "\n",
    "# Print detailed performance report\n",
    "print(\"\\nFinal Validation Performance with Best Threshold:\")\n",
    "print(classification_report(\n",
    "    val[emotions].values,\n",
    "    val_probs,\n",
    "    target_names=emotions\n",
    "))\n",
    "\n",
    "# Save predictions\n",
    "timestamp = datetime.now().strftime('%Y-%m-%d_%H_%M_%S')\n",
    "\n",
    "# Save validation predictions\n",
    "save_predictions(\n",
    "    val_probs,\n",
    "    val['id'],\n",
    "    f'../results/val_predictions_threshold_{best_thresholds[emotion]:.3f}_{timestamp}.csv'\n",
    ")\n",
    "\n",
    "# Save test predictions\n",
    "save_predictions(\n",
    "    test_probs,\n",
    "    test['id'],\n",
    "    f'../results/test_predictions_threshold_{best_thresholds[emotion]:.3f}_{timestamp}.csv'\n",
    ")\n",
    "\n",
    "# for threshold in tqdm(thresholds, desc=\"Testing thresholds\"):\n",
    "#     # Convert probabilities to binary predictions\n",
    "#     val_binary_preds = (val_probs > threshold).astype(int)\n",
    "    \n",
    "#     # Calculate metrics\n",
    "#     macro_f1 = f1_score(val[emotions].values, val_binary_preds, average='macro')\n",
    "#     micro_f1 = f1_score(val[emotions].values, val_binary_preds, average='micro')\n",
    "#     jaccard = jaccard_score(val[emotions].values, val_binary_preds, average='samples')\n",
    "    \n",
    "#     results.append({\n",
    "#         'threshold': threshold,\n",
    "#         'macro_f1': macro_f1,\n",
    "#         'micro_f1': micro_f1,\n",
    "#         'jaccard': jaccard\n",
    "#     })\n",
    "    \n",
    "#     # Update best threshold if we found better macro F1\n",
    "#     if macro_f1 > best_macro_f1:\n",
    "#         best_macro_f1 = macro_f1\n",
    "        # best_threshold = threshold\n",
    "\n",
    "# Convert results to DataFrame and display\n",
    "# results_df = pd.DataFrame(results)\n",
    "# print(\"\\nBest Results:\")\n",
    "# print(f\"Best threshold: {best_threshold:.3f}\")\n",
    "# print(f\"Best Macro F1: {best_macro_f1:.3f}\")\n",
    "\n",
    "# Plot the threshold search results\n",
    "# plt.figure(figsize=(10, 6))\n",
    "# plt.plot(results_df['threshold'], results_df['macro_f1'], label='Macro F1')\n",
    "# plt.plot(results_df['threshold'], results_df['micro_f1'], label='Micro F1')\n",
    "# plt.plot(results_df['threshold'], results_df['jaccard'], label='Jaccard')\n",
    "# plt.axvline(x=best_threshold, color='r', linestyle='--', label=f'Best threshold ({best_threshold:.3f})')\n",
    "# plt.xlabel('Threshold')\n",
    "# plt.ylabel('Score')\n",
    "# plt.title('Metric Scores vs. Threshold')\n",
    "# plt.legend()\n",
    "# plt.grid(True)\n",
    "# plt.show()\n",
    "\n",
    "# Save threshold search results\n",
    "# results_df.to_csv(f'../results/threshold_search_results_{timestamp}.csv', index=False)\n",
    "\n",
    "# Print per-emotion performance\n",
    "print(\"\\nPer-emotion performance:\")\n",
    "for i, emotion in enumerate(emotions):\n",
    "    # Calculate F1 score\n",
    "    emotion_f1 = f1_score(\n",
    "        val[emotions].values[:, i],\n",
    "        val_probs[:, i],\n",
    "        average='binary'\n",
    "    )\n",
    "    \n",
    "    # Calculate Jaccard index\n",
    "    emotion_jaccard = jaccard_score(\n",
    "        val[emotions].values[:, i],\n",
    "        val_probs[:, i],\n",
    "        average='binary'\n",
    "    )\n",
    "    \n",
    "    print(f\"{emotion}: F1 = {emotion_f1:.3f}, Jaccard = {emotion_jaccard:.3f}\")"
   ]
  },
  {
   "cell_type": "markdown",
   "metadata": {},
   "source": [
    "END FOR NOW"
   ]
  }
 ],
 "metadata": {
  "kernelspec": {
   "display_name": "base",
   "language": "python",
   "name": "python3"
  },
  "language_info": {
   "codemirror_mode": {
    "name": "ipython",
    "version": 3
   },
   "file_extension": ".py",
   "mimetype": "text/x-python",
   "name": "python",
   "nbconvert_exporter": "python",
   "pygments_lexer": "ipython3",
   "version": "3.12.6"
  }
 },
 "nbformat": 4,
 "nbformat_minor": 2
}
