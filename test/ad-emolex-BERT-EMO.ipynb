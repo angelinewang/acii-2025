{
 "cells": [
  {
   "cell_type": "code",
   "execution_count": 1,
   "metadata": {},
   "outputs": [],
   "source": [
    "from transformers import pipeline, AutoModelForSequenceClassification, AutoTokenizer\n",
    "import torch\n",
    "import pandas as pd\n",
    "import numpy as np\n",
    "from tqdm import tqdm"
   ]
  },
  {
   "cell_type": "code",
   "execution_count": 2,
   "metadata": {},
   "outputs": [],
   "source": [
    "from sklearn.feature_extraction.text import CountVectorizer\n",
    "from sklearn.linear_model import LogisticRegression\n",
    "from sklearn.preprocessing import OneHotEncoder\n",
    "import torch.nn as nn\n",
    "import torch.optim as optim\n",
    "from torch.utils.data import DataLoader, TensorDataset\n",
    "from nltk.corpus import stopwords\n",
    "from nltk.stem import PorterStemmer, WordNetLemmatizer\n",
    "from nltk.util import ngrams\n",
    "import spacy\n",
    "import re"
   ]
  },
  {
   "cell_type": "code",
   "execution_count": 3,
   "metadata": {},
   "outputs": [],
   "source": [
    "from sklearn.metrics import f1_score, jaccard_score, classification_report"
   ]
  },
  {
   "cell_type": "code",
   "execution_count": 4,
   "metadata": {},
   "outputs": [],
   "source": [
    "# Load data\n",
    "train = pd.read_csv('../public_data_test/track_a/train/eng.csv')\n",
    "val = pd.read_csv('../public_data_test/track_a/dev/eng.csv')\n",
    "test = pd.read_csv('../public_data_test/track_a/test/eng.csv')\n",
    "\n",
    "# Define emotions and mapping (model's labels to our labels)\n",
    "emotions = ['joy', 'sadness', 'surprise', 'fear', 'anger']\n",
    "emotion_mapping = {\n",
    "    'joy': 'joy',\n",
    "    'sadness': 'sadness',\n",
    "    'surprise': 'surprise',\n",
    "    'fear': 'fear',\n",
    "    'anger': 'anger',\n",
    "    'love': None  # We'll ignore this emotion as it's not in our target set\n",
    "}"
   ]
  },
  {
   "cell_type": "code",
   "execution_count": 5,
   "metadata": {},
   "outputs": [],
   "source": [
    "# Preprocessing Config\n",
    "config = {\n",
    "    'sep_pn': True, \n",
    "    'rm_pn': False, \n",
    "    'apply_lemmatization': True, \n",
    "    'apply_stemming': True, \n",
    "    'add_bigrams': True, \n",
    "    'rm_sw': False\n",
    "}"
   ]
  },
  {
   "cell_type": "code",
   "execution_count": 6,
   "metadata": {},
   "outputs": [],
   "source": [
    "# Load the pre-trained model and tokenizer\n",
    "model_name = \"bhadresh-savani/bert-base-uncased-emotion\"\n",
    "tokenizer = AutoTokenizer.from_pretrained(model_name)\n",
    "model = AutoModelForSequenceClassification.from_pretrained(model_name)"
   ]
  },
  {
   "cell_type": "code",
   "execution_count": 7,
   "metadata": {},
   "outputs": [],
   "source": [
    "emolex_path = \"../NRC-Emotion-Lexicon/NRC-Emotion-Lexicon-Wordlevel-v0.92.txt\""
   ]
  },
  {
   "cell_type": "code",
   "execution_count": 8,
   "metadata": {},
   "outputs": [
    {
     "name": "stdout",
     "output_type": "stream",
     "text": [
      "Loaded 3155 words from EmoLex\n"
     ]
    }
   ],
   "source": [
    "def load_emolex(emolex_path):\n",
    "    emolex = pd.read_csv(emolex_path, sep='\\t', header=None, names=[\"Word\", \"Emotion\", \"Association\"])\n",
    "    # Filter to only include our target emotions\n",
    "    emolex = emolex[emolex['Emotion'].isin(emotions)]\n",
    "    \n",
    "    emotion_dict = {}\n",
    "    for _, row in emolex.iterrows():\n",
    "        if row[\"Association\"] == 1:  # Only positive associations\n",
    "            word = row[\"Word\"].lower()  # Convert to lowercase\n",
    "            emotion = row[\"Emotion\"].lower()\n",
    "            if word not in emotion_dict:\n",
    "                emotion_dict[word] = []\n",
    "            emotion_dict[word].append(emotion)\n",
    "    \n",
    "    print(f\"Loaded {len(emotion_dict)} words from EmoLex\")\n",
    "    return emotion_dict\n",
    "\n",
    "emotion_dict = load_emolex(emolex_path)"
   ]
  },
  {
   "cell_type": "code",
   "execution_count": 9,
   "metadata": {},
   "outputs": [
    {
     "name": "stdout",
     "output_type": "stream",
     "text": [
      "\n",
      "joy words in lexicon: 687\n",
      "Sample words: ['absolution', 'abundance', 'abundant', 'accolade', 'accompaniment']\n",
      "\n",
      "sadness words in lexicon: 1187\n",
      "Sample words: ['abandon', 'abandoned', 'abandonment', 'abduction', 'abortion']\n",
      "\n",
      "surprise words in lexicon: 532\n",
      "Sample words: ['abandonment', 'abduction', 'abrupt', 'accident', 'accidental']\n",
      "\n",
      "fear words in lexicon: 1474\n",
      "Sample words: ['abandon', 'abandoned', 'abandonment', 'abduction', 'abhor']\n",
      "\n",
      "anger words in lexicon: 1245\n",
      "Sample words: ['abandoned', 'abandonment', 'abhor', 'abhorrent', 'abolish']\n",
      "\n",
      "Emotion word matches in training data:\n",
      "joy: 0 texts\n",
      "sadness: 0 texts\n",
      "surprise: 0 texts\n",
      "fear: 0 texts\n",
      "anger: 0 texts\n"
     ]
    }
   ],
   "source": [
    "nlp = spacy.load(\"en_core_web_sm\")\n",
    "\n",
    "# Initialize emotion_matches globally before preprocessing\n",
    "emotion_matches = {emotion: 0 for emotion in emotions}\n",
    "\n",
    "for emotion in emotions:\n",
    "    emotion_words = [word for word, emots in emotion_dict.items() if emotion in emots]\n",
    "    print(f\"\\n{emotion} words in lexicon: {len(emotion_words)}\")\n",
    "    print(\"Sample words:\", emotion_words[:5])\n",
    "\n",
    "# During preprocessing\n",
    "def pre_process(text, config, target_emotion, emotion_dict):\n",
    "    global emotion_matches  # Reference the global variable\n",
    "    \n",
    "    original_text = text  # Save original text for EmoLex matching\n",
    "\n",
    "    # First do EmoLex matching on original text\n",
    "    emolex_words = []\n",
    "    if target_emotion and emotion_dict:\n",
    "        # Convert text to lowercase for matching\n",
    "        text_lower = original_text.lower()\n",
    "        # Find words that appear in both text and emotion lexicon\n",
    "        text_words = set(text_lower.split())\n",
    "        emolex_words = [word for word in text_words \n",
    "                       if word in emotion_dict \n",
    "                       and target_emotion in emotion_dict[word]]\n",
    "        \n",
    "        if emolex_words:\n",
    "            emotion_matches[target_emotion] += 1\n",
    "\n",
    "    def separate_punctuation(text):\n",
    "        text = re.sub(r\"(\\w)([.,;:!?'\\\"”\\)])\", r\"\\1 \\2\", text)\n",
    "        text = re.sub(r\"([.,;:!?'\\\"“\\(\\)])(\\w)\", r\"\\1 \\2\", text)\n",
    "        return text\n",
    "\n",
    "    def remove_punctuation(text):\n",
    "        text = re.sub(r\"[.,;:!?'\\\"“”\\(\\)]\", \"\", text)\n",
    "        return text\n",
    "\n",
    "    def tokenize_text(text):\n",
    "        encoded_input = tokenizer(text, return_tensors='pt', add_special_tokens=True)\n",
    "        tokens = tokenizer.convert_ids_to_tokens(encoded_input['input_ids'][0])\n",
    "        return tokens\n",
    "\n",
    "    def apply_stemming(tokens):\n",
    "        stemmer = PorterStemmer()\n",
    "        return [stemmer.stem(token) for token in tokens]\n",
    "\n",
    "    def apply_lemmatization(tokens):\n",
    "        lemmatizer = WordNetLemmatizer()\n",
    "        return [lemmatizer.lemmatize(token) for token in tokens]\n",
    "\n",
    "    def generate_ngrams_from_tokens(tokens, n):\n",
    "        return [\" \".join(gram) for gram in ngrams(tokens, n)]\n",
    "\n",
    "    # Apply config options\n",
    "    if config['sep_pn'] and not config['rm_pn']:\n",
    "        text = separate_punctuation(text)\n",
    "    if config['rm_pn'] and not config['sep_pn']:\n",
    "        text = remove_punctuation(text)\n",
    "\n",
    "    tokens = tokenize_text(text)\n",
    "    if config['apply_stemming']:\n",
    "        tokens = apply_stemming(tokens)\n",
    "    if config['apply_lemmatization']:\n",
    "        tokens = apply_lemmatization(tokens)\n",
    "    if config['add_bigrams']:\n",
    "        tokens += generate_ngrams_from_tokens(tokens, 2)\n",
    "    if config['rm_sw']:\n",
    "        stop_words = set(stopwords.words('english'))\n",
    "        tokens = [word for word in tokens if word.lower() not in stop_words]\n",
    "\n",
    "    processed_text = \" \".join(tokens)\n",
    "\n",
    "    # Finally, append EmoLex words if found\n",
    "    if emolex_words:\n",
    "        processed_text = f\"{processed_text} [SEP] {' '.join(emolex_words)}\"\n",
    "    else:\n",
    "        processed_text = f\"{processed_text} [SEP]\"\n",
    "    \n",
    "    return processed_text\n",
    "\n",
    "# After preprocessing\n",
    "print(\"\\nEmotion word matches in training data:\")\n",
    "for emotion in emotions:\n",
    "    print(f\"{emotion}: {emotion_matches[emotion]} texts\")"
   ]
  },
  {
   "cell_type": "code",
   "execution_count": 10,
   "metadata": {},
   "outputs": [],
   "source": [
    "# Vectorizer Definition\n",
    "vectorizer = CountVectorizer()"
   ]
  },
  {
   "cell_type": "code",
   "execution_count": 11,
   "metadata": {},
   "outputs": [
    {
     "name": "stdout",
     "output_type": "stream",
     "text": [
      "\n",
      "Processing joy:\n"
     ]
    },
    {
     "name": "stderr",
     "output_type": "stream",
     "text": [
      "100%|██████████| 2768/2768 [00:03<00:00, 780.05it/s] \n"
     ]
    },
    {
     "name": "stdout",
     "output_type": "stream",
     "text": [
      "Texts with joy-specific words: 461/2768\n",
      "\n",
      "Processing sadness:\n"
     ]
    },
    {
     "name": "stderr",
     "output_type": "stream",
     "text": [
      "100%|██████████| 2768/2768 [00:01<00:00, 2072.94it/s]\n"
     ]
    },
    {
     "name": "stdout",
     "output_type": "stream",
     "text": [
      "Texts with sadness-specific words: 569/2768\n",
      "\n",
      "Processing surprise:\n"
     ]
    },
    {
     "name": "stderr",
     "output_type": "stream",
     "text": [
      "100%|██████████| 2768/2768 [00:01<00:00, 2093.13it/s]\n"
     ]
    },
    {
     "name": "stdout",
     "output_type": "stream",
     "text": [
      "Texts with surprise-specific words: 318/2768\n",
      "\n",
      "Processing fear:\n"
     ]
    },
    {
     "name": "stderr",
     "output_type": "stream",
     "text": [
      "100%|██████████| 2768/2768 [00:01<00:00, 1994.61it/s]\n"
     ]
    },
    {
     "name": "stdout",
     "output_type": "stream",
     "text": [
      "Texts with fear-specific words: 520/2768\n",
      "\n",
      "Processing anger:\n"
     ]
    },
    {
     "name": "stderr",
     "output_type": "stream",
     "text": [
      "100%|██████████| 2768/2768 [00:01<00:00, 2094.20it/s]\n"
     ]
    },
    {
     "name": "stdout",
     "output_type": "stream",
     "text": [
      "Texts with anger-specific words: 463/2768\n",
      "\n",
      "Processing joy:\n"
     ]
    },
    {
     "name": "stderr",
     "output_type": "stream",
     "text": [
      "100%|██████████| 116/116 [00:00<00:00, 2065.16it/s]\n"
     ]
    },
    {
     "name": "stdout",
     "output_type": "stream",
     "text": [
      "Texts with joy-specific words: 19/116\n",
      "\n",
      "Processing sadness:\n"
     ]
    },
    {
     "name": "stderr",
     "output_type": "stream",
     "text": [
      "100%|██████████| 116/116 [00:00<00:00, 2075.02it/s]\n"
     ]
    },
    {
     "name": "stdout",
     "output_type": "stream",
     "text": [
      "Texts with sadness-specific words: 22/116\n",
      "\n",
      "Processing surprise:\n"
     ]
    },
    {
     "name": "stderr",
     "output_type": "stream",
     "text": [
      "100%|██████████| 116/116 [00:00<00:00, 2072.43it/s]\n"
     ]
    },
    {
     "name": "stdout",
     "output_type": "stream",
     "text": [
      "Texts with surprise-specific words: 15/116\n",
      "\n",
      "Processing fear:\n"
     ]
    },
    {
     "name": "stderr",
     "output_type": "stream",
     "text": [
      "100%|██████████| 116/116 [00:00<00:00, 2074.77it/s]\n"
     ]
    },
    {
     "name": "stdout",
     "output_type": "stream",
     "text": [
      "Texts with fear-specific words: 21/116\n",
      "\n",
      "Processing anger:\n"
     ]
    },
    {
     "name": "stderr",
     "output_type": "stream",
     "text": [
      "100%|██████████| 116/116 [00:00<00:00, 2073.33it/s]\n"
     ]
    },
    {
     "name": "stdout",
     "output_type": "stream",
     "text": [
      "Texts with anger-specific words: 17/116\n",
      "\n",
      "Processing joy:\n"
     ]
    },
    {
     "name": "stderr",
     "output_type": "stream",
     "text": [
      "100%|██████████| 2767/2767 [00:01<00:00, 2057.09it/s]\n"
     ]
    },
    {
     "name": "stdout",
     "output_type": "stream",
     "text": [
      "Texts with joy-specific words: 453/2767\n",
      "\n",
      "Processing sadness:\n"
     ]
    },
    {
     "name": "stderr",
     "output_type": "stream",
     "text": [
      "100%|██████████| 2767/2767 [00:01<00:00, 2067.60it/s]\n"
     ]
    },
    {
     "name": "stdout",
     "output_type": "stream",
     "text": [
      "Texts with sadness-specific words: 537/2767\n",
      "\n",
      "Processing surprise:\n"
     ]
    },
    {
     "name": "stderr",
     "output_type": "stream",
     "text": [
      "100%|██████████| 2767/2767 [00:01<00:00, 1786.63it/s]\n"
     ]
    },
    {
     "name": "stdout",
     "output_type": "stream",
     "text": [
      "Texts with surprise-specific words: 349/2767\n",
      "\n",
      "Processing fear:\n"
     ]
    },
    {
     "name": "stderr",
     "output_type": "stream",
     "text": [
      "100%|██████████| 2767/2767 [00:01<00:00, 2066.84it/s]\n"
     ]
    },
    {
     "name": "stdout",
     "output_type": "stream",
     "text": [
      "Texts with fear-specific words: 531/2767\n",
      "\n",
      "Processing anger:\n"
     ]
    },
    {
     "name": "stderr",
     "output_type": "stream",
     "text": [
      "100%|██████████| 2767/2767 [00:01<00:00, 2034.33it/s]\n"
     ]
    },
    {
     "name": "stdout",
     "output_type": "stream",
     "text": [
      "Texts with anger-specific words: 438/2767\n"
     ]
    }
   ],
   "source": [
    "# Reset emotion_matches before processing dataset\n",
    "def preprocess_dataset_with_emotions(dataset, emotions, config, emotion_dict):\n",
    "    global emotion_matches\n",
    "    emotion_matches = {emotion: 0 for emotion in emotions}  # Reset counters\n",
    "    \n",
    "    augmented_data = {}\n",
    "    \n",
    "    # Process for each emotion\n",
    "    for emotion in emotions:\n",
    "        print(f\"\\nProcessing {emotion}:\")\n",
    "        texts = []\n",
    "        for text in tqdm(dataset):\n",
    "            processed = pre_process(text, config, target_emotion=emotion, emotion_dict=emotion_dict)\n",
    "            texts.append(processed)\n",
    "            \n",
    "        # Count how many texts contain emotion-specific words\n",
    "        emotion_word_count = sum(1 for text in texts if '[SEP]' in text and not text.endswith('[SEP]'))\n",
    "        print(f\"Texts with {emotion}-specific words: {emotion_matches[emotion]}/{len(texts)}\")\n",
    "        \n",
    "        augmented_data[emotion] = texts\n",
    "    \n",
    "    return augmented_data\n",
    "\n",
    "train_augmented = preprocess_dataset_with_emotions(train[\"text\"], emotions, config, emotion_dict)\n",
    "val_augmented = preprocess_dataset_with_emotions(val[\"text\"], emotions, config, emotion_dict)\n",
    "test_augmented = preprocess_dataset_with_emotions(test[\"text\"], emotions, config, emotion_dict)\n",
    "\n",
    "# Fit the vectorizer on the combined training data\n",
    "vectorizer = CountVectorizer()\n",
    "vectorizer.fit(train_augmented['joy'] + train_augmented['sadness'] + train_augmented['surprise'] + train_augmented['fear'] + train_augmented['anger'])\n",
    "\n",
    "# Transform each emotion separately\n",
    "X_train = {emotion: vectorizer.transform(train_augmented[emotion]).toarray() for emotion in emotions}\n",
    "X_val = {emotion: vectorizer.transform(val_augmented[emotion]).toarray() for emotion in emotions}\n",
    "X_test = {emotion: vectorizer.transform(test_augmented[emotion]).toarray() for emotion in emotions}"
   ]
  },
  {
   "cell_type": "code",
   "execution_count": 14,
   "metadata": {},
   "outputs": [],
   "source": [
    "def format_predictions(predictions, emotion_mapping):\n",
    "    \"\"\"\n",
    "    Convert raw predictions to the required format\n",
    "    \"\"\"\n",
    "    formatted_preds = []\n",
    "    for pred in predictions:\n",
    "        # Create a dictionary of emotion scores\n",
    "        scores = {p['label']: p['score'] for p in pred}\n",
    "        # Map to our required emotions and format\n",
    "        row = [scores.get(emotion_mapping.get(e, e), 0) for e in emotions]\n",
    "        formatted_preds.append(row)\n",
    "    \n",
    "    return np.array(formatted_preds)"
   ]
  },
  {
   "cell_type": "code",
   "execution_count": 15,
   "metadata": {},
   "outputs": [
    {
     "name": "stderr",
     "output_type": "stream",
     "text": [
      "Device set to use cpu\n",
      "/Users/angwang/miniforge3/lib/python3.12/site-packages/transformers/pipelines/text_classification.py:106: UserWarning: `return_all_scores` is now deprecated,  if want a similar functionality use `top_k=None` instead of `return_all_scores=True` or `top_k=1` instead of `return_all_scores=False`.\n",
      "  warnings.warn(\n"
     ]
    }
   ],
   "source": [
    "# Create the emotion classifier pipeline\n",
    "classifier = pipeline(\n",
    "    \"text-classification\",\n",
    "    model=model,\n",
    "    tokenizer=tokenizer,\n",
    "    return_all_scores=True,\n",
    "    device=0 if torch.cuda.is_available() else -1  # Use GPU if available\n",
    ")"
   ]
  },
  {
   "cell_type": "code",
   "execution_count": 16,
   "metadata": {},
   "outputs": [],
   "source": [
    "def get_predictions_batch(texts, batch_size=32):\n",
    "    \"\"\"\n",
    "    Get predictions for a list of texts in batches\n",
    "    \"\"\"\n",
    "    all_predictions = []\n",
    "    \n",
    "    for i in tqdm(range(0, len(texts), batch_size), desc=\"Predicting\"):\n",
    "        batch_texts = texts[i:i + batch_size]\n",
    "        predictions = classifier(batch_texts)\n",
    "        all_predictions.extend(predictions)\n",
    "    \n",
    "    return all_predictions"
   ]
  },
  {
   "cell_type": "code",
   "execution_count": 17,
   "metadata": {},
   "outputs": [],
   "source": [
    "# POS Tagging\n",
    "def extract_pos_tags(texts):\n",
    "    return [[token.pos_ for token in nlp(text)] for text in texts]"
   ]
  },
  {
   "cell_type": "code",
   "execution_count": 18,
   "metadata": {},
   "outputs": [
    {
     "name": "stdout",
     "output_type": "stream",
     "text": [
      "Getting training BERT embeddings...\n"
     ]
    },
    {
     "name": "stderr",
     "output_type": "stream",
     "text": [
      "Predicting: 100%|██████████| 87/87 [03:24<00:00,  2.35s/it]\n"
     ]
    },
    {
     "name": "stdout",
     "output_type": "stream",
     "text": [
      "Getting validation BERT embeddings...\n"
     ]
    },
    {
     "name": "stderr",
     "output_type": "stream",
     "text": [
      "Predicting: 100%|██████████| 4/4 [00:08<00:00,  2.08s/it]\n"
     ]
    },
    {
     "name": "stdout",
     "output_type": "stream",
     "text": [
      "Getting test BERT embeddings...\n"
     ]
    },
    {
     "name": "stderr",
     "output_type": "stream",
     "text": [
      "Predicting: 100%|██████████| 87/87 [03:34<00:00,  2.47s/it]\n"
     ]
    },
    {
     "name": "stdout",
     "output_type": "stream",
     "text": [
      "Extracting POS features...\n"
     ]
    }
   ],
   "source": [
    "# Get BERT embeddings for training data\n",
    "print(\"Getting training BERT embeddings...\")\n",
    "train_raw_preds = get_predictions_batch(train['text'].tolist())\n",
    "train_bert_features = format_predictions(train_raw_preds, emotion_mapping)\n",
    "\n",
    "print(\"Getting validation BERT embeddings...\")\n",
    "val_raw_preds = get_predictions_batch(val['text'].tolist())\n",
    "val_bert_features = format_predictions(val_raw_preds, emotion_mapping)\n",
    "\n",
    "print(\"Getting test BERT embeddings...\")\n",
    "test_raw_preds = get_predictions_batch(test['text'].tolist())\n",
    "test_bert_features = format_predictions(test_raw_preds, emotion_mapping)\n",
    "\n",
    "# Get POS features\n",
    "print(\"Extracting POS features...\")\n",
    "train_pos_tags = extract_pos_tags(train[\"text\"])\n",
    "val_pos_tags = extract_pos_tags(val[\"text\"])\n",
    "test_pos_tags = extract_pos_tags(test[\"text\"])\n",
    "\n",
    "# POS Encoding\n",
    "max_length = max(\n",
    "    max(len(tags) for tags in train_pos_tags),\n",
    "    max(len(tags) for tags in val_pos_tags),\n",
    "    max(len(tags) for tags in test_pos_tags)\n",
    ")\n",
    "train_pos_tags = [tags + ['PAD'] * (max_length - len(tags)) for tags in train_pos_tags]\n",
    "val_pos_tags = [tags + ['PAD'] * (max_length - len(tags)) for tags in val_pos_tags]\n",
    "test_pos_tags = [tags + ['PAD'] * (max_length - len(tags)) for tags in test_pos_tags]\n",
    "\n",
    "encoder = OneHotEncoder(sparse_output=False, handle_unknown=\"ignore\")\n",
    "train_pos_encoded = encoder.fit_transform(train_pos_tags)\n",
    "val_pos_encoded = encoder.transform(val_pos_tags)\n",
    "test_pos_encoded = encoder.transform(test_pos_tags)"
   ]
  },
  {
   "cell_type": "code",
   "execution_count": 19,
   "metadata": {},
   "outputs": [
    {
     "name": "stdout",
     "output_type": "stream",
     "text": [
      "Emotion: joy\n",
      "Train Vectorizer Shape: (2768, 4340)\n",
      "Val Vectorizer Shape: (116, 4340)\n",
      "Train BERT Shape: (2768, 5)\n",
      "Val BERT Shape: (116, 5)\n",
      "Train POS Shape: (2768, 1176)\n",
      "Val POS Shape: (116, 1176)\n",
      "Emotion: sadness\n",
      "Train Vectorizer Shape: (2768, 4340)\n",
      "Val Vectorizer Shape: (116, 4340)\n",
      "Train BERT Shape: (2768, 5)\n",
      "Val BERT Shape: (116, 5)\n",
      "Train POS Shape: (2768, 1176)\n",
      "Val POS Shape: (116, 1176)\n",
      "Emotion: surprise\n",
      "Train Vectorizer Shape: (2768, 4340)\n",
      "Val Vectorizer Shape: (116, 4340)\n",
      "Train BERT Shape: (2768, 5)\n",
      "Val BERT Shape: (116, 5)\n",
      "Train POS Shape: (2768, 1176)\n",
      "Val POS Shape: (116, 1176)\n",
      "Emotion: fear\n",
      "Train Vectorizer Shape: (2768, 4340)\n",
      "Val Vectorizer Shape: (116, 4340)\n",
      "Train BERT Shape: (2768, 5)\n",
      "Val BERT Shape: (116, 5)\n",
      "Train POS Shape: (2768, 1176)\n",
      "Val POS Shape: (116, 1176)\n",
      "Emotion: anger\n",
      "Train Vectorizer Shape: (2768, 4340)\n",
      "Val Vectorizer Shape: (116, 4340)\n",
      "Train BERT Shape: (2768, 5)\n",
      "Val BERT Shape: (116, 5)\n",
      "Train POS Shape: (2768, 1176)\n",
      "Val POS Shape: (116, 1176)\n"
     ]
    }
   ],
   "source": [
    "for emotion in emotions:\n",
    "    print(f\"Emotion: {emotion}\")\n",
    "    print(f\"Train Vectorizer Shape: {X_train[emotion].shape}\")\n",
    "    print(f\"Val Vectorizer Shape: {X_val[emotion].shape}\")\n",
    "    print(f\"Train BERT Shape: {train_bert_features.shape}\")\n",
    "    print(f\"Val BERT Shape: {val_bert_features.shape}\")\n",
    "    print(f\"Train POS Shape: {train_pos_encoded.shape}\")\n",
    "    print(f\"Val POS Shape: {val_pos_encoded.shape}\")"
   ]
  },
  {
   "cell_type": "code",
   "execution_count": 20,
   "metadata": {},
   "outputs": [],
   "source": [
    "# Convert labels to numpy arrays\n",
    "y_train = train[emotions].values\n",
    "y_val = val[emotions].values\n",
    "y_test = test[emotions].values"
   ]
  },
  {
   "cell_type": "code",
   "execution_count": 21,
   "metadata": {},
   "outputs": [
    {
     "name": "stdout",
     "output_type": "stream",
     "text": [
      "Combining features for each emotion...\n",
      "\n",
      "Processing joy:\n",
      "X_train shape: (2768, 4340)\n",
      "train_bert_features shape: (2768, 5)\n",
      "train_pos_encoded shape: (2768, 1176)\n",
      "Final features shape for joy: (2768, 5521)\n",
      "\n",
      "Processing sadness:\n",
      "X_train shape: (2768, 4340)\n",
      "train_bert_features shape: (2768, 5)\n",
      "train_pos_encoded shape: (2768, 1176)\n",
      "Final features shape for sadness: (2768, 5521)\n",
      "\n",
      "Processing surprise:\n",
      "X_train shape: (2768, 4340)\n",
      "train_bert_features shape: (2768, 5)\n",
      "train_pos_encoded shape: (2768, 1176)\n",
      "Final features shape for surprise: (2768, 5521)\n",
      "\n",
      "Processing fear:\n",
      "X_train shape: (2768, 4340)\n",
      "train_bert_features shape: (2768, 5)\n",
      "train_pos_encoded shape: (2768, 1176)\n",
      "Final features shape for fear: (2768, 5521)\n",
      "\n",
      "Processing anger:\n",
      "X_train shape: (2768, 4340)\n",
      "train_bert_features shape: (2768, 5)\n",
      "train_pos_encoded shape: (2768, 1176)\n",
      "Final features shape for anger: (2768, 5521)\n"
     ]
    }
   ],
   "source": [
    "# Combine features for each emotion separately\n",
    "final_train_features = {}\n",
    "final_val_features = {}\n",
    "final_test_features = {}\n",
    "\n",
    "print(\"Combining features for each emotion...\")\n",
    "for emotion in emotions:\n",
    "    print(f\"\\nProcessing {emotion}:\")\n",
    "    print(f\"X_train shape: {X_train[emotion].shape}\")\n",
    "    print(f\"train_bert_features shape: {train_bert_features.shape}\")\n",
    "    print(f\"train_pos_encoded shape: {train_pos_encoded.shape}\")\n",
    "    \n",
    "    final_train_features[emotion] = np.hstack([\n",
    "        X_train[emotion],\n",
    "        train_bert_features,\n",
    "        train_pos_encoded\n",
    "    ])\n",
    "    \n",
    "    final_val_features[emotion] = np.hstack([\n",
    "        X_val[emotion],\n",
    "        val_bert_features,\n",
    "        val_pos_encoded\n",
    "    ])\n",
    "    \n",
    "    final_test_features[emotion] = np.hstack([\n",
    "        X_test[emotion],\n",
    "        test_bert_features,\n",
    "        test_pos_encoded\n",
    "    ])\n",
    "    \n",
    "    print(f\"Final features shape for {emotion}: {final_train_features[emotion].shape}\")"
   ]
  },
  {
   "cell_type": "code",
   "execution_count": 22,
   "metadata": {},
   "outputs": [],
   "source": [
    "# Create a model for each emotion\n",
    "models = {}\n",
    "for emotion in emotions:\n",
    "    input_size = final_train_features[emotion].shape[1]  # Get the feature size for each emotion\n",
    "    models[emotion] = nn.Sequential(\n",
    "        nn.Linear(input_size, 256),  # Use the correct input size\n",
    "        nn.BatchNorm1d(256),\n",
    "        nn.ReLU(),\n",
    "        nn.Dropout(0.3),\n",
    "        nn.Linear(256, 128),\n",
    "        nn.BatchNorm1d(128),\n",
    "        nn.ReLU(),\n",
    "        nn.Dropout(0.2),\n",
    "        nn.Linear(128, 64),\n",
    "        nn.BatchNorm1d(64),\n",
    "        nn.ReLU(),\n",
    "        nn.Linear(64, 1)\n",
    "    )"
   ]
  },
  {
   "cell_type": "code",
   "execution_count": 23,
   "metadata": {},
   "outputs": [],
   "source": [
    "import matplotlib.pyplot as plt\n",
    "from torch.optim.lr_scheduler import ReduceLROnPlateau"
   ]
  },
  {
   "cell_type": "code",
   "execution_count": 24,
   "metadata": {},
   "outputs": [
    {
     "name": "stdout",
     "output_type": "stream",
     "text": [
      "Feature size for joy: 5521\n",
      "Feature size for sadness: 5521\n",
      "Feature size for surprise: 5521\n",
      "Feature size for fear: 5521\n",
      "Feature size for anger: 5521\n"
     ]
    }
   ],
   "source": [
    "for emotion in emotions:\n",
    "\n",
    "    print(f\"Feature size for {emotion}: {final_train_features[emotion].shape[1]}\")"
   ]
  },
  {
   "cell_type": "code",
   "execution_count": 25,
   "metadata": {},
   "outputs": [
    {
     "name": "stderr",
     "output_type": "stream",
     "text": [
      "/Users/angwang/miniforge3/lib/python3.12/site-packages/torch/optim/lr_scheduler.py:62: UserWarning: The verbose parameter is deprecated. Please use get_last_lr() to access the learning rate.\n",
      "  warnings.warn(\n"
     ]
    },
    {
     "name": "stdout",
     "output_type": "stream",
     "text": [
      "\n",
      "Training model for joy\n",
      "Validation features shape for joy: torch.Size([116, 5521])\n"
     ]
    },
    {
     "name": "stderr",
     "output_type": "stream",
     "text": [
      "Training Loop (joy):   0%|          | 0/401 [00:00<?, ?it/s]"
     ]
    },
    {
     "name": "stderr",
     "output_type": "stream",
     "text": [
      "Training Loop (joy):   0%|          | 1/401 [00:03<24:43,  3.71s/it]"
     ]
    },
    {
     "name": "stdout",
     "output_type": "stream",
     "text": [
      "\n",
      "Epoch 0 (joy):\n",
      "Training Loss: 0.9598, Validation Loss: 0.9201\n",
      "Macro F1: 0.6405\n",
      "\n",
      "New best model for joy at epoch 0 with F1: 0.6405\n"
     ]
    },
    {
     "name": "stderr",
     "output_type": "stream",
     "text": [
      "Training Loop (joy):   0%|          | 2/401 [00:07<26:05,  3.92s/it]"
     ]
    },
    {
     "name": "stdout",
     "output_type": "stream",
     "text": [
      "\n",
      "New best model for joy at epoch 1 with F1: 0.7432\n"
     ]
    },
    {
     "name": "stderr",
     "output_type": "stream",
     "text": [
      "Training Loop (joy):   1%|          | 5/401 [00:15<17:58,  2.72s/it]"
     ]
    },
    {
     "name": "stdout",
     "output_type": "stream",
     "text": [
      "\n",
      "New best model for joy at epoch 4 with F1: 0.7613\n"
     ]
    },
    {
     "name": "stderr",
     "output_type": "stream",
     "text": [
      "Training Loop (joy):   3%|▎         | 11/401 [00:29<16:53,  2.60s/it]"
     ]
    },
    {
     "name": "stdout",
     "output_type": "stream",
     "text": [
      "\n",
      "Epoch 10 (joy):\n",
      "Training Loss: 0.0640, Validation Loss: 2.0185\n",
      "Macro F1: 0.6665\n"
     ]
    },
    {
     "name": "stderr",
     "output_type": "stream",
     "text": [
      "Training Loop (joy):   3%|▎         | 14/401 [00:39<18:13,  2.82s/it]"
     ]
    },
    {
     "name": "stdout",
     "output_type": "stream",
     "text": [
      "\n",
      "Early stopping triggered at epoch 14\n",
      "\n",
      "Loaded best model for joy from epoch 4 with F1: 0.7613\n"
     ]
    },
    {
     "name": "stderr",
     "output_type": "stream",
     "text": [
      "\n",
      "/var/folders/sx/hkqgssrx0jd_jb2_792hz_hm0000gp/T/ipykernel_40286/4006872239.py:114: FutureWarning: You are using `torch.load` with `weights_only=False` (the current default value), which uses the default pickle module implicitly. It is possible to construct malicious pickle data which will execute arbitrary code during unpickling (See https://github.com/pytorch/pytorch/blob/main/SECURITY.md#untrusted-models for more details). In a future release, the default value for `weights_only` will be flipped to `True`. This limits the functions that could be executed during unpickling. Arbitrary objects will no longer be allowed to be loaded via this mode unless they are explicitly allowlisted by the user via `torch.serialization.add_safe_globals`. We recommend you start setting `weights_only=True` for any use case where you don't have full control of the loaded file. Please open an issue on GitHub for any issues related to this experimental feature.\n",
      "  checkpoint = torch.load(f'./model_checkpoints/{emotion}_best.pth')\n"
     ]
    },
    {
     "data": {
      "image/png": "[encoded data removed]",
      "text/plain": [
       "<Figure size 1200x400 with 2 Axes>"
      ]
     },
     "metadata": {},
     "output_type": "display_data"
    },
    {
     "name": "stderr",
     "output_type": "stream",
     "text": [
      "/Users/angwang/miniforge3/lib/python3.12/site-packages/torch/optim/lr_scheduler.py:62: UserWarning: The verbose parameter is deprecated. Please use get_last_lr() to access the learning rate.\n",
      "  warnings.warn(\n"
     ]
    },
    {
     "name": "stdout",
     "output_type": "stream",
     "text": [
      "\n",
      "Training model for sadness\n",
      "Validation features shape for sadness: torch.Size([116, 5521])\n"
     ]
    },
    {
     "name": "stderr",
     "output_type": "stream",
     "text": [
      "Training Loop (sadness):   0%|          | 1/401 [00:02<18:03,  2.71s/it]"
     ]
    },
    {
     "name": "stdout",
     "output_type": "stream",
     "text": [
      "\n",
      "Epoch 0 (sadness):\n",
      "Training Loss: 0.9011, Validation Loss: 0.7543\n",
      "Macro F1: 0.7138\n",
      "\n",
      "New best model for sadness at epoch 0 with F1: 0.7138\n"
     ]
    },
    {
     "name": "stderr",
     "output_type": "stream",
     "text": [
      "Training Loop (sadness):   0%|          | 2/401 [00:05<17:48,  2.68s/it]"
     ]
    },
    {
     "name": "stdout",
     "output_type": "stream",
     "text": [
      "\n",
      "New best model for sadness at epoch 1 with F1: 0.7302\n"
     ]
    },
    {
     "name": "stderr",
     "output_type": "stream",
     "text": [
      "Training Loop (sadness):   1%|          | 5/401 [00:13<18:41,  2.83s/it]"
     ]
    },
    {
     "name": "stdout",
     "output_type": "stream",
     "text": [
      "\n",
      "New best model for sadness at epoch 4 with F1: 0.7504\n"
     ]
    },
    {
     "name": "stderr",
     "output_type": "stream",
     "text": [
      "Training Loop (sadness):   2%|▏         | 7/401 [00:20<21:01,  3.20s/it]"
     ]
    },
    {
     "name": "stdout",
     "output_type": "stream",
     "text": [
      "\n",
      "New best model for sadness at epoch 6 with F1: 0.7882\n"
     ]
    },
    {
     "name": "stderr",
     "output_type": "stream",
     "text": [
      "Training Loop (sadness):   3%|▎         | 11/401 [00:32<18:12,  2.80s/it]"
     ]
    },
    {
     "name": "stdout",
     "output_type": "stream",
     "text": [
      "\n",
      "Epoch 10 (sadness):\n",
      "Training Loss: 0.0575, Validation Loss: 1.1649\n",
      "Macro F1: 0.7471\n"
     ]
    },
    {
     "name": "stderr",
     "output_type": "stream",
     "text": [
      "Training Loop (sadness):   4%|▍         | 16/401 [00:46<18:48,  2.93s/it]"
     ]
    },
    {
     "name": "stdout",
     "output_type": "stream",
     "text": [
      "\n",
      "Early stopping triggered at epoch 16\n",
      "\n",
      "Loaded best model for sadness from epoch 6 with F1: 0.7882\n"
     ]
    },
    {
     "name": "stderr",
     "output_type": "stream",
     "text": [
      "\n",
      "/var/folders/sx/hkqgssrx0jd_jb2_792hz_hm0000gp/T/ipykernel_40286/4006872239.py:114: FutureWarning: You are using `torch.load` with `weights_only=False` (the current default value), which uses the default pickle module implicitly. It is possible to construct malicious pickle data which will execute arbitrary code during unpickling (See https://github.com/pytorch/pytorch/blob/main/SECURITY.md#untrusted-models for more details). In a future release, the default value for `weights_only` will be flipped to `True`. This limits the functions that could be executed during unpickling. Arbitrary objects will no longer be allowed to be loaded via this mode unless they are explicitly allowlisted by the user via `torch.serialization.add_safe_globals`. We recommend you start setting `weights_only=True` for any use case where you don't have full control of the loaded file. Please open an issue on GitHub for any issues related to this experimental feature.\n",
      "  checkpoint = torch.load(f'./model_checkpoints/{emotion}_best.pth')\n"
     ]
    },
    {
     "data": {
      "image/png": "[encoded data removed]",
      "text/plain": [
       "<Figure size 1200x400 with 2 Axes>"
      ]
     },
     "metadata": {},
     "output_type": "display_data"
    },
    {
     "name": "stderr",
     "output_type": "stream",
     "text": [
      "/Users/angwang/miniforge3/lib/python3.12/site-packages/torch/optim/lr_scheduler.py:62: UserWarning: The verbose parameter is deprecated. Please use get_last_lr() to access the learning rate.\n",
      "  warnings.warn(\n"
     ]
    },
    {
     "name": "stdout",
     "output_type": "stream",
     "text": [
      "\n",
      "Training model for surprise\n",
      "Validation features shape for surprise: torch.Size([116, 5521])\n"
     ]
    },
    {
     "name": "stderr",
     "output_type": "stream",
     "text": [
      "Training Loop (surprise):   0%|          | 1/401 [00:02<17:10,  2.58s/it]"
     ]
    },
    {
     "name": "stdout",
     "output_type": "stream",
     "text": [
      "\n",
      "Epoch 0 (surprise):\n",
      "Training Loss: 0.8572, Validation Loss: 0.8133\n",
      "Macro F1: 0.6576\n",
      "\n",
      "New best model for surprise at epoch 0 with F1: 0.6576\n"
     ]
    },
    {
     "name": "stderr",
     "output_type": "stream",
     "text": [
      "Training Loop (surprise):   0%|          | 2/401 [00:04<14:34,  2.19s/it]"
     ]
    },
    {
     "name": "stdout",
     "output_type": "stream",
     "text": [
      "\n",
      "New best model for surprise at epoch 1 with F1: 0.6674\n"
     ]
    },
    {
     "name": "stderr",
     "output_type": "stream",
     "text": [
      "Training Loop (surprise):   1%|          | 3/401 [00:06<14:18,  2.16s/it]"
     ]
    },
    {
     "name": "stdout",
     "output_type": "stream",
     "text": [
      "\n",
      "New best model for surprise at epoch 2 with F1: 0.6705\n"
     ]
    },
    {
     "name": "stderr",
     "output_type": "stream",
     "text": [
      "Training Loop (surprise):   2%|▏         | 7/401 [00:14<12:57,  1.97s/it]"
     ]
    },
    {
     "name": "stdout",
     "output_type": "stream",
     "text": [
      "\n",
      "New best model for surprise at epoch 6 with F1: 0.7026\n"
     ]
    },
    {
     "name": "stderr",
     "output_type": "stream",
     "text": [
      "Training Loop (surprise):   3%|▎         | 11/401 [00:22<13:14,  2.04s/it]"
     ]
    },
    {
     "name": "stdout",
     "output_type": "stream",
     "text": [
      "\n",
      "Epoch 10 (surprise):\n",
      "Training Loss: 0.0519, Validation Loss: 1.4787\n",
      "Macro F1: 0.6469\n"
     ]
    },
    {
     "name": "stderr",
     "output_type": "stream",
     "text": [
      "Training Loop (surprise):   4%|▍         | 17/401 [00:34<12:48,  2.00s/it]"
     ]
    },
    {
     "name": "stdout",
     "output_type": "stream",
     "text": [
      "\n",
      "New best model for surprise at epoch 16 with F1: 0.7188\n"
     ]
    },
    {
     "name": "stderr",
     "output_type": "stream",
     "text": [
      "Training Loop (surprise):   5%|▌         | 21/401 [00:43<15:35,  2.46s/it]"
     ]
    },
    {
     "name": "stdout",
     "output_type": "stream",
     "text": [
      "\n",
      "Epoch 20 (surprise):\n",
      "Training Loss: 0.0135, Validation Loss: 1.8300\n",
      "Macro F1: 0.7093\n"
     ]
    },
    {
     "name": "stderr",
     "output_type": "stream",
     "text": [
      "Training Loop (surprise):   7%|▋         | 27/401 [01:01<17:16,  2.77s/it]"
     ]
    },
    {
     "name": "stdout",
     "output_type": "stream",
     "text": [
      "\n",
      "New best model for surprise at epoch 26 with F1: 0.7276\n"
     ]
    },
    {
     "name": "stderr",
     "output_type": "stream",
     "text": [
      "Training Loop (surprise):   8%|▊         | 31/401 [01:08<12:37,  2.05s/it]"
     ]
    },
    {
     "name": "stdout",
     "output_type": "stream",
     "text": [
      "\n",
      "Epoch 30 (surprise):\n",
      "Training Loss: 0.0052, Validation Loss: 1.7746\n",
      "Macro F1: 0.6853\n"
     ]
    },
    {
     "name": "stderr",
     "output_type": "stream",
     "text": [
      "Training Loop (surprise):   9%|▉         | 36/401 [01:24<14:19,  2.36s/it]"
     ]
    },
    {
     "name": "stdout",
     "output_type": "stream",
     "text": [
      "\n",
      "Early stopping triggered at epoch 36\n",
      "\n",
      "Loaded best model for surprise from epoch 26 with F1: 0.7276\n"
     ]
    },
    {
     "name": "stderr",
     "output_type": "stream",
     "text": [
      "\n",
      "/var/folders/sx/hkqgssrx0jd_jb2_792hz_hm0000gp/T/ipykernel_40286/4006872239.py:114: FutureWarning: You are using `torch.load` with `weights_only=False` (the current default value), which uses the default pickle module implicitly. It is possible to construct malicious pickle data which will execute arbitrary code during unpickling (See https://github.com/pytorch/pytorch/blob/main/SECURITY.md#untrusted-models for more details). In a future release, the default value for `weights_only` will be flipped to `True`. This limits the functions that could be executed during unpickling. Arbitrary objects will no longer be allowed to be loaded via this mode unless they are explicitly allowlisted by the user via `torch.serialization.add_safe_globals`. We recommend you start setting `weights_only=True` for any use case where you don't have full control of the loaded file. Please open an issue on GitHub for any issues related to this experimental feature.\n",
      "  checkpoint = torch.load(f'./model_checkpoints/{emotion}_best.pth')\n"
     ]
    },
    {
     "data": {
      "image/png": "[encoded data removed]",
      "text/plain": [
       "<Figure size 1200x400 with 2 Axes>"
      ]
     },
     "metadata": {},
     "output_type": "display_data"
    },
    {
     "name": "stderr",
     "output_type": "stream",
     "text": [
      "/Users/angwang/miniforge3/lib/python3.12/site-packages/torch/optim/lr_scheduler.py:62: UserWarning: The verbose parameter is deprecated. Please use get_last_lr() to access the learning rate.\n",
      "  warnings.warn(\n"
     ]
    },
    {
     "name": "stdout",
     "output_type": "stream",
     "text": [
      "\n",
      "Training model for fear\n",
      "Validation features shape for fear: torch.Size([116, 5521])\n"
     ]
    },
    {
     "name": "stderr",
     "output_type": "stream",
     "text": [
      "Training Loop (fear):   0%|          | 1/401 [00:01<13:02,  1.96s/it]"
     ]
    },
    {
     "name": "stdout",
     "output_type": "stream",
     "text": [
      "\n",
      "Epoch 0 (fear):\n",
      "Training Loss: 0.5357, Validation Loss: 0.5636\n",
      "Macro F1: 0.5937\n",
      "\n",
      "New best model for fear at epoch 0 with F1: 0.5937\n"
     ]
    },
    {
     "name": "stderr",
     "output_type": "stream",
     "text": [
      "Training Loop (fear):   0%|          | 2/401 [00:03<13:06,  1.97s/it]"
     ]
    },
    {
     "name": "stdout",
     "output_type": "stream",
     "text": [
      "\n",
      "New best model for fear at epoch 1 with F1: 0.6551\n"
     ]
    },
    {
     "name": "stderr",
     "output_type": "stream",
     "text": [
      "Training Loop (fear):   1%|          | 3/401 [00:05<12:53,  1.94s/it]"
     ]
    },
    {
     "name": "stdout",
     "output_type": "stream",
     "text": [
      "\n",
      "New best model for fear at epoch 2 with F1: 0.6595\n"
     ]
    },
    {
     "name": "stderr",
     "output_type": "stream",
     "text": [
      "Training Loop (fear):   1%|          | 4/401 [00:07<12:44,  1.93s/it]"
     ]
    },
    {
     "name": "stdout",
     "output_type": "stream",
     "text": [
      "\n",
      "New best model for fear at epoch 3 with F1: 0.6636\n"
     ]
    },
    {
     "name": "stderr",
     "output_type": "stream",
     "text": [
      "Training Loop (fear):   3%|▎         | 11/401 [00:22<14:19,  2.20s/it]"
     ]
    },
    {
     "name": "stdout",
     "output_type": "stream",
     "text": [
      "\n",
      "Epoch 10 (fear):\n",
      "Training Loss: 0.0292, Validation Loss: 0.8804\n",
      "Macro F1: 0.6545\n"
     ]
    },
    {
     "name": "stderr",
     "output_type": "stream",
     "text": [
      "Training Loop (fear):   3%|▎         | 13/401 [00:29<14:27,  2.24s/it]"
     ]
    },
    {
     "name": "stdout",
     "output_type": "stream",
     "text": [
      "\n",
      "Early stopping triggered at epoch 13\n",
      "\n",
      "Loaded best model for fear from epoch 3 with F1: 0.6636\n"
     ]
    },
    {
     "name": "stderr",
     "output_type": "stream",
     "text": [
      "\n",
      "/var/folders/sx/hkqgssrx0jd_jb2_792hz_hm0000gp/T/ipykernel_40286/4006872239.py:114: FutureWarning: You are using `torch.load` with `weights_only=False` (the current default value), which uses the default pickle module implicitly. It is possible to construct malicious pickle data which will execute arbitrary code during unpickling (See https://github.com/pytorch/pytorch/blob/main/SECURITY.md#untrusted-models for more details). In a future release, the default value for `weights_only` will be flipped to `True`. This limits the functions that could be executed during unpickling. Arbitrary objects will no longer be allowed to be loaded via this mode unless they are explicitly allowlisted by the user via `torch.serialization.add_safe_globals`. We recommend you start setting `weights_only=True` for any use case where you don't have full control of the loaded file. Please open an issue on GitHub for any issues related to this experimental feature.\n",
      "  checkpoint = torch.load(f'./model_checkpoints/{emotion}_best.pth')\n"
     ]
    },
    {
     "data": {
      "image/png": "[encoded data removed]",
      "text/plain": [
       "<Figure size 1200x400 with 2 Axes>"
      ]
     },
     "metadata": {},
     "output_type": "display_data"
    },
    {
     "name": "stderr",
     "output_type": "stream",
     "text": [
      "/Users/angwang/miniforge3/lib/python3.12/site-packages/torch/optim/lr_scheduler.py:62: UserWarning: The verbose parameter is deprecated. Please use get_last_lr() to access the learning rate.\n",
      "  warnings.warn(\n"
     ]
    },
    {
     "name": "stdout",
     "output_type": "stream",
     "text": [
      "\n",
      "Training model for anger\n",
      "Validation features shape for anger: torch.Size([116, 5521])\n"
     ]
    },
    {
     "name": "stderr",
     "output_type": "stream",
     "text": [
      "Training Loop (anger):   0%|          | 1/401 [00:02<14:44,  2.21s/it]"
     ]
    },
    {
     "name": "stdout",
     "output_type": "stream",
     "text": [
      "\n",
      "Epoch 0 (anger):\n",
      "Training Loss: 1.1763, Validation Loss: 1.1311\n",
      "Macro F1: 0.5533\n",
      "\n",
      "New best model for anger at epoch 0 with F1: 0.5533\n"
     ]
    },
    {
     "name": "stderr",
     "output_type": "stream",
     "text": [
      "Training Loop (anger):   0%|          | 2/401 [00:04<13:56,  2.10s/it]"
     ]
    },
    {
     "name": "stdout",
     "output_type": "stream",
     "text": [
      "\n",
      "New best model for anger at epoch 1 with F1: 0.6354\n"
     ]
    },
    {
     "name": "stderr",
     "output_type": "stream",
     "text": [
      "Training Loop (anger):   1%|          | 3/401 [00:06<13:59,  2.11s/it]"
     ]
    },
    {
     "name": "stdout",
     "output_type": "stream",
     "text": [
      "\n",
      "New best model for anger at epoch 2 with F1: 0.6593\n"
     ]
    },
    {
     "name": "stderr",
     "output_type": "stream",
     "text": [
      "Training Loop (anger):   1%|          | 4/401 [00:08<13:51,  2.09s/it]"
     ]
    },
    {
     "name": "stdout",
     "output_type": "stream",
     "text": [
      "\n",
      "New best model for anger at epoch 3 with F1: 0.7281\n"
     ]
    },
    {
     "name": "stderr",
     "output_type": "stream",
     "text": [
      "Training Loop (anger):   3%|▎         | 11/401 [00:22<12:24,  1.91s/it]"
     ]
    },
    {
     "name": "stdout",
     "output_type": "stream",
     "text": [
      "\n",
      "Epoch 10 (anger):\n",
      "Training Loss: 0.0528, Validation Loss: 2.3922\n",
      "Macro F1: 0.6968\n"
     ]
    },
    {
     "name": "stderr",
     "output_type": "stream",
     "text": [
      "Training Loop (anger):   3%|▎         | 13/401 [00:27<13:52,  2.15s/it]"
     ]
    },
    {
     "name": "stdout",
     "output_type": "stream",
     "text": [
      "\n",
      "Early stopping triggered at epoch 13\n",
      "\n",
      "Loaded best model for anger from epoch 3 with F1: 0.7281\n"
     ]
    },
    {
     "name": "stderr",
     "output_type": "stream",
     "text": [
      "\n",
      "/var/folders/sx/hkqgssrx0jd_jb2_792hz_hm0000gp/T/ipykernel_40286/4006872239.py:114: FutureWarning: You are using `torch.load` with `weights_only=False` (the current default value), which uses the default pickle module implicitly. It is possible to construct malicious pickle data which will execute arbitrary code during unpickling (See https://github.com/pytorch/pytorch/blob/main/SECURITY.md#untrusted-models for more details). In a future release, the default value for `weights_only` will be flipped to `True`. This limits the functions that could be executed during unpickling. Arbitrary objects will no longer be allowed to be loaded via this mode unless they are explicitly allowlisted by the user via `torch.serialization.add_safe_globals`. We recommend you start setting `weights_only=True` for any use case where you don't have full control of the loaded file. Please open an issue on GitHub for any issues related to this experimental feature.\n",
      "  checkpoint = torch.load(f'./model_checkpoints/{emotion}_best.pth')\n"
     ]
    },
    {
     "data": {
      "image/png": "[encoded data removed]",
      "text/plain": [
       "<Figure size 1200x400 with 2 Axes>"
      ]
     },
     "metadata": {},
     "output_type": "display_data"
    }
   ],
   "source": [
    "for emotion in emotions:\n",
    "    print(f\"\\nTraining model for {emotion}\")\n",
    "    model = models[emotion]\n",
    "    model.train()  # Add this to explicitly set training mode\n",
    "    \n",
    "    # Prepare data for this emotion\n",
    "    features_tensor = torch.tensor(final_train_features[emotion], dtype=torch.float32)\n",
    "    labels_tensor = torch.tensor(y_train[:, emotions.index(emotion)], dtype=torch.float32).unsqueeze(1)\n",
    "    \n",
    "    # Add validation tensors\n",
    "    val_features_tensor = torch.tensor(final_val_features[emotion], dtype=torch.float32)\n",
    "    val_labels_tensor = torch.tensor(y_val[:, emotions.index(emotion)], dtype=torch.float32).unsqueeze(1)\n",
    "    print(f\"Validation features shape for {emotion}: {val_features_tensor.shape}\")\n",
    "    \n",
    "    dataset = TensorDataset(features_tensor, labels_tensor)\n",
    "    data_loader = DataLoader(dataset, batch_size=32, shuffle=True)  # Increased batch size\n",
    "\n",
    "    # Calculate class weights for this emotion\n",
    "    pos_weight = (len(labels_tensor) - labels_tensor.sum()) / labels_tensor.sum()\n",
    "    criterion = nn.BCEWithLogitsLoss(pos_weight=pos_weight)  # Better handling of class imbalance\n",
    "    \n",
    "    # Use Adam optimizer with learning rate scheduler\n",
    "    optimizer = optim.Adam(model.parameters(), lr=1e-3, weight_decay=1e-4)\n",
    "    scheduler = ReduceLROnPlateau(optimizer, mode='max', patience=5, factor=0.5, verbose=True)\n",
    "\n",
    "    # Training loop\n",
    "    best_f1 = 0\n",
    "    patience = 10\n",
    "    patience_counter = 0\n",
    "    train_losses = []\n",
    "    val_f1s = []\n",
    "    \n",
    "    for epoch in tqdm(range(401), desc=f\"Training Loop ({emotion})\"):\n",
    "        # Training phase\n",
    "        model.train()\n",
    "        epoch_loss = 0\n",
    "        batch_count = 0\n",
    "        \n",
    "        for features, labels in data_loader:\n",
    "            optimizer.zero_grad()\n",
    "            outputs = model(features)\n",
    "            loss = criterion(outputs, labels)\n",
    "            loss.backward()\n",
    "            optimizer.step()\n",
    "            epoch_loss += loss.item()\n",
    "            batch_count += 1\n",
    "\n",
    "            # Adversarial training\n",
    "            epsilon = 0.01  # Small perturbation value\n",
    "            features.requires_grad = True\n",
    "            outputs_adv = model(features)\n",
    "            loss_adv = criterion(outputs_adv, labels)\n",
    "            model.zero_grad()\n",
    "            loss_adv.backward()\n",
    "            data_grad = features.grad.data\n",
    "            perturbed_data = features + epsilon * data_grad.sign()\n",
    "            perturbed_data = torch.clamp(perturbed_data, 0, 1)  # Ensure data is valid\n",
    "\n",
    "            # Re-run the model with perturbed data\n",
    "            outputs_perturbed = model(perturbed_data)\n",
    "            loss_perturbed = criterion(outputs_perturbed, labels)\n",
    "            loss_perturbed.backward()\n",
    "            optimizer.step()\n",
    "\n",
    "        avg_train_loss = epoch_loss / batch_count\n",
    "        \n",
    "        # Validation phase\n",
    "        model.eval()\n",
    "        with torch.no_grad():\n",
    "            val_outputs = model(val_features_tensor)\n",
    "            val_preds = (torch.sigmoid(val_outputs).squeeze() > 0.5).float()\n",
    "            val_labels = val_labels_tensor.squeeze()\n",
    "            \n",
    "            # Calculate metrics\n",
    "            val_loss = criterion(val_outputs, val_labels_tensor)\n",
    "            macro_f1 = f1_score(\n",
    "                val_labels.cpu().numpy(),\n",
    "                val_preds.cpu().numpy(),\n",
    "                average='macro',\n",
    "                zero_division=0\n",
    "            )\n",
    "\n",
    "        # Learning rate scheduling\n",
    "        scheduler.step(macro_f1)\n",
    "\n",
    "        if epoch % 10 == 0:  # More frequent logging\n",
    "            print(f'\\nEpoch {epoch} ({emotion}):')\n",
    "            print(f'Training Loss: {avg_train_loss:.4f}, Validation Loss: {val_loss:.4f}')\n",
    "            print(f'Macro F1: {macro_f1:.4f}')\n",
    "            train_losses.append(avg_train_loss)\n",
    "            val_f1s.append(macro_f1)\n",
    "        \n",
    "        # Save best model\n",
    "        if macro_f1 > best_f1:\n",
    "            best_f1 = macro_f1\n",
    "            torch.save({\n",
    "                'epoch': epoch,\n",
    "                'model_state_dict': model.state_dict(),\n",
    "                'optimizer_state_dict': optimizer.state_dict(),\n",
    "                'loss': avg_train_loss,\n",
    "                'f1': macro_f1\n",
    "            }, f'./model_checkpoints/{emotion}_best.pth')\n",
    "            print(f\"\\nNew best model for {emotion} at epoch {epoch} with F1: {macro_f1:.4f}\")\n",
    "            patience_counter = 0\n",
    "        else:\n",
    "            patience_counter += 1\n",
    "\n",
    "        # Early stopping\n",
    "        if patience_counter >= patience:\n",
    "            print(f\"\\nEarly stopping triggered at epoch {epoch}\")\n",
    "            break\n",
    "\n",
    "    # Load best model for this emotion\n",
    "    checkpoint = torch.load(f'./model_checkpoints/{emotion}_best.pth')\n",
    "    model.load_state_dict(checkpoint['model_state_dict'])\n",
    "    print(f\"\\nLoaded best model for {emotion} from epoch {checkpoint['epoch']} with F1: {checkpoint['f1']:.4f}\")\n",
    "\n",
    "    # Plot training curves\n",
    "    plt.figure(figsize=(12, 4))\n",
    "    \n",
    "    plt.subplot(1, 2, 1)\n",
    "    plt.plot(range(len(train_losses)), train_losses, label='Training Loss')\n",
    "    plt.title(f'Training Loss for {emotion}')\n",
    "    plt.xlabel('Epoch (x10)')\n",
    "    plt.ylabel('Loss')\n",
    "    plt.grid(True)\n",
    "    plt.legend()\n",
    "    \n",
    "    plt.subplot(1, 2, 2)\n",
    "    plt.plot(range(len(val_f1s)), val_f1s, label='Validation F1')\n",
    "    plt.title(f'Validation Macro F1 for {emotion}')\n",
    "    plt.xlabel('Epoch (x10)')\n",
    "    plt.ylabel('Macro F1')\n",
    "    plt.grid(True)\n",
    "    plt.legend()\n",
    "    \n",
    "    plt.tight_layout()\n",
    "    plt.show()"
   ]
  },
  {
   "cell_type": "code",
   "execution_count": 26,
   "metadata": {},
   "outputs": [],
   "source": [
    "# # Training loop for each emotion\n",
    "# for emotion in emotions:\n",
    "#     print(f\"\\nTraining model for {emotion}\")\n",
    "#     model = models[emotion]\n",
    "    \n",
    "#     # Prepare data for this emotion\n",
    "#     features_tensor = torch.tensor(final_train_features[emotion], dtype=torch.float32)\n",
    "#     labels_tensor = torch.tensor(y_train[:, emotions.index(emotion)], dtype=torch.float32).unsqueeze(1)\n",
    "#     dataset = TensorDataset(features_tensor, labels_tensor)\n",
    "#     data_loader = DataLoader(dataset, batch_size=16, shuffle=True)\n",
    "\n",
    "#     # Calculate class weights for this emotion\n",
    "#     class_count = y_train[:, emotions.index(emotion)].sum()\n",
    "#     total_count = y_train.shape[0]\n",
    "#     weights = total_count / class_count\n",
    "\n",
    "#     criterion = nn.BCEWithLogitsLoss(pos_weight=torch.tensor([weights], dtype=torch.float32))\n",
    "#     optimizer = optim.SGD(model.parameters(), lr=1e-4, weight_decay=1e-4)\n",
    "\n",
    "#     # Training loop\n",
    "#     losses = []\n",
    "#     for epoch in tqdm(range(401), desc=f\"Training Loop ({emotion})\"):\n",
    "#         for features, labels in data_loader:\n",
    "#             optimizer.zero_grad()\n",
    "#             outputs = model(features)\n",
    "#             loss = criterion(outputs, labels)\n",
    "#             loss.backward()\n",
    "#             optimizer.step()\n",
    "\n",
    "#         if epoch % 100 == 0:\n",
    "#             print(f'Epoch {epoch} ({emotion}): Loss: {round(loss.item(),3)}')\n",
    "#             torch.save(model.state_dict(), f'./model_checkpoints/{emotion}_net_epoch_{epoch}.pth')\n",
    "#             print(f\"Saved epoch {epoch} weights for {emotion}\")\n",
    "#             losses.append(round(loss.item(),3))\n",
    "\n",
    "#     # Optional: Plot losses for this emotion\n",
    "#     plt.figure(figsize=(10, 5))\n",
    "#     plt.plot(range(0, 401, 100), losses)\n",
    "#     plt.title(f'Training Loss for {emotion}')\n",
    "#     plt.xlabel('Epoch')\n",
    "#     plt.ylabel('Loss')\n",
    "#     plt.grid(True)\n",
    "#     plt.show()"
   ]
  },
  {
   "cell_type": "markdown",
   "metadata": {},
   "source": [
    "### Complete same training loop for all emotions using macro F1 score"
   ]
  },
  {
   "cell_type": "code",
   "execution_count": 27,
   "metadata": {},
   "outputs": [],
   "source": [
    "# from sklearn.metrics import f1_score, jaccard_score, classification_report\n",
    "\n",
    "# # Dictionary to store best models based on macro F1\n",
    "# best_models = {emotion: {'model': None, 'f1': 0, 'epoch': 0} for emotion in emotions}\n",
    "\n",
    "# for emotion in emotions:\n",
    "#     print(f\"\\nTraining model for {emotion}\")\n",
    "#     model = models[emotion]\n",
    "    \n",
    "#     # Prepare data for this emotion\n",
    "#     features_tensor = torch.tensor(final_train_features[emotion], dtype=torch.float32)  # Keep emotion-specific features\n",
    "#     labels_tensor = torch.tensor(y_train[:, emotions.index(emotion)], dtype=torch.float32).unsqueeze(1)\n",
    "#     dataset = TensorDataset(features_tensor, labels_tensor)\n",
    "#     data_loader = DataLoader(dataset, batch_size=16, shuffle=True)\n",
    "\n",
    "#     # Prepare validation data\n",
    "#     val_features_tensor = torch.tensor(final_val_features[emotion], dtype=torch.float32)\n",
    "#     val_labels_tensor = torch.tensor(y_val[:, emotions.index(emotion)], dtype=torch.float32).unsqueeze(1)\n",
    "\n",
    "#     # Calculate class weights for this emotion\n",
    "#     class_count = y_train[:, emotions.index(emotion)].sum()\n",
    "#     total_count = y_train.shape[0]\n",
    "#     weights = total_count / class_count\n",
    "\n",
    "#     criterion = nn.BCEWithLogitsLoss(pos_weight=torch.tensor([weights], dtype=torch.float32))\n",
    "#     optimizer = optim.SGD(model.parameters(), lr=1e-4, weight_decay=1e-4)\n",
    "#     scheduler = optim.lr_scheduler.ReduceLROnPlateau(optimizer, mode='max', patience=5, factor=0.5)  # Changed to max mode\n",
    "\n",
    "#     # Training loop\n",
    "#     best_f1 = 0  # Initialize best_f1 for this emotion\n",
    "#     patience = 10\n",
    "#     patience_counter = 0\n",
    "#     train_losses = []\n",
    "#     val_f1s = []\n",
    "\n",
    "#     for epoch in tqdm(range(401), desc=f\"Training Loop ({emotion})\"):\n",
    "#         # Training phase\n",
    "#         model.train()\n",
    "#         epoch_loss = 0\n",
    "#         batch_count = 0\n",
    "        \n",
    "#         for features, labels in data_loader:\n",
    "#             optimizer.zero_grad()\n",
    "#             outputs = model(features)\n",
    "#             loss = criterion(outputs, labels)\n",
    "#             loss.backward()\n",
    "#             optimizer.step()\n",
    "#             epoch_loss += loss.item()\n",
    "#             batch_count += 1\n",
    "\n",
    "#         avg_train_loss = epoch_loss / batch_count\n",
    "\n",
    "#         # Validation phase\n",
    "#         model.eval()\n",
    "#         with torch.no_grad():\n",
    "#             val_outputs = model(val_features_tensor)\n",
    "#             # Fix 1: Use squeeze() to match dimensions\n",
    "#             val_preds = (torch.sigmoid(val_outputs).squeeze().numpy() > 0.5).astype(int)\n",
    "#             val_labels = val_labels_tensor.squeeze().numpy()\n",
    "            \n",
    "#             # Fix 2: Calculate macro F1 properly\n",
    "#             macro_f1 = f1_score(\n",
    "#                 val_labels,\n",
    "#                 val_preds,\n",
    "#                 average='macro',\n",
    "#                 zero_division=0  # Handle cases with no positive labels\n",
    "#             )\n",
    "\n",
    "#         # Learning rate scheduling based on F1\n",
    "#         scheduler.step(macro_f1)\n",
    "\n",
    "#         if epoch % 100 == 0:\n",
    "#             print(f'Epoch {epoch} ({emotion}):')\n",
    "#             print(f'Training Loss: {avg_train_loss:.3f}, Macro F1: {macro_f1:.3f}')\n",
    "#             train_losses.append(avg_train_loss)\n",
    "#             val_f1s.append(macro_f1)\n",
    "        \n",
    "#         # Fix 3: Update best_f1 when saving best model\n",
    "#         if macro_f1 > best_f1:\n",
    "#             best_f1 = macro_f1  # Update best_f1\n",
    "#             best_models[emotion]['f1'] = macro_f1\n",
    "#             torch.save(model.state_dict(), \n",
    "#                       f'./model_checkpoints/{emotion}_best_f1_epoch_{epoch}.pth')\n",
    "#             best_models[emotion]['epoch'] = epoch\n",
    "#             best_models[emotion]['model'] = model.state_dict().copy()\n",
    "#             print(f\"New best model for {emotion} at epoch {epoch} with F1: {macro_f1:.3f}\")\n",
    "#             patience_counter = 0\n",
    "#         else:\n",
    "#             patience_counter += 1\n",
    "\n",
    "#         # Early stopping\n",
    "#         if patience_counter >= patience:\n",
    "#             print(f\"Early stopping triggered at epoch {epoch}\")\n",
    "#             break\n",
    "\n",
    "#     # Plot training curves\n",
    "#     plt.figure(figsize=(10, 5))\n",
    "    \n",
    "#     # Plot training loss with correct epoch numbers\n",
    "#     plt.subplot(1, 2, 1)\n",
    "#     epochs = [i*100 for i in range(len(train_losses))]  # Create epoch numbers (0, 100, 200, etc.)\n",
    "#     plt.plot(epochs, train_losses, marker='o')  # Added markers to better see the points\n",
    "#     plt.title(f'Training Loss for {emotion}')\n",
    "#     plt.xlabel('Epoch')\n",
    "#     plt.ylabel('Loss')\n",
    "#     plt.grid(True)\n",
    "    \n",
    "#     # Plot validation F1 with correct epoch numbers\n",
    "#     plt.subplot(1, 2, 2)\n",
    "#     plt.plot(epochs, val_f1s, marker='o')  # Added markers to better see the points\n",
    "#     plt.title(f'Validation Macro F1 for {emotion}')\n",
    "#     plt.xlabel('Epoch')\n",
    "#     plt.ylabel('Macro F1')\n",
    "#     plt.grid(True)\n",
    "    \n",
    "#     plt.tight_layout()\n",
    "#     plt.show()\n",
    "\n",
    "#     print(f\"\\nBest macro F1 for {emotion}: {best_f1:.3f}\")  # Now uses correct best_f1"
   ]
  },
  {
   "cell_type": "code",
   "execution_count": 28,
   "metadata": {},
   "outputs": [],
   "source": [
    "# Save predictions\n",
    "def save_predictions(predictions, ids, filename):\n",
    "    df_predictions = pd.DataFrame(predictions, columns=emotions)\n",
    "    df_predictions['id'] = ids\n",
    "    df_predictions = df_predictions[['id'] + emotions]\n",
    "    df_predictions.to_csv(filename, index=False)\n",
    "    print(f\"Saved predictions to {filename}\")\n",
    "\n",
    "# Save validation and test predictions\n",
    "from datetime import datetime\n",
    "timestamp = datetime.now().strftime('%Y-%m-%d_%H_%M_%S')"
   ]
  },
  {
   "cell_type": "code",
   "execution_count": 29,
   "metadata": {},
   "outputs": [
    {
     "name": "stdout",
     "output_type": "stream",
     "text": [
      "\n",
      "Generating predictions for all emotions...\n",
      "Using best joy model from epoch 4 with F1: 0.761\n"
     ]
    },
    {
     "name": "stderr",
     "output_type": "stream",
     "text": [
      "/var/folders/sx/hkqgssrx0jd_jb2_792hz_hm0000gp/T/ipykernel_40286/184351224.py:11: FutureWarning: You are using `torch.load` with `weights_only=False` (the current default value), which uses the default pickle module implicitly. It is possible to construct malicious pickle data which will execute arbitrary code during unpickling (See https://github.com/pytorch/pytorch/blob/main/SECURITY.md#untrusted-models for more details). In a future release, the default value for `weights_only` will be flipped to `True`. This limits the functions that could be executed during unpickling. Arbitrary objects will no longer be allowed to be loaded via this mode unless they are explicitly allowlisted by the user via `torch.serialization.add_safe_globals`. We recommend you start setting `weights_only=True` for any use case where you don't have full control of the loaded file. Please open an issue on GitHub for any issues related to this experimental feature.\n",
      "  checkpoint = torch.load(f'./model_checkpoints/{emotion}_best.pth')\n"
     ]
    },
    {
     "name": "stdout",
     "output_type": "stream",
     "text": [
      "Using best sadness model from epoch 6 with F1: 0.788\n",
      "Using best surprise model from epoch 26 with F1: 0.728\n",
      "Using best fear model from epoch 3 with F1: 0.664\n",
      "Using best anger model from epoch 3 with F1: 0.728\n",
      "\n",
      "Performing threshold grid search...\n"
     ]
    },
    {
     "name": "stderr",
     "output_type": "stream",
     "text": [
      "Testing thresholds:   0%|          | 0/16 [00:00<?, ?it/s]/Users/angwang/miniforge3/lib/python3.12/site-packages/sklearn/metrics/_classification.py:1531: UndefinedMetricWarning: Jaccard is ill-defined and being set to 0.0 in samples with no true or predicted labels. Use `zero_division` parameter to control this behavior.\n",
      "  _warn_prf(average, modifier, f\"{metric.capitalize()} is\", len(result))\n",
      "/Users/angwang/miniforge3/lib/python3.12/site-packages/sklearn/metrics/_classification.py:1531: UndefinedMetricWarning: Jaccard is ill-defined and being set to 0.0 in samples with no true or predicted labels. Use `zero_division` parameter to control this behavior.\n",
      "  _warn_prf(average, modifier, f\"{metric.capitalize()} is\", len(result))\n",
      "/Users/angwang/miniforge3/lib/python3.12/site-packages/sklearn/metrics/_classification.py:1531: UndefinedMetricWarning: Jaccard is ill-defined and being set to 0.0 in samples with no true or predicted labels. Use `zero_division` parameter to control this behavior.\n",
      "  _warn_prf(average, modifier, f\"{metric.capitalize()} is\", len(result))\n",
      "/Users/angwang/miniforge3/lib/python3.12/site-packages/sklearn/metrics/_classification.py:1531: UndefinedMetricWarning: Jaccard is ill-defined and being set to 0.0 in samples with no true or predicted labels. Use `zero_division` parameter to control this behavior.\n",
      "  _warn_prf(average, modifier, f\"{metric.capitalize()} is\", len(result))\n",
      "/Users/angwang/miniforge3/lib/python3.12/site-packages/sklearn/metrics/_classification.py:1531: UndefinedMetricWarning: Jaccard is ill-defined and being set to 0.0 in samples with no true or predicted labels. Use `zero_division` parameter to control this behavior.\n",
      "  _warn_prf(average, modifier, f\"{metric.capitalize()} is\", len(result))\n",
      "/Users/angwang/miniforge3/lib/python3.12/site-packages/sklearn/metrics/_classification.py:1531: UndefinedMetricWarning: Jaccard is ill-defined and being set to 0.0 in samples with no true or predicted labels. Use `zero_division` parameter to control this behavior.\n",
      "  _warn_prf(average, modifier, f\"{metric.capitalize()} is\", len(result))\n",
      "/Users/angwang/miniforge3/lib/python3.12/site-packages/sklearn/metrics/_classification.py:1531: UndefinedMetricWarning: Jaccard is ill-defined and being set to 0.0 in samples with no true or predicted labels. Use `zero_division` parameter to control this behavior.\n",
      "  _warn_prf(average, modifier, f\"{metric.capitalize()} is\", len(result))\n",
      "/Users/angwang/miniforge3/lib/python3.12/site-packages/sklearn/metrics/_classification.py:1531: UndefinedMetricWarning: Jaccard is ill-defined and being set to 0.0 in samples with no true or predicted labels. Use `zero_division` parameter to control this behavior.\n",
      "  _warn_prf(average, modifier, f\"{metric.capitalize()} is\", len(result))\n",
      "/Users/angwang/miniforge3/lib/python3.12/site-packages/sklearn/metrics/_classification.py:1531: UndefinedMetricWarning: Jaccard is ill-defined and being set to 0.0 in samples with no true or predicted labels. Use `zero_division` parameter to control this behavior.\n",
      "  _warn_prf(average, modifier, f\"{metric.capitalize()} is\", len(result))\n",
      "/Users/angwang/miniforge3/lib/python3.12/site-packages/sklearn/metrics/_classification.py:1531: UndefinedMetricWarning: Jaccard is ill-defined and being set to 0.0 in samples with no true or predicted labels. Use `zero_division` parameter to control this behavior.\n",
      "  _warn_prf(average, modifier, f\"{metric.capitalize()} is\", len(result))\n",
      "/Users/angwang/miniforge3/lib/python3.12/site-packages/sklearn/metrics/_classification.py:1531: UndefinedMetricWarning: Jaccard is ill-defined and being set to 0.0 in samples with no true or predicted labels. Use `zero_division` parameter to control this behavior.\n",
      "  _warn_prf(average, modifier, f\"{metric.capitalize()} is\", len(result))\n",
      "Testing thresholds: 100%|██████████| 16/16 [00:00<00:00, 186.11it/s]\n"
     ]
    },
    {
     "name": "stdout",
     "output_type": "stream",
     "text": [
      "\n",
      "Best Results:\n",
      "Best threshold: 0.500\n",
      "Best Macro F1: 0.633\n"
     ]
    },
    {
     "data": {
      "image/png": "[encoded data removed]",
      "text/plain": [
       "<Figure size 1000x600 with 1 Axes>"
      ]
     },
     "metadata": {},
     "output_type": "display_data"
    },
    {
     "name": "stderr",
     "output_type": "stream",
     "text": [
      "/Users/angwang/miniforge3/lib/python3.12/site-packages/sklearn/metrics/_classification.py:1531: UndefinedMetricWarning: Precision is ill-defined and being set to 0.0 in samples with no predicted labels. Use `zero_division` parameter to control this behavior.\n",
      "  _warn_prf(average, modifier, f\"{metric.capitalize()} is\", len(result))\n",
      "/Users/angwang/miniforge3/lib/python3.12/site-packages/sklearn/metrics/_classification.py:1531: UndefinedMetricWarning: Recall is ill-defined and being set to 0.0 in samples with no true labels. Use `zero_division` parameter to control this behavior.\n",
      "  _warn_prf(average, modifier, f\"{metric.capitalize()} is\", len(result))\n",
      "/Users/angwang/miniforge3/lib/python3.12/site-packages/sklearn/metrics/_classification.py:1531: UndefinedMetricWarning: F-score is ill-defined and being set to 0.0 in samples with no true nor predicted labels. Use `zero_division` parameter to control this behavior.\n",
      "  _warn_prf(average, modifier, f\"{metric.capitalize()} is\", len(result))\n"
     ]
    },
    {
     "name": "stdout",
     "output_type": "stream",
     "text": [
      "\n",
      "Final Validation Performance with Best Threshold:\n",
      "              precision    recall  f1-score   support\n",
      "\n",
      "         joy       0.68      0.61      0.64        31\n",
      "     sadness       0.74      0.66      0.70        35\n",
      "    surprise       0.59      0.61      0.60        31\n",
      "        fear       0.71      0.63      0.67        63\n",
      "       anger       0.46      0.69      0.55        16\n",
      "\n",
      "   micro avg       0.65      0.64      0.65       176\n",
      "   macro avg       0.64      0.64      0.63       176\n",
      "weighted avg       0.67      0.64      0.65       176\n",
      " samples avg       0.60      0.59      0.56       176\n",
      "\n",
      "Saved predictions to ../results/val_predictions_threshold_0.500_2025-01-31_21_34_56.csv\n",
      "Saved predictions to ../results/test_predictions_threshold_0.500_2025-01-31_21_34_56.csv\n",
      "\n",
      "Per-emotion performance at best threshold:\n",
      "joy: F1 = 0.644\n",
      "sadness: F1 = 0.697\n",
      "surprise: F1 = 0.603\n",
      "fear: F1 = 0.672\n",
      "anger: F1 = 0.550\n"
     ]
    }
   ],
   "source": [
    "# After training loop finishes for all emotions...\n",
    "\n",
    "# Make predictions for each emotion using best models\n",
    "print(\"\\nGenerating predictions for all emotions...\")\n",
    "val_preds = {}\n",
    "test_preds = {}\n",
    "\n",
    "for emotion in emotions:\n",
    "    # Load the best model for this emotion\n",
    "    model = models[emotion]\n",
    "    checkpoint = torch.load(f'./model_checkpoints/{emotion}_best.pth')\n",
    "    model.load_state_dict(checkpoint['model_state_dict'])\n",
    "    model.eval()  # Set to evaluation mode\n",
    "    \n",
    "    print(f\"Using best {emotion} model from epoch {checkpoint['epoch']} with F1: {checkpoint['f1']:.3f}\")\n",
    "    \n",
    "    with torch.no_grad():\n",
    "        # Get raw probabilities using sigmoid\n",
    "        val_outputs = model(torch.tensor(final_val_features[emotion], dtype=torch.float32))\n",
    "        val_probs = torch.sigmoid(val_outputs).numpy()\n",
    "        val_preds[emotion] = val_probs\n",
    "        \n",
    "        test_outputs = model(torch.tensor(final_test_features[emotion], dtype=torch.float32))\n",
    "        test_probs = torch.sigmoid(test_outputs).numpy()\n",
    "        test_preds[emotion] = test_probs\n",
    "\n",
    "# Combine predictions\n",
    "val_probs = np.hstack([val_preds[emotion] for emotion in emotions])\n",
    "test_probs = np.hstack([test_preds[emotion] for emotion in emotions])\n",
    "\n",
    "# Grid search for optimal threshold\n",
    "print(\"\\nPerforming threshold grid search...\")\n",
    "thresholds = np.arange(0.1, 0.9, 0.05)\n",
    "best_threshold = 0\n",
    "best_macro_f1 = 0\n",
    "results = []\n",
    "\n",
    "for threshold in tqdm(thresholds, desc=\"Testing thresholds\"):\n",
    "    # Convert probabilities to binary predictions\n",
    "    val_binary_preds = (val_probs > threshold).astype(int)\n",
    "    \n",
    "    # Calculate metrics\n",
    "    macro_f1 = f1_score(val[emotions].values, val_binary_preds, average='macro')\n",
    "    micro_f1 = f1_score(val[emotions].values, val_binary_preds, average='micro')\n",
    "    jaccard = jaccard_score(val[emotions].values, val_binary_preds, average='samples')\n",
    "    \n",
    "    results.append({\n",
    "        'threshold': threshold,\n",
    "        'macro_f1': macro_f1,\n",
    "        'micro_f1': micro_f1,\n",
    "        'jaccard': jaccard\n",
    "    })\n",
    "    \n",
    "    # Update best threshold if we found better macro F1\n",
    "    if macro_f1 > best_macro_f1:\n",
    "        best_macro_f1 = macro_f1\n",
    "        best_threshold = threshold\n",
    "\n",
    "# Convert results to DataFrame and display\n",
    "results_df = pd.DataFrame(results)\n",
    "print(\"\\nBest Results:\")\n",
    "print(f\"Best threshold: {best_threshold:.3f}\")\n",
    "print(f\"Best Macro F1: {best_macro_f1:.3f}\")\n",
    "\n",
    "# Plot the threshold search results\n",
    "plt.figure(figsize=(10, 6))\n",
    "plt.plot(results_df['threshold'], results_df['macro_f1'], label='Macro F1')\n",
    "plt.plot(results_df['threshold'], results_df['micro_f1'], label='Micro F1')\n",
    "plt.plot(results_df['threshold'], results_df['jaccard'], label='Jaccard')\n",
    "plt.axvline(x=best_threshold, color='r', linestyle='--', label=f'Best threshold ({best_threshold:.3f})')\n",
    "plt.xlabel('Threshold')\n",
    "plt.ylabel('Score')\n",
    "plt.title('Metric Scores vs. Threshold')\n",
    "plt.legend()\n",
    "plt.grid(True)\n",
    "plt.show()\n",
    "\n",
    "# Generate final predictions using best threshold\n",
    "val_binary_preds = (val_probs > best_threshold).astype(int)\n",
    "test_binary_preds = (test_probs > best_threshold).astype(int)\n",
    "\n",
    "# Print detailed performance report\n",
    "print(\"\\nFinal Validation Performance with Best Threshold:\")\n",
    "print(classification_report(\n",
    "    val[emotions].values,\n",
    "    val_binary_preds,\n",
    "    target_names=emotions\n",
    "))\n",
    "\n",
    "# Save predictions\n",
    "timestamp = datetime.now().strftime('%Y-%m-%d_%H_%M_%S')\n",
    "\n",
    "# Save validation predictions\n",
    "save_predictions(\n",
    "    val_binary_preds,\n",
    "    val['id'],\n",
    "    f'../results/val_predictions_threshold_{best_threshold:.3f}_{timestamp}.csv'\n",
    ")\n",
    "\n",
    "# Save test predictions\n",
    "save_predictions(\n",
    "    test_binary_preds,\n",
    "    test['id'],\n",
    "    f'../results/test_predictions_threshold_{best_threshold:.3f}_{timestamp}.csv'\n",
    ")\n",
    "\n",
    "# Save threshold search results\n",
    "results_df.to_csv(f'../results/threshold_search_results_{timestamp}.csv', index=False)\n",
    "\n",
    "# Print per-emotion performance\n",
    "print(\"\\nPer-emotion performance at best threshold:\")\n",
    "for i, emotion in enumerate(emotions):\n",
    "    emotion_f1 = f1_score(\n",
    "        val[emotions].values[:, i],\n",
    "        val_binary_preds[:, i],\n",
    "        average='binary'\n",
    "    )\n",
    "    print(f\"{emotion}: F1 = {emotion_f1:.3f}\")"
   ]
  },
  {
   "cell_type": "markdown",
   "metadata": {},
   "source": [
    "Scores for Test Set:\n",
    "\n",
    "\n",
    "Macro F1\t0.5399\n",
    "\n",
    "Micro F1\t0.5804\n",
    "\n",
    "Anger\t0.3858\n",
    "\n",
    "Fear\t0.7015\n",
    "\n",
    "Joy\t0.5301\n",
    "\n",
    "Sadness\t0.5427\n",
    "\n",
    "Surprise\t0.5392\n"
   ]
  },
  {
   "cell_type": "code",
   "execution_count": 30,
   "metadata": {},
   "outputs": [],
   "source": [
    "# # After training loop finishes for all emotions...\n",
    "\n",
    "# # Make predictions for each emotion using best models\n",
    "# print(\"\\nGenerating predictions for all emotions...\")\n",
    "# val_preds = {}\n",
    "# test_preds = {}\n",
    "\n",
    "# for emotion in emotions:\n",
    "#     model = models[emotion]\n",
    "#     model.eval()\n",
    "#     with torch.no_grad():\n",
    "#         val_preds[emotion] = torch.sigmoid(model(torch.tensor(final_val_features[emotion], dtype=torch.float32))).numpy()\n",
    "#         test_preds[emotion] = torch.sigmoid(model(torch.tensor(final_test_features[emotion], dtype=torch.float32))).numpy()\n",
    "\n",
    "# # Combine predictions\n",
    "# val_probs = np.hstack([val_preds[emotion] for emotion in emotions])\n",
    "# test_probs = np.hstack([test_preds[emotion] for emotion in emotions])\n",
    "\n",
    "# # Now you can proceed with threshold grid search\n",
    "# print(\"\\nPerforming threshold grid search...\")\n",
    "# thresholds = np.arange(0.1, 0.9, 0.05)\n",
    "# best_threshold = 0\n",
    "# best_macro_f1 = 0\n",
    "# results = []\n",
    "\n",
    "# for threshold in tqdm(thresholds, desc=\"Testing thresholds\"):\n",
    "#     # Convert probabilities to binary predictions\n",
    "#     val_binary_preds = (val_probs > threshold).astype(int)\n",
    "    \n",
    "#     # Calculate metrics\n",
    "#     macro_f1 = f1_score(val[emotions].values, val_binary_preds, average='macro')\n",
    "#     micro_f1 = f1_score(val[emotions].values, val_binary_preds, average='micro')\n",
    "#     jaccard = jaccard_score(val[emotions].values, val_binary_preds, average='samples')\n",
    "    \n",
    "#     results.append({\n",
    "#         'threshold': threshold,\n",
    "#         'macro_f1': macro_f1,\n",
    "#         'micro_f1': micro_f1,\n",
    "#         'jaccard': jaccard\n",
    "#     })\n",
    "    \n",
    "#     # Update best threshold if we found better macro F1\n",
    "#     if macro_f1 > best_macro_f1:\n",
    "#         best_macro_f1 = macro_f1\n",
    "#         best_threshold = threshold\n",
    "\n",
    "# # Convert results to DataFrame for easy viewing\n",
    "# results_df = pd.DataFrame(results)\n",
    "# print(\"\\nBest Results:\")\n",
    "# print(f\"Best threshold: {best_threshold:.3f}\")\n",
    "# print(f\"Best Macro F1: {best_macro_f1:.3f}\")\n",
    "\n",
    "# # Plot the results\n",
    "# plt.figure(figsize=(10, 6))\n",
    "# plt.plot(results_df['threshold'], results_df['macro_f1'], label='Macro F1')\n",
    "# plt.plot(results_df['threshold'], results_df['micro_f1'], label='Micro F1')\n",
    "# plt.plot(results_df['threshold'], results_df['jaccard'], label='Jaccard')\n",
    "# plt.axvline(x=best_threshold, color='r', linestyle='--', label=f'Best threshold ({best_threshold:.3f})')\n",
    "# plt.xlabel('Threshold')\n",
    "# plt.ylabel('Score')\n",
    "# plt.title('Metric Scores vs. Threshold')\n",
    "# plt.legend()\n",
    "# plt.grid(True)\n",
    "# plt.show()\n",
    "\n",
    "# # Use the best threshold for final predictions\n",
    "# val_binary_preds = (val_probs > best_threshold).astype(int)\n",
    "# test_binary_preds = (test_probs > best_threshold).astype(int)\n",
    "\n",
    "# # Print final performance with best threshold\n",
    "# print(\"\\nFinal Validation Performance with Best Threshold:\")\n",
    "# print(classification_report(\n",
    "#     val[emotions].values,\n",
    "#     val_binary_preds,\n",
    "#     target_names=emotions\n",
    "# ))\n",
    "\n",
    "# best_epoch = 400\n",
    "\n",
    "# # Save predictions with best threshold\n",
    "# timestamp = datetime.now().strftime('%Y-%m-%d_%H_%M_%S')\n",
    "# save_predictions(\n",
    "#     val_binary_preds,\n",
    "#     val['id'],\n",
    "#     f'../results/val_predictions_epoch_{best_epoch}_threshold_{best_threshold:.3f}_{timestamp}.csv'\n",
    "# )\n",
    "\n",
    "# save_predictions(\n",
    "#     test_binary_preds,\n",
    "#     test['id'],\n",
    "#     f'../results/test_predictions_epoch_{best_epoch}_threshold_{best_threshold:.3f}_{timestamp}.csv'\n",
    "# )\n",
    "\n",
    "# # Save threshold search results\n",
    "# results_df.to_csv(f'../results/threshold_search_results_{timestamp}.csv', index=False)"
   ]
  },
  {
   "cell_type": "code",
   "execution_count": 31,
   "metadata": {},
   "outputs": [],
   "source": [
    "# # After training loop finishes for all emotions...\n",
    "\n",
    "# # Make predictions for each emotion using best models\n",
    "# print(\"\\nGenerating predictions for all emotions...\")\n",
    "# val_preds = {}\n",
    "# test_preds = {}\n",
    "\n",
    "# for emotion in emotions:\n",
    "#     model = models[emotion]\n",
    "#     model.load_state_dict(best_models[emotion]['model'])\n",
    "#     model.eval()\n",
    "    \n",
    "#     print(f\"Using best {emotion} model from epoch {best_models[emotion]['epoch']} with F1: {best_models[emotion]['f1']:.3f}\")\n",
    "    \n",
    "#     with torch.no_grad():\n",
    "#         val_preds[emotion] = torch.sigmoid(model(torch.tensor(final_val_features[emotion], dtype=torch.float32))).numpy()\n",
    "#         test_preds[emotion] = torch.sigmoid(model(torch.tensor(final_test_features[emotion], dtype=torch.float32))).numpy()\n",
    "\n",
    "# # Combine predictions\n",
    "# val_probs = np.hstack([val_preds[emotion] for emotion in emotions])\n",
    "# test_probs = np.hstack([test_preds[emotion] for emotion in emotions])\n",
    "\n",
    "# # Now you can proceed with threshold grid search\n",
    "# print(\"\\nPerforming threshold grid search...\")\n",
    "# thresholds = np.arange(0.1, 0.9, 0.05)\n",
    "# best_threshold = 0\n",
    "# best_macro_f1 = 0\n",
    "# results = []\n",
    "\n",
    "# for threshold in tqdm(thresholds, desc=\"Testing thresholds\"):\n",
    "#     # Convert probabilities to binary predictions\n",
    "#     val_binary_preds = (val_probs > threshold).astype(int)\n",
    "    \n",
    "#     # Calculate metrics\n",
    "#     macro_f1 = f1_score(val[emotions].values, val_binary_preds, average='macro')\n",
    "#     micro_f1 = f1_score(val[emotions].values, val_binary_preds, average='micro')\n",
    "#     jaccard = jaccard_score(val[emotions].values, val_binary_preds, average='samples')\n",
    "    \n",
    "#     results.append({\n",
    "#         'threshold': threshold,\n",
    "#         'macro_f1': macro_f1,\n",
    "#         'micro_f1': micro_f1,\n",
    "#         'jaccard': jaccard\n",
    "#     })\n",
    "    \n",
    "#     # Update best threshold if we found better macro F1\n",
    "#     if macro_f1 > best_macro_f1:\n",
    "#         best_macro_f1 = macro_f1\n",
    "#         best_threshold = threshold\n",
    "\n",
    "# # Convert results to DataFrame for easy viewing\n",
    "# results_df = pd.DataFrame(results)\n",
    "# print(\"\\nBest Results:\")\n",
    "# print(f\"Best threshold: {best_threshold:.3f}\")\n",
    "# print(f\"Best Macro F1: {best_macro_f1:.3f}\")\n",
    "\n",
    "# # Plot the results\n",
    "# plt.figure(figsize=(10, 6))\n",
    "# plt.plot(results_df['threshold'], results_df['macro_f1'], label='Macro F1')\n",
    "# plt.plot(results_df['threshold'], results_df['micro_f1'], label='Micro F1')\n",
    "# plt.plot(results_df['threshold'], results_df['jaccard'], label='Jaccard')\n",
    "# plt.axvline(x=best_threshold, color='r', linestyle='--', label=f'Best threshold ({best_threshold:.3f})')\n",
    "# plt.xlabel('Threshold')\n",
    "# plt.ylabel('Score')\n",
    "# plt.title('Metric Scores vs. Threshold')\n",
    "# plt.legend()\n",
    "# plt.grid(True)\n",
    "# plt.show()\n",
    "\n",
    "# # Use the best threshold for final predictions\n",
    "# val_binary_preds = (val_probs > best_threshold).astype(int)\n",
    "# test_binary_preds = (test_probs > best_threshold).astype(int)\n",
    "\n",
    "# # Print final performance with best threshold\n",
    "# print(\"\\nFinal Validation Performance with Best Threshold:\")\n",
    "# print(classification_report(\n",
    "#     val[emotions].values,\n",
    "#     val_binary_preds,\n",
    "#     target_names=emotions\n",
    "# ))\n",
    "\n",
    "# # Find the best epoch across all emotions\n",
    "# best_overall_epoch = max(\n",
    "#     (best_models[emotion]['epoch'] for emotion in emotions),\n",
    "#     key=lambda epoch: sum(best_models[e]['f1'] for e in emotions if best_models[e]['epoch'] == epoch)\n",
    "# )\n",
    "\n",
    "# print(f\"\\nUsing predictions from best overall epoch: {best_overall_epoch}\")\n",
    "\n",
    "# # Save predictions with best threshold\n",
    "# timestamp = datetime.now().strftime('%Y-%m-%d_%H_%M_%S')\n",
    "# save_predictions(\n",
    "#     val_binary_preds,\n",
    "#     val['id'],\n",
    "#     f'../results/val_predictions_epoch_{best_overall_epoch}_threshold_{best_threshold:.3f}_{timestamp}.csv'\n",
    "# )\n",
    "\n",
    "# save_predictions(\n",
    "#     test_binary_preds,\n",
    "#     test['id'],\n",
    "#     f'../results/test_predictions_epoch_{best_overall_epoch}_threshold_{best_threshold:.3f}_{timestamp}.csv'\n",
    "# )\n",
    "\n",
    "# # Save threshold search results\n",
    "# results_df.to_csv(f'../results/threshold_search_results_{timestamp}.csv', index=False)"
   ]
  },
  {
   "cell_type": "markdown",
   "metadata": {},
   "source": [
    "END FOR NOW"
   ]
  }
 ],
 "metadata": {
  "kernelspec": {
   "display_name": "base",
   "language": "python",
   "name": "python3"
  },
  "language_info": {
   "codemirror_mode": {
    "name": "ipython",
    "version": 3
   },
   "file_extension": ".py",
   "mimetype": "text/x-python",
   "name": "python",
   "nbconvert_exporter": "python",
   "pygments_lexer": "ipython3",
   "version": "3.12.6"
  }
 },
 "nbformat": 4,
 "nbformat_minor": 2
}
