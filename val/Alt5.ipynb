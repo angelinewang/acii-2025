{
 "cells": [
  {
   "cell_type": "code",
<<<<<<< HEAD
   "execution_count": 1,
=======
   "execution_count": 16,
>>>>>>> origin/main
   "metadata": {},
   "outputs": [],
   "source": [
    "import datetime\n",
    "import numpy as np\n",
    "import pandas as pd\n",
    "from sklearn.feature_extraction.text import CountVectorizer\n",
    "from sklearn.linear_model import LogisticRegression\n",
    "from sklearn.preprocessing import OneHotEncoder\n",
    "import torch\n",
    "import torch.nn as nn\n",
    "import torch.optim as optim\n",
<<<<<<< HEAD
    "from torch.optim import SGD\n",
=======
>>>>>>> origin/main
    "from torch.utils.data import DataLoader, TensorDataset\n",
    "from tqdm import tqdm\n",
    "from nltk.corpus import stopwords\n",
    "from nltk.stem import PorterStemmer, WordNetLemmatizer\n",
<<<<<<< HEAD
    "from transformers import BertTokenizer, BertModel\n",
    "\n",
    "from nltk.util import ngrams\n",
    "import spacy\n",
    "import re"
=======
    "from transformers import BertTokenizer\n",
    "from nltk.util import ngrams\n",
    "from nltk.sentiment import SentimentIntensityAnalyzer\n",
    "import spacy\n",
    "import re\n",
    "from collections import Counter"
>>>>>>> origin/main
   ]
  },
  {
   "cell_type": "code",
<<<<<<< HEAD
   "execution_count": 2,
=======
   "execution_count": 17,
   "metadata": {},
   "outputs": [
    {
     "name": "stderr",
     "output_type": "stream",
     "text": [
      "[nltk_data] Downloading package wordnet to\n",
      "[nltk_data]     C:\\Users\\agupt\\AppData\\Roaming\\nltk_data...\n",
      "[nltk_data]   Package wordnet is already up-to-date!\n",
      "[nltk_data] Downloading package punkt to\n",
      "[nltk_data]     C:\\Users\\agupt\\AppData\\Roaming\\nltk_data...\n",
      "[nltk_data]   Package punkt is already up-to-date!\n",
      "[nltk_data] Downloading package omw-1.4 to\n",
      "[nltk_data]     C:\\Users\\agupt\\AppData\\Roaming\\nltk_data...\n",
      "[nltk_data]   Package omw-1.4 is already up-to-date!\n",
      "[nltk_data] Downloading package stopwords to\n",
      "[nltk_data]     C:\\Users\\agupt\\AppData\\Roaming\\nltk_data...\n",
      "[nltk_data]   Package stopwords is already up-to-date!\n",
      "[nltk_data] Downloading package vader_lexicon to\n",
      "[nltk_data]     C:\\Users\\agupt\\AppData\\Roaming\\nltk_data...\n",
      "[nltk_data]   Package vader_lexicon is already up-to-date!\n"
     ]
    },
    {
     "data": {
      "text/plain": [
       "True"
      ]
     },
     "execution_count": 17,
     "metadata": {},
     "output_type": "execute_result"
    }
   ],
   "source": [
    "import nltk\n",
    "\n",
    "nltk.download(\"wordnet\")\n",
    "nltk.download(\"punkt\")\n",
    "nltk.download('omw-1.4')\n",
    "nltk.download('stopwords')\n",
    "nltk.download('vader_lexicon')"
   ]
  },
  {
   "cell_type": "code",
   "execution_count": 18,
>>>>>>> origin/main
   "metadata": {},
   "outputs": [
    {
     "data": {
      "text/html": [
       "<div>\n",
       "<style scoped>\n",
       "    .dataframe tbody tr th:only-of-type {\n",
       "        vertical-align: middle;\n",
       "    }\n",
       "\n",
       "    .dataframe tbody tr th {\n",
       "        vertical-align: top;\n",
       "    }\n",
       "\n",
       "    .dataframe thead th {\n",
       "        text-align: right;\n",
       "    }\n",
       "</style>\n",
       "<table border=\"1\" class=\"dataframe\">\n",
       "  <thead>\n",
       "    <tr style=\"text-align: right;\">\n",
       "      <th></th>\n",
       "      <th>Anger</th>\n",
       "      <th>Fear</th>\n",
       "      <th>Joy</th>\n",
       "      <th>Sadness</th>\n",
       "      <th>Surprise</th>\n",
       "    </tr>\n",
       "  </thead>\n",
       "  <tbody>\n",
       "    <tr>\n",
       "      <th>count</th>\n",
       "      <td>2768.000000</td>\n",
       "      <td>2768.000000</td>\n",
       "      <td>2768.000000</td>\n",
       "      <td>2768.000000</td>\n",
       "      <td>2768.000000</td>\n",
       "    </tr>\n",
       "    <tr>\n",
       "      <th>mean</th>\n",
       "      <td>0.120303</td>\n",
       "      <td>0.582009</td>\n",
       "      <td>0.243497</td>\n",
       "      <td>0.317197</td>\n",
       "      <td>0.303107</td>\n",
       "    </tr>\n",
       "    <tr>\n",
       "      <th>std</th>\n",
       "      <td>0.325375</td>\n",
       "      <td>0.493318</td>\n",
       "      <td>0.429270</td>\n",
       "      <td>0.465469</td>\n",
       "      <td>0.459684</td>\n",
       "    </tr>\n",
       "    <tr>\n",
       "      <th>min</th>\n",
       "      <td>0.000000</td>\n",
       "      <td>0.000000</td>\n",
       "      <td>0.000000</td>\n",
       "      <td>0.000000</td>\n",
       "      <td>0.000000</td>\n",
       "    </tr>\n",
       "    <tr>\n",
       "      <th>25%</th>\n",
       "      <td>0.000000</td>\n",
       "      <td>0.000000</td>\n",
       "      <td>0.000000</td>\n",
       "      <td>0.000000</td>\n",
       "      <td>0.000000</td>\n",
       "    </tr>\n",
       "    <tr>\n",
       "      <th>50%</th>\n",
       "      <td>0.000000</td>\n",
       "      <td>1.000000</td>\n",
       "      <td>0.000000</td>\n",
       "      <td>0.000000</td>\n",
       "      <td>0.000000</td>\n",
       "    </tr>\n",
       "    <tr>\n",
       "      <th>75%</th>\n",
       "      <td>0.000000</td>\n",
       "      <td>1.000000</td>\n",
       "      <td>0.000000</td>\n",
       "      <td>1.000000</td>\n",
       "      <td>1.000000</td>\n",
       "    </tr>\n",
       "    <tr>\n",
       "      <th>max</th>\n",
       "      <td>1.000000</td>\n",
       "      <td>1.000000</td>\n",
       "      <td>1.000000</td>\n",
       "      <td>1.000000</td>\n",
       "      <td>1.000000</td>\n",
       "    </tr>\n",
       "  </tbody>\n",
       "</table>\n",
       "</div>"
      ],
      "text/plain": [
       "             Anger         Fear          Joy      Sadness     Surprise\n",
       "count  2768.000000  2768.000000  2768.000000  2768.000000  2768.000000\n",
       "mean      0.120303     0.582009     0.243497     0.317197     0.303107\n",
       "std       0.325375     0.493318     0.429270     0.465469     0.459684\n",
       "min       0.000000     0.000000     0.000000     0.000000     0.000000\n",
       "25%       0.000000     0.000000     0.000000     0.000000     0.000000\n",
       "50%       0.000000     1.000000     0.000000     0.000000     0.000000\n",
       "75%       0.000000     1.000000     0.000000     1.000000     1.000000\n",
       "max       1.000000     1.000000     1.000000     1.000000     1.000000"
      ]
     },
<<<<<<< HEAD
     "execution_count": 2,
=======
     "execution_count": 18,
>>>>>>> origin/main
     "metadata": {},
     "output_type": "execute_result"
    }
   ],
   "source": [
    "# Load Data\n",
    "train = pd.read_csv('../public_data/train/track_a/eng.csv')\n",
    "val = pd.read_csv('../public_data/dev/track_a/eng_a.csv')\n",
    "emotions = ['Joy', 'Sadness', 'Surprise', 'Fear', 'Anger']\n",
    "\n",
    "train.describe()"
   ]
  },
  {
   "cell_type": "code",
<<<<<<< HEAD
   "execution_count": 4,
=======
   "execution_count": 19,
>>>>>>> origin/main
   "metadata": {},
   "outputs": [
    {
     "name": "stdout",
     "output_type": "stream",
     "text": [
      "<class 'pandas.core.frame.DataFrame'>\n",
      "RangeIndex: 2768 entries, 0 to 2767\n",
      "Data columns (total 7 columns):\n",
      " #   Column    Non-Null Count  Dtype \n",
      "---  ------    --------------  ----- \n",
      " 0   id        2768 non-null   object\n",
      " 1   text      2768 non-null   object\n",
      " 2   Anger     2768 non-null   int64 \n",
      " 3   Fear      2768 non-null   int64 \n",
      " 4   Joy       2768 non-null   int64 \n",
      " 5   Sadness   2768 non-null   int64 \n",
      " 6   Surprise  2768 non-null   int64 \n",
      "dtypes: int64(5), object(2)\n",
      "memory usage: 151.5+ KB\n"
     ]
    }
   ],
   "source": [
    "train.info()"
   ]
  },
  {
   "cell_type": "code",
<<<<<<< HEAD
   "execution_count": 5,
=======
   "execution_count": 20,
>>>>>>> origin/main
   "metadata": {},
   "outputs": [
    {
     "name": "stdout",
     "output_type": "stream",
     "text": [
      "<class 'pandas.core.frame.DataFrame'>\n",
      "RangeIndex: 116 entries, 0 to 115\n",
      "Data columns (total 7 columns):\n",
      " #   Column    Non-Null Count  Dtype  \n",
      "---  ------    --------------  -----  \n",
      " 0   id        116 non-null    object \n",
      " 1   text      116 non-null    object \n",
      " 2   Anger     0 non-null      float64\n",
      " 3   Fear      0 non-null      float64\n",
      " 4   Joy       0 non-null      float64\n",
      " 5   Sadness   0 non-null      float64\n",
      " 6   Surprise  0 non-null      float64\n",
      "dtypes: float64(5), object(2)\n",
      "memory usage: 6.5+ KB\n"
     ]
    }
   ],
   "source": [
    "val.info()"
   ]
  },
  {
   "cell_type": "code",
<<<<<<< HEAD
   "execution_count": 3,
=======
   "execution_count": 21,
>>>>>>> origin/main
   "metadata": {},
   "outputs": [],
   "source": [
    "# Preprocessing Config\n",
    "config = {'sep_pn': True, 'rm_pn': False, 'apply_lemmatization': True, 'apply_stemming': True, 'add_bigrams': True, 'rm_sw': False}\n",
    "\n",
    "# Preprocessing Functions\n",
    "tokenizer = BertTokenizer.from_pretrained('bert-base-uncased')\n",
<<<<<<< HEAD
    "bert_model = BertModel.from_pretrained(\"bert-base-uncased\")\n",
    "# Check that it can do some basic things\n",
    "\n",
    "# Freeze BERT parameters (no gradients for BERT)\n",
    "for param in bert_model.parameters():\n",
    "    param.requires_grad = False\n",
    "nlp = spacy.load(\"en_core_web_sm\")"
=======
    "nlp = spacy.load(\"en_core_web_sm\")\n",
    "\n",
    "# Initialize VADER sentiment analyzer\n",
    "sia = SentimentIntensityAnalyzer()\n",
    "\n",
    "# Get English stopwords\n",
    "stop_words = set(stopwords.words('english'))"
>>>>>>> origin/main
   ]
  },
  {
   "cell_type": "code",
<<<<<<< HEAD
   "execution_count": 5,
=======
   "execution_count": null,
>>>>>>> origin/main
   "metadata": {},
   "outputs": [
    {
     "name": "stderr",
     "output_type": "stream",
     "text": [
<<<<<<< HEAD
      "/Users/angwang/miniforge3/lib/python3.12/site-packages/sklearn/linear_model/_logistic.py:469: ConvergenceWarning: lbfgs failed to converge (status=1):\n",
      "STOP: TOTAL NO. of ITERATIONS REACHED LIMIT.\n",
      "\n",
      "Increase the number of iterations (max_iter) or scale the data as shown in:\n",
      "    https://scikit-learn.org/stable/modules/preprocessing.html\n",
      "Please also refer to the documentation for alternative solver options:\n",
      "    https://scikit-learn.org/stable/modules/linear_model.html#logistic-regression\n",
      "  n_iter_i = _check_optimize_result(\n"
=======
      "Training Loop:   0%|          | 1/400 [00:01<07:58,  1.20s/it]"
>>>>>>> origin/main
     ]
    },
    {
     "name": "stdout",
     "output_type": "stream",
     "text": [
<<<<<<< HEAD
      "[[8.81203084e-01 1.27999434e-02 6.01159191e-02 2.99272711e-02\n",
      "  1.59537822e-02]\n",
      " [9.94099278e-01 5.90071691e-03 4.10856773e-11 5.37350635e-09\n",
      "  8.86239343e-11]\n",
      " [9.28899969e-01 6.16656345e-02 8.15749446e-04 8.53081218e-03\n",
      "  8.78352171e-05]\n",
      " ...\n",
      " [2.00349968e-01 7.90737261e-01 4.58695124e-03 3.31876823e-03\n",
      "  1.00705172e-03]\n",
      " [5.15506777e-02 8.49513206e-03 9.37609888e-01 2.30687875e-03\n",
      "  3.74231374e-05]\n",
      " [9.64984028e-01 8.66408800e-04 1.63547854e-02 1.77309452e-02\n",
      "  6.38321915e-05]]\n"
=======
      "Epoch 0: Loss: 0.866\n",
      "Saved epoch 0 weights to './28-12-24/net_epoch_0.pth'\n"
>>>>>>> origin/main
     ]
    },
    {
     "name": "stderr",
     "output_type": "stream",
     "text": [
<<<<<<< HEAD
      "Training Loop:   0%|          | 0/5 [00:00<?, ?it/s]"
=======
      "Training Loop:  25%|██▌       | 101/400 [01:38<04:53,  1.02it/s]"
>>>>>>> origin/main
     ]
    },
    {
     "name": "stdout",
     "output_type": "stream",
     "text": [
<<<<<<< HEAD
      "Epoch 0: Loss: 0.891\n"
=======
      "Epoch 100: Loss: 0.953\n",
      "Saved epoch 100 weights to './28-12-24/net_epoch_100.pth'\n"
>>>>>>> origin/main
     ]
    },
    {
     "name": "stderr",
     "output_type": "stream",
     "text": [
<<<<<<< HEAD
      "Training Loop:  20%|██        | 1/5 [07:54<31:36, 474.06s/it]"
=======
      "Training Loop:  50%|█████     | 201/400 [03:30<03:49,  1.15s/it]"
>>>>>>> origin/main
     ]
    },
    {
     "name": "stdout",
     "output_type": "stream",
     "text": [
<<<<<<< HEAD
      "Saved epoch 0 weights to './3-1-25/net_epoch_0.pth'\n",
      "Epoch 1: Loss: 0.887\n"
=======
      "Epoch 200: Loss: 0.854\n",
      "Saved epoch 200 weights to './28-12-24/net_epoch_200.pth'\n"
>>>>>>> origin/main
     ]
    },
    {
     "name": "stderr",
     "output_type": "stream",
     "text": [
<<<<<<< HEAD
      "Training Loop:  40%|████      | 2/5 [15:45<23:38, 472.72s/it]"
=======
      "Training Loop:  75%|███████▌  | 301/400 [05:22<01:59,  1.21s/it]"
>>>>>>> origin/main
     ]
    },
    {
     "name": "stdout",
     "output_type": "stream",
     "text": [
<<<<<<< HEAD
      "Saved epoch 1 weights to './3-1-25/net_epoch_1.pth'\n",
      "Epoch 2: Loss: 0.882\n"
=======
      "Epoch 300: Loss: 0.869\n",
      "Saved epoch 300 weights to './28-12-24/net_epoch_300.pth'\n"
>>>>>>> origin/main
     ]
    },
    {
     "name": "stderr",
     "output_type": "stream",
     "text": [
<<<<<<< HEAD
      "Training Loop:  60%|██████    | 3/5 [24:03<16:08, 484.08s/it]"
     ]
    },
    {
     "name": "stdout",
     "output_type": "stream",
     "text": [
      "Saved epoch 2 weights to './3-1-25/net_epoch_2.pth'\n",
      "Epoch 3: Loss: 0.795\n"
     ]
    },
    {
     "name": "stderr",
     "output_type": "stream",
     "text": [
      "Training Loop:  80%|████████  | 4/5 [32:05<08:03, 483.19s/it]"
     ]
    },
    {
     "name": "stdout",
     "output_type": "stream",
     "text": [
      "Saved epoch 3 weights to './3-1-25/net_epoch_3.pth'\n",
      "Epoch 4: Loss: 0.843\n"
     ]
    },
    {
     "name": "stderr",
     "output_type": "stream",
     "text": [
      "Training Loop: 100%|██████████| 5/5 [43:59<00:00, 527.99s/it]"
     ]
    },
    {
     "name": "stdout",
     "output_type": "stream",
     "text": [
      "Saved epoch 4 weights to './3-1-25/net_epoch_4.pth'\n"
     ]
    },
    {
     "name": "stderr",
     "output_type": "stream",
     "text": [
      "\n"
=======
      "Training Loop: 100%|██████████| 400/400 [06:54<00:00,  1.04s/it]\n"
>>>>>>> origin/main
     ]
    }
   ],
   "source": [
    "def pre_process(text, config):\n",
    "    def separate_punctuation(text):\n",
    "        text = re.sub(r\"(\\w)([.,;:!?'\\\"”\\)])\", r\"\\1 \\2\", text)\n",
    "        text = re.sub(r\"([.,;:!?'\\\"“\\(\\)])(\\w)\", r\"\\1 \\2\", text)\n",
    "        return text\n",
    "\n",
    "    def remove_punctuation(text):\n",
    "        text = re.sub(r\"[.,;:!?'\\\"“”\\(\\)]\", \"\", text)\n",
    "        return text\n",
    "\n",
<<<<<<< HEAD
    "    def tokenize_text(text, max_length=128):\n",
    "        return tokenizer(\n",
    "            text,\n",
    "            return_tensors=\"pt\",\n",
    "            add_special_tokens=True,\n",
    "            truncation=True,\n",
    "            padding=\"max_length\",\n",
    "            max_length=max_length\n",
    "        )\n",
=======
    "    def tokenize_text(text):\n",
    "        encoded_input = tokenizer(text, return_tensors='pt', add_special_tokens=True)\n",
    "        tokens = tokenizer.convert_ids_to_tokens(encoded_input['input_ids'][0])\n",
    "        return tokens\n",
>>>>>>> origin/main
    "\n",
    "    def apply_stemming(tokens):\n",
    "        stemmer = PorterStemmer()\n",
    "        return [stemmer.stem(token) for token in tokens]\n",
    "\n",
    "    def apply_lemmatization(tokens):\n",
    "        lemmatizer = WordNetLemmatizer()\n",
    "        return [lemmatizer.lemmatize(token) for token in tokens]\n",
    "\n",
    "    def generate_ngrams_from_tokens(tokens, n):\n",
    "        return [\" \".join(gram) for gram in ngrams(tokens, n)]\n",
    "\n",
<<<<<<< HEAD
=======
    "    def filter_text_dynamic(text):\n",
    "        # Lowercase and remove punctuation\n",
    "        text = text.lower()\n",
    "        text = re.sub(r'[^\\w\\s]', '', text)\n",
    "        \n",
    "        # Score words based on sentiment\n",
    "        words = text.split()\n",
    "        relevant_words = [\n",
    "            word for word in words\n",
    "            if word not in stop_words and sia.polarity_scores(word)['pos'] > 0.5  # Adjust threshold as needed\n",
    "        ]\n",
    "        \n",
    "        return \" \".join(relevant_words)\n",
    "\n",
    "    def remove_top_words(text, top_n=10):\n",
    "        # Count word frequencies\n",
    "        word_counts = Counter(text.split())\n",
    "        \n",
    "        # Identify the top N words\n",
    "        top_words = [word for word, _ in word_counts.most_common(top_n)]\n",
    "        \n",
    "        # Filter out top words from text\n",
    "        filtered_text = \" \".join(word for word in text.split() if word not in top_words)\n",
    "        \n",
    "        return filtered_text\n",
    "    \n",
    "    \n",
    "    filtered_text = filter_text_dynamic(text)\n",
    "    \n",
    "    # Remove top words from the filtered text\n",
    "    text = remove_top_words(filtered_text, top_n=8)\n",
    "\n",
>>>>>>> origin/main
    "    # Apply config options\n",
    "    if config['sep_pn'] and not config['rm_pn']:\n",
    "        text = separate_punctuation(text)\n",
    "    if config['rm_pn'] and not config['sep_pn']:\n",
    "        text = remove_punctuation(text)\n",
    "\n",
<<<<<<< HEAD
    "    encoded_input = tokenize_text(text)\n",
    "    tokens = tokenizer.convert_ids_to_tokens(encoded_input[\"input_ids\"][0])\n",
    "\n",
=======
    "    tokens = tokenize_text(text)\n",
>>>>>>> origin/main
    "    if config['apply_stemming']:\n",
    "        tokens = apply_stemming(tokens)\n",
    "    if config['apply_lemmatization']:\n",
    "        tokens = apply_lemmatization(tokens)\n",
    "    if config['add_bigrams']:\n",
    "        tokens += generate_ngrams_from_tokens(tokens, 2)\n",
    "    if config['rm_sw']:\n",
<<<<<<< HEAD
    "        stop_words = set(stopwords.words('english'))\n",
=======
>>>>>>> origin/main
    "        tokens = [word for word in tokens if word.lower() not in stop_words]\n",
    "\n",
    "    return \" \".join(tokens)\n",
    "\n",
    "# Preprocess and Extract Features\n",
    "vectorizer = CountVectorizer()\n",
    "\n",
    "train_text = [pre_process(text, config) for text in train[\"text\"]]\n",
    "val_text = [pre_process(text, config) for text in val[\"text\"]]\n",
    "\n",
    "X_train = vectorizer.fit_transform(train_text).toarray()\n",
    "X_val = vectorizer.transform(val_text).toarray()\n",
    "\n",
    "# POS Tagging\n",
    "def extract_pos_tags(texts):\n",
    "    return [[token.pos_ for token in nlp(text)] for text in texts]\n",
    "\n",
    "train_pos_tags = extract_pos_tags(train[\"text\"])\n",
    "val_pos_tags = extract_pos_tags(val[\"text\"])\n",
    "\n",
    "# POS Encoding\n",
    "max_length = max(max(len(tags) for tags in train_pos_tags), max(len(tags) for tags in val_pos_tags))\n",
    "train_pos_tags = [tags + ['PAD'] * (max_length - len(tags)) for tags in train_pos_tags]\n",
    "val_pos_tags = [tags + ['PAD'] * (max_length - len(tags)) for tags in val_pos_tags]\n",
    "\n",
    "encoder = OneHotEncoder(sparse_output=False, handle_unknown=\"ignore\")\n",
    "train_pos_encoded = encoder.fit_transform(train_pos_tags)\n",
    "val_pos_encoded = encoder.transform(val_pos_tags)\n",
    "\n",
    "# Combine Features\n",
    "combined_features = np.concatenate((X_train, train_pos_encoded), axis=1)\n",
    "validation_combined_features = np.concatenate((X_val, val_pos_encoded), axis=1)\n",
    "\n",
    "# Logistic Regression for Enhanced Features\n",
    "y_train = train[emotions].values\n",
    "lr = LogisticRegression(max_iter=1000)\n",
    "lr.fit(combined_features, np.argmax(y_train, axis=1))\n",
    "\n",
    "lr_features = lr.predict_proba(combined_features)\n",
<<<<<<< HEAD
    "print(lr_features)\n",
=======
>>>>>>> origin/main
    "val_lr_features = lr.predict_proba(validation_combined_features)\n",
    "\n",
    "final_train_features = np.concatenate((combined_features, lr_features), axis=1)\n",
    "final_val_features = np.concatenate((validation_combined_features, val_lr_features), axis=1)\n",
    "\n",
<<<<<<< HEAD
    "# Define BERTWithNN model with logistic regression features\n",
    "class BERTWithNN(nn.Module):\n",
    "    def __init__(self, bert_model, hidden_size, num_classes, extra_features_dim):\n",
    "        super(BERTWithNN, self).__init__()\n",
    "        self.bert = bert_model\n",
    "        for param in self.bert.parameters():\n",
    "            param.requires_grad = False  # Freezing BERT parameters\n",
    "\n",
    "        self.fc = nn.Sequential(\n",
    "            nn.Linear(bert_model.config.hidden_size + extra_features_dim, hidden_size),\n",
    "            nn.BatchNorm1d(hidden_size),\n",
    "            nn.ReLU(),\n",
    "            nn.Dropout(0.4),\n",
    "            nn.Linear(hidden_size, 64),\n",
    "            nn.ReLU(),\n",
    "            nn.Linear(64, num_classes)\n",
    "        )\n",
    "\n",
    "    def forward(self, input_ids, attention_mask, extra_features):\n",
    "        with torch.no_grad():\n",
    "            outputs = self.bert(input_ids=input_ids, attention_mask=attention_mask)\n",
    "        cls_embedding = outputs.last_hidden_state[:, 0, :]\n",
    "        combined_features = torch.cat((cls_embedding, extra_features), dim=1)\n",
    "        logits = self.fc(combined_features)\n",
    "        return logits\n",
    "\n",
    "# Initialize the model\n",
    "hidden_size = 128\n",
    "num_classes = y_train.shape[1]\n",
    "extra_features_dim = lr_features.shape[1]\n",
    "model = BERTWithNN(bert_model, hidden_size, num_classes, extra_features_dim)\n",
    "\n",
    "# Prepare DataLoader\n",
    "lr_features_tensor = torch.tensor(lr_features, dtype=torch.float32)\n",
    "# features_tensor = torch.tensor(final_train_features, dtype=torch.float32)\n",
    "labels_tensor = torch.tensor(y_train, dtype=torch.float32)\n",
    "\n",
    "# Convert tokenized train and val data to tensors\n",
    "# Tokenize train and validation data\n",
    "# bert_train_text = [pre_process.tokenize_text(text) for text in train[\"text\"]]\n",
    "# bert_val_text = [pre_process.tokenize_text(text) for text in val[\"text\"]]\n",
    "# Tokenize with BERT\n",
    "bert_train_text = tokenizer(\n",
    "    train[\"text\"].tolist(),\n",
    "    return_tensors=\"pt\",\n",
    "    add_special_tokens=True,\n",
    "    padding=\"max_length\",\n",
    "    truncation=True,\n",
    "    max_length=128\n",
    ")\n",
    "\n",
    "bert_val_text = tokenizer(\n",
    "    val[\"text\"].tolist(),\n",
    "    return_tensors=\"pt\",\n",
    "    add_special_tokens=True,\n",
    "    padding=\"max_length\",\n",
    "    truncation=True,\n",
    "    max_length=128\n",
    ")\n",
    "\n",
    "# Extract input_ids and attention_mask\n",
    "train_input_ids = bert_train_text[\"input_ids\"]\n",
    "train_attention_mask = bert_train_text[\"attention_mask\"]\n",
    "\n",
    "assert lr_features_tensor.shape[0] == train_input_ids.shape[0], \"Mismatched rows in LR features and BERT input IDs\"\n",
    "\n",
    "dataset = TensorDataset(train_input_ids, train_attention_mask, lr_features_tensor, labels_tensor)\n",
=======
    "# Neural Network\n",
    "model = nn.Sequential(\n",
    "    nn.Linear(final_train_features.shape[1], 128),\n",
    "    nn.BatchNorm1d(128),\n",
    "    nn.ReLU(),\n",
    "    nn.Dropout(0.4),\n",
    "    nn.Linear(128, 64),\n",
    "    nn.ReLU(),\n",
    "    nn.Linear(64, y_train.shape[1])\n",
    ")\n",
    "\n",
    "# DataLoader\n",
    "features_tensor = torch.tensor(final_train_features, dtype=torch.float32)\n",
    "labels_tensor = torch.tensor(y_train, dtype=torch.float32)\n",
    "dataset = TensorDataset(features_tensor, labels_tensor)\n",
>>>>>>> origin/main
    "data_loader = DataLoader(dataset, batch_size=16, shuffle=True)\n",
    "\n",
    "weights = y_train.sum(axis=0)/y_train.sum()\n",
    "weights = max(weights)/weights\n",
    "\n",
<<<<<<< HEAD
    "# Define loss and optimizer\n",
    "criterion = nn.BCEWithLogitsLoss(pos_weight=torch.tensor(weights, dtype=torch.float32))\n",
    "optimizer = SGD(model.parameters(), lr=1e-4, weight_decay=1e-4)\n",
    "\n",
    "# Training loop\n",
    "model.train()\n",
    "losses = []\n",
    "for epoch in tqdm(range(5), desc=\"Training Loop\"):\n",
    "    for input_ids, attention_mask, lr_features, labels in data_loader:\n",
    "        optimizer.zero_grad()\n",
    "        outputs = model(input_ids, attention_mask, lr_features)\n",
    "        loss = criterion(outputs, labels)\n",
    "        loss.backward()\n",
    "        optimizer.step()\n",
    "\n",
    "    print(f'Epoch {epoch}: Loss: {round(loss.item(),3)}')\n",
    "    # Save the trained model's weights for future use.\n",
    "    torch.save(model.state_dict(), f'./3-1-25/net_epoch_{epoch}.pth')\n",
    "    print(f\"Saved epoch {epoch} weights to './3-1-25/net_epoch_{epoch}.pth'\")\n",
    "    losses.append(round(loss.item(),3))\n",
    "\n",
    "    # if epoch % 100 == 0:\n",
    "    #     print(f'Epoch {epoch}: Loss: {round(loss.item(),3)}')\n",
    "    #     # Save the trained model's weights for future use.\n",
    "    #     torch.save(model.state_dict(), f'./24-12-24/net_epoch_{epoch}.pth')\n",
    "    #     print(f\"Saved epoch {epoch} weights to './24-12-24/net_epoch_{epoch}.pth'\")\n",
    "    #     losses.append(round(loss.item(),3))\n",
    "    # if epoch == 400:\n",
    "    #     print(f'Epoch {epoch}: Loss: {round(loss.item(),3)}')\n",
    "    #     # Save the trained model's weights for future use.\n",
    "    #     torch.save(model.state_dict(), f'./24-12-24/net_epoch_{epoch}.pth')\n",
    "    #     print(f\"Saved epoch {epoch} weights to './24-12-24/net_epoch_{epoch}.pth'\")\n",
    "    #     losses.append(round(loss.item(),3))\n"
=======
    "# Loss and Optimizer\n",
    "# criterion = nn.BCEWithLogitsLoss()\n",
    "# optimizer = optim.Adam(model.parameters(), lr=1e-4, weight_decay=1e-4)\n",
    "\n",
    "criterion = nn.BCEWithLogitsLoss(pos_weight=torch.Tensor(weights)) # <-- weights assigned to optimiser\n",
    "optimizer = optim.SGD(model.parameters(), lr=1e-4, weight_decay=1e-4) # lr=1e-4\n",
    "\n",
    "# Training Loop\n",
    "losses = []\n",
    "for epoch in tqdm(range(401), desc=\"Training Loop\"):\n",
    "    for features, labels in data_loader:\n",
    "        optimizer.zero_grad()\n",
    "        outputs = model(features)\n",
    "        loss = criterion(outputs, labels)\n",
    "        loss.backward()\n",
    "        optimizer.step()\n",
    "    # if epoch % 100 == 0:\n",
    "    #     print(f\"Epoch {epoch}: Loss: {round(loss.item(), 3)}\")\n",
    "    # losses.append(loss.item())\n",
    "    if epoch % 100 == 0:\n",
    "        print(f'Epoch {epoch}: Loss: {round(loss.item(),3)}')\n",
    "        # Save the trained model's weights for future use.\n",
    "        torch.save(model.state_dict(), f'./28-12-24/net_epoch_{epoch}.pth')\n",
    "        print(f\"Saved epoch {epoch} weights to './28-12-24/net_epoch_{epoch}.pth'\")\n",
    "        losses.append(round(loss.item(),3))\n",
    "    if epoch == 400:\n",
    "        print(f'Epoch {epoch}: Loss: {round(loss.item(),3)}')\n",
    "        # Save the trained model's weights for future use.\n",
    "        torch.save(model.state_dict(), f'./28-12-24/net_epoch_{epoch}.pth')\n",
    "        print(f\"Saved epoch {epoch} weights to './28-12-24/net_epoch_{epoch}.pth'\")\n",
    "        losses.append(round(loss.item(),3))"
>>>>>>> origin/main
   ]
  },
  {
   "cell_type": "code",
<<<<<<< HEAD
   "execution_count": null,
=======
   "execution_count": 23,
>>>>>>> origin/main
   "metadata": {},
   "outputs": [
    {
     "name": "stdout",
     "output_type": "stream",
     "text": [
<<<<<<< HEAD
      "Final Loss after 400 epochs: 0.703\n"
=======
      "Final Loss after 400 epochs: 0.869\n"
>>>>>>> origin/main
     ]
    }
   ],
   "source": [
    "# Final Loss\n",
    "print(f\"Final Loss after 400 epochs: {losses[-1]}\")"
   ]
  },
  {
   "cell_type": "code",
<<<<<<< HEAD
   "execution_count": null,
=======
   "execution_count": 24,
>>>>>>> origin/main
   "metadata": {},
   "outputs": [
    {
     "data": {
      "text/plain": [
<<<<<<< HEAD
       "(array([[0.00000000e+00, 0.00000000e+00, 0.00000000e+00, ...,\n",
       "         3.37153346e-03, 2.03434673e-04, 1.06744582e-04],\n",
       "        [0.00000000e+00, 0.00000000e+00, 0.00000000e+00, ...,\n",
       "         6.01568564e-02, 3.33009357e-01, 2.31915457e-04],\n",
       "        [0.00000000e+00, 0.00000000e+00, 0.00000000e+00, ...,\n",
       "         2.26728178e-02, 9.27401246e-03, 1.08520154e-03],\n",
       "        ...,\n",
       "        [0.00000000e+00, 0.00000000e+00, 0.00000000e+00, ...,\n",
       "         4.98633799e-03, 3.81255445e-01, 1.96406709e-02],\n",
       "        [0.00000000e+00, 0.00000000e+00, 0.00000000e+00, ...,\n",
       "         1.88115472e-01, 4.96022926e-02, 7.41382697e-03],\n",
       "        [0.00000000e+00, 0.00000000e+00, 0.00000000e+00, ...,\n",
       "         3.32888115e-01, 2.58945858e-03, 1.28381599e-02]]),\n",
       " [0.793, 0.738, 0.781, 0.703])"
      ]
     },
     "execution_count": 12,
=======
       "(array([[2.00000000e+00, 2.00000000e+00, 0.00000000e+00, ...,\n",
       "         9.72431924e-02, 8.20620133e-02, 2.41632159e-03],\n",
       "        [2.00000000e+00, 2.00000000e+00, 0.00000000e+00, ...,\n",
       "         4.20778798e-02, 3.80786596e-01, 2.05603399e-03],\n",
       "        [2.00000000e+00, 2.00000000e+00, 0.00000000e+00, ...,\n",
       "         1.21560692e-02, 7.75566496e-04, 8.83292122e-04],\n",
       "        ...,\n",
       "        [2.00000000e+00, 2.00000000e+00, 0.00000000e+00, ...,\n",
       "         2.07497895e-01, 1.09930734e-01, 9.31251721e-03],\n",
       "        [2.00000000e+00, 2.00000000e+00, 0.00000000e+00, ...,\n",
       "         1.47244021e-01, 1.85247861e-01, 2.16231444e-02],\n",
       "        [2.00000000e+00, 2.00000000e+00, 0.00000000e+00, ...,\n",
       "         1.86241264e-01, 1.96467068e-01, 3.95471003e-02]]),\n",
       " [0.866, 0.953, 0.854, 0.869])"
      ]
     },
     "execution_count": 24,
>>>>>>> origin/main
     "metadata": {},
     "output_type": "execute_result"
    }
   ],
   "source": [
    "final_val_features, losses"
   ]
  },
  {
   "cell_type": "code",
<<<<<<< HEAD
   "execution_count": null,
=======
   "execution_count": 25,
>>>>>>> origin/main
   "metadata": {},
   "outputs": [
    {
     "data": {
      "text/plain": [
<<<<<<< HEAD
       "[<matplotlib.lines.Line2D at 0x240393ce3a0>]"
      ]
     },
     "execution_count": 13,
=======
       "[<matplotlib.lines.Line2D at 0x1e8088939a0>]"
      ]
     },
     "execution_count": 25,
>>>>>>> origin/main
     "metadata": {},
     "output_type": "execute_result"
    },
    {
     "data": {
<<<<<<< HEAD
      "image/png": "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",
=======
      "image/png": "iVBORw0KGgoAAAANSUhEUgAAAiwAAAGdCAYAAAAxCSikAAAAOXRFWHRTb2Z0d2FyZQBNYXRwbG90bGliIHZlcnNpb24zLjkuNCwgaHR0cHM6Ly9tYXRwbG90bGliLm9yZy8ekN5oAAAACXBIWXMAAA9hAAAPYQGoP6dpAABSqUlEQVR4nO3dd3hUdd4+/ntmkplJL6T3QgCBJPQQAogQCFIW24qC0gQXBQvss/uAC7jr/lZ2/e4iithAlBVRXMGyoCiElkBIIJTQEhLSy6QQ0tuU8/tjktE8BkhCkjPlfl1XrktnzkzuOU7Mnfec8zkSQRAEEBERERkxqdgBiIiIiO6GhYWIiIiMHgsLERERGT0WFiIiIjJ6LCxERERk9FhYiIiIyOixsBAREZHRY2EhIiIio2cldoCeotPpUFxcDAcHB0gkErHjEBERUScIgoDa2lr4+PhAKr39HMVsCktxcTH8/f3FjkFERETdUFBQAD8/v9vebzaFxcHBAYD+BTs6OoqchoiIiDqjpqYG/v7+ht/jt2M2haXtYyBHR0cWFiIiIhNzt8M5eNAtERERGT0WFiIiIjJ6LCxERERk9FhYiIiIyOixsBAREZHRY2EhIiIio8fCQkREREaPhYWIiIiMHgsLERERGT0WFiIiIjJ6LCxERERk9FhYiIiIyOixsBCJoLSmCVuPZqGmSS12FCIik2A2V2smMiWr9lzAqRs3UXirERsfCRc7DhGR0eOEhaiPJd24iVM3bgIA9p0rxM26ZpETEREZPxYWoj4kCALePHTd8O/NGh12nc4XMRERkWlgYSHqQyezbiIltxJyKylemTEIAPDp6Vw0qbUiJyMiMm4sLER9RBAE/OtQBgBg3pgALI4Jho+TEhV1Lfj2QpHI6YiIjBsLC1EfOXa9HOfzq6CwkuL5SaGwlkmxOCYYALA9IQeCIIickIjIeLGwEPWBXx678vTYQHg4KgEAc8f4w15hhcyyOhy/Xi5mRCIio8bCQtQH4q+VIa2wGjbWMiyfFGq43VFpjbmj/QHopyxERNQxFhaiXqbTCdjUOl1ZOC4IbvaKdvcvGhcEqQRIzKrAtZIaMSISERk9FhaiXvbTVRWultTATi7DsxNDfnW/v6stHgz3BsApCxHR7bCwEPUinU7Am4cyAQCLY4LhaifvcLul4/UH3353sQhlNU19lo+IyFSwsBD1ogOXSpBRWgsHhRWWTfj1dKXN8AAXjAp0gVorYGdSbt8FJCIyESwsRL1EqxOw+bD+2JVnJgTDydb6jtsvnaCfsnyWnI+GFk2v5yMiMiUsLES95L8Xi3GjvB5ONtZY0vqRz51MHeyFAFdbVDWosTe1sA8SEhGZDhYWol6g0erwVrz+2JVnJ4bAUXnn6QoAyKQSLIkJAgB8lJgDnY4LyRERtWFhIeoFX58vQk5FPVxsrbFwXFCnH/fbUf5wVFoh92YDDl8r7b2AREQmhoWFqIeptTq8fUQ/Xfnd/aGwV1h1+rF2CivMiwoEAGxP5CnORERtWFiIethXqYUoqGyEm70cC6IDu/z4ReOCYCWVICWnEmmFVT0fkIjIBLGwEPWgZo0W7xzJAgAsvz8UtvLOT1faeDkpMTvSBwAXkiMiasPCQtSDvjxbiKKqRng4KPDU2K5PV9o803pW0YFLJSiqauypeEREJouFhaiHNKm12No6XVnxQH8orWXdfq6hvk6IDukHrU7AzlO5PZSQiMh0sbAQ9ZDPU/KhqmmCt5PScAXme7Fson7K8nlyPmqb1Pf8fEREpoyFhagHNLZo8e6xGwDufbrSZtIAD4S426G2WYM9Zwru+fmIiEwZCwtRD/gsOQ/ltc3wdbbB46PufboCAFKpBEvH668/9PHJXGi0uh55XiIiU8TCQnSP6ps1eK91uvLilP6QW/Xcj9UjI3zhaidHUVUjDl5R9djzEhGZGhYWonv076Q83KxvQYCrLR4Z4dejz620lhnONtqWkANB4HL9RGSZWFiI7kFtkxofnGibroTBWtbzP1JPjw2E3EqKiwVVSM271ePPT0RkClhYiO7BJydzUdWgRoibHR4a5tMr38PdQYGHh/kC4EJyRGS5WFiIuqm6UY1tCdkAgJdiw2DVC9OVNs9M0J/i/ONVFfJu1vfa9yEiMlYsLETdtCMxBzVNGoR52GNWRO9MV9oM8HTA/QPcIQj6M4aIiCwNCwtRN1Q1tGBH69WUX44dAJlU0uvfc2nrlOXLswWobuBCckRkWVhYiLphW0I2aps1GOTlgAeHevXJ9xzf3w2DvBzQ0KLF7pT8PvmeRETGgoWFqIsq61sMH8u8HDsA0j6YrgCARCLB0gn6heQ+OZWDFg0XkiMiy8HCQtRFHxy/gYYWLYb4OCJuiGeffu/Zkd5wd1CgtKYZBy4V9+n3JiISEwsLUReU1zZjZ1IuAGD11AGQSPpmutJGYSXDonFBAIBtJ7iQHBFZDhYWoi54//gNNKl1iPR3xuRBHqJkmDcmAEprKa6W1CAp+6YoGYiI+hoLC1EnldY0YdfpPADiTFfauNjJ8duR+gssciE5IrIULCxEnfTu0Sw0a3QYGeiCiWFuomZZMj4YEglwJL0MWWV1omYhIuoLLCxEnVBc1YjPUwoAiDtdaRPsZofY+/QH/H6UyCkLEZk/FhaiTth6NAstWh2igl0xLrSf2HEAAEvH6xeS23euEDfrmkVOQ0TUu7pVWLZu3YqgoCAolUpERUUhJSXlttuq1Wq89tprCA0NhVKpRGRkJA4ePHjb7f/+979DIpHg5Zdf7k40oh5XUNmAL8/qpyurjGC60mZMsCsi/JzQrNFh12kuJEdE5q3LhWXPnj1YvXo1Xn31VZw7dw6RkZGIi4tDWVlZh9uvW7cOH3zwAbZs2YKrV69i+fLlePjhh3H+/PlfbXvmzBl88MEHiIiI6PorIeol7xzJglorIKZ/P4wNMY7pCqBfSO6Z1inLp6dz0aTWipyIiKj3dLmwbNq0CcuWLcPixYsxePBgvP/++7C1tcWOHTs63P7TTz/FK6+8ghkzZiAkJATPPfccZsyYgX/961/ttqurq8P8+fOxbds2uLi4dO/VEPWwvJv1+OpcIQD9sSvGZka4N3yclKioa8G3F4rEjkNE1Gu6VFhaWlqQmpqK2NjYn59AKkVsbCySkpI6fExzczOUSmW722xsbJCYmNjuthUrVmDmzJntnptIbG/FZ0KrE3D/AHeMDHQVO86vWMukWBQTBEB/ijMXkiMic9WlwlJRUQGtVgtPz/bLkXt6ekKlUnX4mLi4OGzatAmZmZnQ6XQ4dOgQ9u3bh5KSEsM2X3zxBc6dO4eNGzd2OktzczNqamrafRH1pBvldfjmvH5qscoIpyttnhgTADu5DJlldTh+vVzsOEREvaLXzxJ66623EBYWhkGDBkEul2PlypVYvHgxpFL9ty4oKMBLL72Ezz777FeTmDvZuHEjnJycDF/+/v699RLIQr0dnwmdAEwZ5IFh/s5ix7ktR6U15o4OAMBTnInIfHWpsLi5uUEmk6G0tLTd7aWlpfDy8urwMe7u7vjmm29QX1+PvLw8pKenw97eHiEh+qvOpqamoqysDCNGjICVlRWsrKxw/PhxvP3227CysoJW2/GBhGvXrkV1dbXhq6CgoCsvheiOrpfW4ruL+osLGvN0pc3imCBIJUBCZgWulXDaSETmp0uFRS6XY+TIkYiPjzfcptPpEB8fj+jo6Ds+VqlUwtfXFxqNBnv37sWcOXMAAFOmTMGlS5dw4cIFw9eoUaMwf/58XLhwATKZrMPnUygUcHR0bPdF1FPeOpwJQQDihnhiqK+T2HHuyt/VFg8O9QbAKQsRmSerrj5g9erVWLhwIUaNGoUxY8Zg8+bNqK+vx+LFiwEACxYsgK+vr+F4lOTkZBQVFWHYsGEoKirCn//8Z+h0Ovzxj38EADg4OGDo0KHtvoednR369ev3q9uJ+sK1khocuKQ/xurlWOOfrrRZOiEYBy6V4NsLRfhj3EB4OHb+I1YiImPX5cIyd+5clJeXY8OGDVCpVBg2bBgOHjxoOBA3Pz/fcHwKADQ1NWHdunXIzs6Gvb09ZsyYgU8//RTOzs499iKIetLmw9cBADMjvHGft+lM7oYHuGBkoAtS827h30l5+J+4gWJHIiLqMRLBTM6DrKmpgZOTE6qrq/nxEHXb5aJqzNqSCIkE+OnliQjzdBA7UpccvFyC5bvOwdnWGqfWTIatvMt/kxAR9anO/v7mtYSIfuHNQ/rpym8ifUyurADA1MFeCHC1RVWDGnvPcSE5IjIfLCxErS4UVCE+vQxSCfDSlDCx43SLTCrBktaF5HYk5kCnM4sBKhERCwtRm02t05WHh/shxN1e5DTd99tR/nBUWiGnoh7x6R1f44uIyNSwsBABOJtbiRPXyyGTSvDilP5ix7kndgorzIsKBABsS8gWOQ0RUc9gYSEC8GbrmUG/HemHwH52Iqe5dwvHBcJKKkFKTiXSCqvEjkNEdM9YWMjinc6+iZNZN2Etk2DFA6Y9XWnj7WSD2ZE+APQXRSQiMnUsLGTRBEEwHLvy+Ch/+Lvaipyo5zwzPhgAcOBSCYqqGkVOQ0R0b1hYyKKdunETKTmVkMukWDnZPKYrbYb6OiE6pB+0OgE7T+WKHYeI6J6wsJDFEgQB//opAwAwLyoA3k42IifqeUsn6Kcsnyfno7ZJLXIaIqLuY2Ehi3X8ejnO5VdBYSXFc5NCxY7TKx4Y6IEQdzvUNmvw5dlCseMQEXUbCwtZJEEQDKvaPjU2EJ5meqFAqVRiOJZlR2IONFqdyImIiLqHhYUs0pH0MlwsrIaNtQzL7zfP6UqbR0f4wcXWGkVVjfjxSqnYcYiIuoWFhSzOL88MWjAuEO4OCpET9S6ltQxPj/15ITkzud4pEVkYFhayOD9eKcWV4hrYyWX43UTznq60eTo6CHIrKS4UVOFc/i2x4xARdRkLC1kUnU7A5tZVbRfHBMPVTi5yor7h7qDAw8N8AQDbTnAhOSIyPSwsZFG+v1yCdFUtHBRWhlN+LcUzra/3x6sq5N2sFzkNEVHXsLCQxdDqBGw+nAkAWDI+GM62ljFdaTPA0wH3D3CHIAAfn8wVOw4RUZewsJDF2J9WjKyyOjgqrQzTBkvTNlX68mwBqhu4kBwRmQ4WFrIIGq3OMF15dmIIHJXWIicSx/j+bhjk5YCGFi12p+SLHYeIqNNYWMgifHOhGDkV9XCxtcaiGMucrgCARPLzQnKfnMpBi4YLyRGRaWBhIbOn1urwdrx+uvK7+0Nhr7ASOZG4fjPMB+4OCpTWNOPApWKx4xARdQoLC5m9vamFyK9sQD87ORZEB4odR3QKKxkWtu6H7Qk5XEiOiEwCCwuZtRaNDluOZAEAnpsUClu5ZU9X2syPCoTSWoorxTVIyr4pdhwiortiYSGz9uXZAhRVNcLdQYGnxnK60sbFTo7HRvoBAD5K4EJyRGT8WFjIbDWptdh6VD9dWTEpFEprmciJjMuSmGBIJEB8ehmyyurEjkNEdEcsLGS2vkjJR0l1E7ydlHhiTIDYcYxOiLs9pgzyBADsOMkpCxEZNxYWMktNai22HrsBAFjxQH9OV25jWetCcntTC3GzrlnkNEREt8fCQmZp1+k8lNc2w9fZBo+P8hc7jtEaE+yKcF8nNGt0+CyZC8kRkfFiYSGz09CiwfvH9dOVFyb3h9yKb/PbkUgkhuX6/52Uiya1VuREREQd4//Jyez8OykPFXUtCHC1xaOtZ8LQ7c0I94a3kxIVdS347gIXkiMi48TCQmalrlmDD1qnKy9OCYO1jG/xu7GWSbE4JggAsD0xmwvJEZFR4v/Nyax8cjIHtxrUCHazw0PDfMSOYzLmjg6AnVyG66V1OJFZIXYcIqJfYWEhs1HTpMaHJ7IBAC9NCYMVpyud5mRjjbmj9ad+b0/IFjkNEdGv8f/oZDZ2JOagpkmD/h72mB3J6UpXLY4JglQCJGRWIF1VI3YcIqJ2WFjILFQ1tBiWmH85NgwyqUTkRKbH39UWDw71BqC/KCIRkTFhYSGzsD0hB7XNGgzycsCM1l+61HXPtJ7i/O2FIpTVNImchojoZywsZPIq61vw8cm26coASDld6bYRAS4YGegCtVbAv5PyxI5DRGTAwkIm74MTN1DfosUQH0fEDfEUO47JWzpeP2XZlZyHxhYuJEdExoGFhUxaeW0z/n1KPwlYFTsAEgmnK/dq2hAv+LvaoKpBja/OFYodh4gIAAsLmbgPjt9Ao1qLSD8nTLnPQ+w4ZkEmlWBJjH7KsiMxBzodF5IjIvGxsJDJKqtpwqenW6crUzld6UmPj/KHg9IKORX1iE8vEzsOERELC5mud4/dQLNGhxEBzrh/gLvYccyKncIK86L0C8lt40JyRGQEWFjIJJVUN2J3cj4A4PfTBnK60gsWjQuClVSClJxKpBVWiR2HiCwcCwuZpK1Hs9Ci1WFMsCvGhfYTO45Z8naywawILiRHRMaBhYVMTuGtBuw5UwAAWM1jV3rV0gkhAIADl0pQXNUochoismQsLGRy3jmSBbVWwLjQfhgbwulKbxrq64SxIa7Q6gR8cipX7DhEZMFYWMik5N2sx39S9WuDrJ46QOQ0lmFZ65Tl8+R81DVrRE5DRJaKhYVMytvxWdDqBEwc4I5RQa5ix7EIDwz0QIi7HWqbNYaP4oiI+hoLC5mM7PI6fH2e05W+JpVK8Ezrcv0fn8yBRqsTORERWSIWFjIZb8dnQicAUwZ5YJi/s9hxLMqjI/zgYmuNwluN+PFKqdhxiMgCsbCQScgsrcW3F4sB6Fe1pb6ltJbh6bGBAIDtiVxIjoj6HgsLmYTN8ZkQBGDaYE8M9XUSO45Fejo6CHKZFOfzq5CaVyl2HCKyMCwsZPTSVTU4kFYCgNMVMbk7KPDQcB8AXEiOiPoeCwsZvc2HMgEAM8O9cZ+3o8hpLFvbQnI/XlEh/2aDyGmIyJKwsJBRu1xUjYNXVJBIgJdiw8SOY/EGeDpg4gB36ARgx0lOWYio77CwkFHbfPg6AOA3kT4Y4OkgchoCgGUT9Kc4f3m2ANUNapHTEJGlYGEho3WxoAqHr5VBKgFenMLpirEY398Ng7wc0NCixedn8sWOQ0QWoluFZevWrQgKCoJSqURUVBRSUlJuu61arcZrr72G0NBQKJVKREZG4uDBg+222bhxI0aPHg0HBwd4eHjgoYceQkZGRneikRnZdEg/XXlouC9C3e1FTkNtJJKfF5L75GQuWjRcSI6Iel+XC8uePXuwevVqvPrqqzh37hwiIyMRFxeHsrKyDrdft24dPvjgA2zZsgVXr17F8uXL8fDDD+P8+fOGbY4fP44VK1bg9OnTOHToENRqNaZNm4b6+vruvzIyaal5lTh+vRwyqQQvcbpidH4zzAfuDgqoaprw/aUSseMQkQWQCIIgdOUBUVFRGD16NN555x0AgE6ng7+/P1544QWsWbPmV9v7+PjgT3/6E1asWGG47dFHH4WNjQ127drV4fcoLy+Hh4cHjh8/jokTJ3YqV01NDZycnFBdXQ1HR55JYuqe2p6MxKwKzB3lj388FiF2HOrAO0cy8c+frmOIjyP2vzAeEolE7EhEZII6+/u7SxOWlpYWpKamIjY29ucnkEoRGxuLpKSkDh/T3NwMpVLZ7jYbGxskJibe9vtUV1cDAFxdb39xu+bmZtTU1LT7IvOQnH0TiVkVsJZJsHJyf7Hj0G3MjwqE0lqKK8U1OJ3NheSIqHd1qbBUVFRAq9XC09Oz3e2enp5QqVQdPiYuLg6bNm1CZmYmdDodDh06hH379qGkpOMxsk6nw8svv4yYmBgMHTr0tlk2btwIJycnw5e/v39XXgoZKUEQ8K/WY1ceH+UPf1dbkRPR7bjYyfHYSD8AwPYELtdPRL2r188SeuuttxAWFoZBgwZBLpdj5cqVWLx4MaTSjr/1ihUrcPnyZXzxxRd3fN61a9eiurra8FVQwMvem4OkGzeRklMJuUyKFQ9wumLslsQEQyIB4tPLcKO8Tuw4RGTGulRY3NzcIJPJUFra/mqtpaWl8PLy6vAx7u7u+Oabb1BfX4+8vDykp6fD3t4eISEhv9p25cqV2L9/P44ePQo/P787ZlEoFHB0dGz3Rabtl9OVJ8f4w8fZRuREdDch7vaYMkg/cf0okQvJEVHv6VJhkcvlGDlyJOLj4w236XQ6xMfHIzo6+o6PVSqV8PX1hUajwd69ezFnzhzDfYIgYOXKlfj6669x5MgRBAcHd/FlkDk4kVmB1LxbUFhJ8TynKyZjaetCcntTC1FZ3yJyGiIyV13+SGj16tXYtm0bdu7ciWvXruG5555DfX09Fi9eDABYsGAB1q5da9g+OTkZ+/btQ3Z2NhISEjB9+nTodDr88Y9/NGyzYsUK7Nq1C7t374aDgwNUKhVUKhUaGxt74CWSKRAEwbDuylNjA+HpqLzLI8hYRAW7ItzXCc0aHXadzhM7DhGZqS4Xlrlz5+Kf//wnNmzYgGHDhuHChQs4ePCg4UDc/Pz8dgfUNjU1Yd26dRg8eDAefvhh+Pr6IjExEc7OzoZt3nvvPVRXV2PSpEnw9vY2fO3Zs+feXyGZhKMZZbhYUAWltRTL7w8VOw51gUQiMUxZ/p2Uiya1VuRERGSOurwOi7HiOiymSxAEzH4nEZeLavC7iSFYO+M+sSNRF6m1Okx84yhKqpvwxqMReHw0z9ojos7plXVYiHrDT1dLcbmoBnZyGX7H6YpJspZJsWhcEABge2I2zOTvICIyIiwsJCqdTsCbrceuLIoJgqudXORE1F1PjAmAnVyG66V1OJFZIXYcIjIzLCwkqh8uq5CuqoWDwgrLJvz6VHcyHU421oaPgriQHBH1NBYWEo1WJ2DzYf10Zcn4YDjbcrpi6pbEBEMqARIyK5Cu4uUyiKjnsLCQaPanFSOzrA6OSissGc+1d8yBv6stpg/VLyL5UQIXkiOinsPCQqLQaHV463AmAGDZhBA42ViLnIh6ytLWj/a+vVCMstomkdMQkblgYSFRfHuhGNkV9XC2tcZiTlfMyogAF4wIcEaLVod/n+JCckTUM1hYqM+ptTq8fUQ/XfndxFDYK6xETkQ9re0A6l3JeWhs4UJyRHTvWFioz+07V4i8mw3oZyfHguhAseNQL5g2xAv+rjaoalDjq3OFYschIjPAwkJ9qkWjw9vxWQCA5yaFwo7TFbMkk0qwJEb/Ud+OxBzodFxIjojuDQsL9an/pBagqKoR7g4KzI/idMWcPT7KHw5KK+RU1CM+vUzsOERk4lhYqM80a7R454h+uvL8pFDYyGUiJ6LeZKewwryoAABcSI6I7h0LC/WZL1IKUFLdBC9HJZ4cEyB2HOoDi8YFwUoqQXJOJS4VVosdh4hMGAsL9YkmtRZbj+qnKysm94fSmtMVS+DtZINZEd4A9BdFJCLqLhYW6hOfJeejrLYZvs42eHyUn9hxqA+1LSS3P60ExVWNIqchIlPFwkK9rqFFg/eO6acrKyf3h8KK0xVLMtTXCWNDXKHVCdh5KlfsOERkolhYqNd9mpSHiroW+Lva4LGRnK5YoraF5Han5KOuWSNyGiIyRSws1KvqmjV4//gNAMCLk8NgLeNbzhI9MNADIe52qG3S4MszBWLHISITxN8e1Kt2nsrFrQY1gt3s8PBwX7HjkEikUgmeab1m1I6TOdBodSInIiJTw8JCvaamSY0PT+jPDHlpShisOF2xaI8M94OLrTUKbzXip6ulYschIhPD3yDUaz5OzEV1oxqh7naYHekjdhwSmY1chqfH6lc33saF5Iioi1hYqFdUN6gN6268HDsAMqlE5ERkDJ6KDoRcJsX5/Cqk5t0SOw4RmRAWFuoV2xOzUdukwUBPB8wM9xY7DhkJDwclHhqun7ZxuX4i6goWFupxt+pbsCMxBwCwamoYpJyu0C88M15/ivOPV1TIv9kgchoiMhUsLNTjPjiRjfoWLQZ7O2LaYC+x45CRGejlgIkD3KET9GcMERF1BgsL9aiKumbDaqarpw7gdIU6tLT1FOcvzxagulEtchoiMgUsLNSjPjh+A41qLSL8nDDlPg+x45CRmhDmhoGeDmho0eLzlHyx4xCRCWBhoR5TVtOEfyflAQBWTR0AiYTTFeqYRCLBMxP0U5ZPTuZCzYXkiOguWFiox7x77AaaNTqMCHDGpAHuYschIzdnmA/c7BVQ1TThQFqJ2HGIyMixsFCPKKluxO7W0f7qqQM5XaG7UljJsDBav5Dc9sRsCIIgciIiMmYsLNQj3j16Ay0aHcYEuSKmfz+x45CJmD82EEprKS4X1eB0dqXYcYjIiLGw0D0rvNWAL87opys8doW6wtVOjkdH+AEAPkrkQnJEdHssLHTPth7NglorYFxoP0SHcrpCXdN2FefD18pwo7xO5DREZKxYWOie5N9swH/OFgLQT1eIuirE3R6xrafAt62QTET0f7Gw0D15+0gmNDoBE8LcMDrIVew4ZKKWTtAv1/9VaiEq61tETkNExoiFhbotp6Ie+87ppyurOV2hexAV7Iqhvo5o1ujw2ek8seMQkRFiYaFuezs+EzoBmDzIA8MDXMSOQyZMIpFgWeuUZWdSHprUWpETEZGxYWGhbskqq8U3F4oAAKtiOV2hezcj3BveTkpU1DXju4vFYschIiPDwkLdsvlwJgQBmDbYE+F+TmLHITNgLZNi0bggAMBHCTlcSI6I2mFhoS5LV9XgwCX9Uuovc7pCPeiJMQGwk8uQUVqLhMwKseMQkRFhYaEue6t1ujIj3AuDfRzFjkNmxMnGGo+P9gcAbEvgQnJE9DMWFuqSK8XV+OGyChIJpyvUO5bEBEMqARIyK5CuqhE7DhEZCRYW6pI3D2UCAGZH+GCAp4PIacgc+bvaYvpQLwD6Y1mIiAAWFuqCtMIqHL5WCqkEeCk2TOw4ZMbaFpL79kIxymqbRE5DRMaAhYU6bdOh6wCAh4b7ItTdXuQ0ZM5GBLhgRIAzWrQ6fJrEheSIiIWFOik17xaOZZRDJpXgxcmcrlDva1tIbtfpPDS2cCE5IkvHwkKdsvmwfrry6AhfBLnZiZyGLMG0IV7wd7XBrQY19rZeAoKILBcLC91VSk4lEjIrYCWV4AVOV6iPyKQSLIkJBqC/irNOx4XkiCwZCwvd1aZDGQCAx0f7w9/VVuQ0ZEl+O8ofDkorZFfU40h6mdhxiEhELCx0R6duVOB0diXkMilWPNBf7DhkYewVVpgXFQCAC8kRWToWFrotQRCw6Sf9sStPjPGHr7ONyInIEi0aFwQrqQTJOZW4VFgtdhwiEgkLC91WQmYFzubdgtyK0xUSj7eTDWZFeAMAtidyykJkqVhYqEOCIBjWXXkqKhCejkqRE5Ela1tI7kBaCYqrGkVOQ0RiYGGhDh3LKMeFgiooraVYPilE7Dhk4Yb6OmFsiCs0OgE7T+WKHYeIRMDCQr/yy+nKwuggeDhwukLiWzpeX5x3p+Sjrlkjchoi6mssLPQrh66W4lJRNWzlMjw7kdMVMg6TB3kgxM0OtU0afHmmQOw4RNTHWFioHZ1OwJuH9VdkXjQuCP3sFSInItKTSiVYMr51IbmTOdByITkii9KtwrJ161YEBQVBqVQiKioKKSkpt91WrVbjtddeQ2hoKJRKJSIjI3Hw4MF7ek7qPQevqHCtpAb2CitOV8joPDrCDy621ii81Ygfr6jEjkNEfajLhWXPnj1YvXo1Xn31VZw7dw6RkZGIi4tDWVnHq1CuW7cOH3zwAbZs2YKrV69i+fLlePjhh3H+/PluPyf1Dq1OwJutx64sGR8MZ1u5yImI2rORy/DU2EAAwHYuJEdkUSSCIHRprhoVFYXRo0fjnXfeAQDodDr4+/vjhRdewJo1a361vY+PD/70pz9hxYoVhtseffRR2NjYYNeuXd16zo7U1NTAyckJ1dXVcHR07MpLolbfXSzGi5+fh6PSCgn/OxlONtZiRyL6lbLaJoz/+1G0aHXY+9w4jAx0ETsSEd2Dzv7+7tKEpaWlBampqYiNjf35CaRSxMbGIikpqcPHNDc3Q6lsf5aJjY0NEhMTu/2cbc9bU1PT7ou6T6PVGa7IvGxCCMsKGS0PByXmDPMBAHzEheSILEaXCktFRQW0Wi08PT3b3e7p6QmVquPPk+Pi4rBp0yZkZmZCp9Ph0KFD2LdvH0pKSrr9nACwceNGODk5Gb78/f278lLo//juYjGyy+vhbGuNRTFBYschuqO2heQOXlahoLJB5DRE1Bd6/Syht956C2FhYRg0aBDkcjlWrlyJxYsXQyq9t2+9du1aVFdXG74KCniaY3dptDq8Fa8/M+jZiSFwUHK6QsZtoJcDJoS5QSfozxgiIvPXpdbg5uYGmUyG0tLSdreXlpbCy8urw8e4u7vjm2++QX19PfLy8pCeng57e3uEhIR0+zkBQKFQwNHRsd0Xdc++c0XIu9mAfnZyLIwOEjsOUacsa52yfHmmANWNapHTEFFv61JhkcvlGDlyJOLj4w236XQ6xMfHIzo6+o6PVSqV8PX1hUajwd69ezFnzpx7fk66dy0aHd4+op+uLL8/FHYKK5ETEXXOhDA3DPR0QH2LFl+k5Isdh4h6WZc/l1m9ejW2bduGnTt34tq1a3juuedQX1+PxYsXAwAWLFiAtWvXGrZPTk7Gvn37kJ2djYSEBEyfPh06nQ5//OMfO/2c1Hu+Si1E4a1GuNkrDKeLEpkCiUSCZyboF5L75FQu1FqdyImIqDd1+c/puXPnory8HBs2bIBKpcKwYcNw8OBBw0Gz+fn57Y5PaWpqwrp165CdnQ17e3vMmDEDn376KZydnTv9nNQ7mjVavNM6XXl+Uihs5DKRExF1zZxhPnjjYAZKqpvw/aUSzBnmK3YkIuolXV6HxVhxHZau+3dSLjZ8ewWejgoc/8MDUFqzsJDp2RKfiX8duo6hvo7478rxkEgkYkcioi7olXVYyHw0qbXYejQLALDygf4sK2Sy5o8NhNJaistFNUjOqRQ7DhH1EhYWC7U7OR+lNc3wcVLi8dFcw4ZMl6udHI+O8APA5fqJzBkLiwVqbNHi3WM3AAAvTAmDworTFTJtbVdxPnytDNnldSKnIaLewMJigT49nYuKumb4u9rgsZF+Yschumeh7vaIvc8DAPBRIheSIzJHLCwWpr5Zg/eP68fmL0wOg7WMbwEyD8+M1y8kt/dcISrrW0ROQ0Q9jb+tLMwnp3JRWd+CoH62eGQ4TwEl8zE2xBVDfR3RpNbhs9N5Yschoh7GwmJBapvU+PCEfrryUmwYrDhdITMikUiwtHXKsjMpD80arciJiKgn8TeWBfn4ZC6qG9UIdbfDbyI5XSHzMzPCG95OSlTUNePbC8VixyGiHsTCYiGqG9TY1nrK58uxAyCTcnEtMj/WMikWjQsCAHyUkAMzWReTiMDCYjE+SsxGbZMGAzztMTPcW+w4RL3miTEBsJPLkFFai4TMCrHjEFEPYWGxALfqW7DjZC4AYFXsAEg5XSEz5mRjbVgMcRsXkiMyGywsFuDDhGzUNWsw2NsRcUO8xI5D1OuWxARDKgESMiuQoaoVOw4R9QAWFjNXUdeMnadyAQCrpnK6QpbB39UW04fqyzmX6ycyDywsZu7DE9loaNEi3NfJsBIokSVoW0ju2wvFKKttEjkNEd0rFhYzVlbbhH8n5QIAVk8dAImE0xWyHCMDXTAiwBktWh0+TeJCckSmjoXFjL137Aaa1DoMD3DGpIHuYsch6nNLJ+inLLtO56GxhQvJEZkyFhYzpapuwmfJ+QA4XSHLFTfEC/6uNrjVoMbec4VixyGie8DCYqbePZaFFo0Oo4NcML6/m9hxiEQhk0qweFwwAGBHYg50Oi4kR2SqWFjMUFFVI75IKQAArJ46kNMVsmiPj/aHg9IK2RX1OJJeJnYcIuomFhYz9M6RLLRodYgO6Yfo0H5ixyESlb3CCvPGBAAAtifyFGciU8XCYmYKKhvwn7Ot05VpA0ROQ2QcFsUEwUoqwensSlwuqhY7DhF1AwuLmXk7PhManYAJYW4YHeQqdhwio+DtZIOZEfpraHEhOSLTxMJiRnIq6rHvfBEA/aq2RPSzpa0Lye1PK0FJdaPIaYioq1hYzMiW+ExodQIeGOiOEQEuYschMirhfk6ICnaFRifgk9bLVRCR6WBhMRNZZXX45oJ+urJ66kCR0xAZp2WtC8ntTs5HXbNG5DRE1BUsLGbirfhM6ARg6mBPhPs5iR2HyChNHuSBEDc71DZpDAenE5FpYGExAxmqWuxPKwYArIrlsStEtyOVSrBkfOtCcidzoOVCckQmg4XFDLwVfx2CAMwI98JgH0ex4xAZtUdH+MHF1hoFlY346YpK7DhE1EksLCbuSnE1vr+kgkQCvDSF0xWiu7GRy/DU2EAAwDae4kxkMlhYTNzmw5kAgFkRPhjo5SByGiLT8HR0IOQyKc7lVyE175bYcYioE1hYTNilwmoculoKqQR4aUqY2HGITIaHgxJzhvkAAD7icv1EJoGFxYRtOpQBAHhomC/6e9iLnIbItDwzQX/w7cHLKhRUNoichojuhoXFRJ3Lv4WjGeWQSSV4gdMVoi4b5OWICWFu0An6M4aIyLixsJioNw9dBwA8MtwXwW52IqchMk1LWxeS+/JMAaob1SKnIaI7YWExQWdyK5GQWQErqQQvcrpC1G0Tw9wwwNMe9S1afJGSL3YcIroDFhYTtOkn/XTlt6P84e9qK3IaItMlkUgMF0X85FQu1FqdyImI6HZYWEzMqRsVSMq+CblMipWT+4sdh8jkzRnuAzd7BUqqm/D9pRKx4xDRbbCwmBBBEAzHrjwxxh++zjYiJyIyfQorGRZE/7yQnCBwuX4iY8TCYkISsypwJvcW5FZSPD+J0xWinvLU2EAorKS4XFSD5JxKseMQUQdYWEyEIAjY1DpdmR8VAC8npciJiMyHq50cj470AwBsT+ApzkTGiIXFRBy7Xo7z+VVQWkvx3KRQseMQmZ1nWq/iHJ9eiuzyOpHTENH/xcJiAn557MqC6CB4OHC6QtTTQt3tEXufBwQuJEdklFhYTMDha2VIK6yGrVyG300METsOkdl6pvUU569SC3GrvkXkNET0SywsRk6n+/nYlUXjgtDPXiFyIiLzNTbEFUN9HdGk1mHX6Tyx4xDRL7CwGLkfr6hwraQG9gorLJvA6QpRb/rlQnI7k/LQrNGKnIiI2rCwGDGdTsCbh/XTlSUxQXCxk4uciMj8zYzwhpejEhV1zfj2QrHYcYioFQuLETtwqQTXS+vgoLTCM5yuEPUJa5kUi2KCAAAfJeRwITkiI8HCYqS0OgGbW6cryyaEwMnGWuRERJbjyTEBsJXLkFFai4TMCrHjEBFYWIzWdxeLcKO8Hk421ljc+tceEfUNJxtrPD7KHwCwPZGnOBMZAxYWI6TR6vDW4UwAwLMTQ+Cg5HSFqK8tiQmGVAKcuF6ODFWt2HGILB4LixHad74IuTcb4Gonx6JxQWLHIbJIAf1sETfECwDwUWK2yGmIiIXFyKi1Orwdr5+uLL8/BHYKK5ETEVmupa0Hu39zvhhltU0ipyGybCwsRuar1EIU3mqEm70CT48NEjsOkUUbGeiC4QHOaNHqsCuJC8kRiYmFxYg0a7TY0jpdeX5SKGzkMpETEVHbgo2fns5DYwsXkiMSCwuLEfnyTAGKq5vg6ajAvKgAseMQEYBpgz3h52KDWw1q7DtfKHYcIovFwmIkmtRavHM0CwCw4oH+UFpzukJkDKxkUiyJCQagX0hOp+NCckRiYGExEp+n5KO0phk+TkrMHe0vdhwi+oXHR/vDQWmF7Ip6HM0oEzsOkUXqVmHZunUrgoKCoFQqERUVhZSUlDtuv3nzZgwcOBA2Njbw9/fHqlWr0NT08xH3Wq0W69evR3BwMGxsbBAaGoq//vWvFrMkdmOLFluP3gAArJwcBoUVpytExsReYYV5Y/Qf025L4CnORGLocmHZs2cPVq9ejVdffRXnzp1DZGQk4uLiUFbW8V8du3fvxpo1a/Dqq6/i2rVr+Oijj7Bnzx688sorhm3+8Y9/4L333sM777yDa9eu4R//+AfeeOMNbNmypfuvzITsOp2Hirpm+LnY4LGRfmLHIaIOLBwXBCupBKezK3G5qFrsOEQWp8uFZdOmTVi2bBkWL16MwYMH4/3334etrS127NjR4fanTp1CTEwM5s2bh6CgIEybNg1PPvlku6nMqVOnMGfOHMycORNBQUF47LHHMG3atLtObsxBfbMG7x/XT1denBIGuRU/pSMyRj7ONpgZ4Q0A2M4pC1Gf69Jvx5aWFqSmpiI2NvbnJ5BKERsbi6SkpA4fM27cOKSmphrKR3Z2Nr7//nvMmDGj3Tbx8fG4fl1/sb+LFy8iMTERDz744G2zNDc3o6ampt2XKdqZlIub9S0I7GeLR4b7ih2HiO5g6Xj9Kc7700pQUt0ochoiy9KlZVQrKiqg1Wrh6enZ7nZPT0+kp6d3+Jh58+ahoqIC48ePhyAI0Gg0WL58ebuPhNasWYOamhoMGjQIMpkMWq0Wf/vb3zB//vzbZtm4cSP+8pe/dCW+0altUuPDE/q/1F6aEgYrGacrRMYs3M8JUcGuSM6pxCencrH2wfvEjkRkMXr9N+SxY8fw+uuv491338W5c+ewb98+HDhwAH/9618N23z55Zf47LPPsHv3bpw7dw47d+7EP//5T+zcufO2z7t27VpUV1cbvgoKCnr7pfS4T07moqpBjRB3O8wZxukKkSloW65/d3I+6ps1IqchshxdmrC4ublBJpOhtLS03e2lpaXw8vLq8DHr16/H008/jaVLlwIAwsPDUV9fj2effRZ/+tOfIJVK8Yc//AFr1qzBE088YdgmLy8PGzduxMKFCzt8XoVCAYVC0ZX4RqW6UW042+Dl2AGQSSUiJyKizpgyyAPBbnbIqajHl2cLsLh1jRYi6l1dmrDI5XKMHDkS8fHxhtt0Oh3i4+MRHR3d4WMaGhoglbb/NjKZ/rTdttOWb7eNTqfrSjyT8lFiDmqaNBjgaY9Z4d5ixyGiTpJKJVgyXl9SdpzMgZYLyRH1iS5/JLR69Wps27YNO3fuxLVr1/Dcc8+hvr4eixcvBgAsWLAAa9euNWw/e/ZsvPfee/jiiy+Qk5ODQ4cOYf369Zg9e7ahuMyePRt/+9vfcODAAeTm5uLrr7/Gpk2b8PDDD/fQyzQuVQ0t2JGYAwBYFTsAUk5XiEzKYyP84GxrjYLKRvx0RSV2HCKL0KWPhABg7ty5KC8vx4YNG6BSqTBs2DAcPHjQcCBufn5+u2nJunXrIJFIsG7dOhQVFcHd3d1QUNps2bIF69evx/PPP4+ysjL4+Pjgd7/7HTZs2NADL9H4fHgiG3XNGtzn7Yi4IR1/lEZExstGLsNTUYF452gWtifm4EFOSYl6nUQwk+Vka2pq4OTkhOrqajg6Oood57Zu1jVjwhtH0dCixYdPj8Q0FhYik1RW24Txfz+KFq0O+54fhxEBLmJHIjJJnf39zfNo+9iHJ7LR0KJFuK8Tpg72vPsDiMgoeTgo8ZthPgD0F0Ukot7FwtKHymubsTMpFwCweuoASCQ8doXIlC2doD/49ofLJSiobBA5DZF5Y2HpQ+8du4EmtQ7D/J0xaaC72HGI6B4N8nLEhDA36ATg45O5YschMmssLH2ktKYJu5LzAHC6QmRO2haS23MmH9WNapHTEJkvFpY+8u7RLLRodBgd5IIJYW5ixyGiHjIxzA0DPO1R36LFnjP5YschMlssLH2gqKoRn6foLx2witMVIrMikUgMF0X8+GQu1FrzXfCSSEwsLH1g69EstGh1GBviinGhnK4QmZs5w33gZq9ASXUTvr9UInYcIrPEwtLLCiob8OUZ/XRl9dSBIqchot6gsJJhQXQgAGB7Qg7MZHkrIqPCwtLLthzJhEYnYEKYG8YEu4odh4h6yVNjA6GwkuJSUTWScyrFjkNkdlhYelFuRT32nisCoD92hYjMl6udHI+O9AOgn7IQUc9iYelFbx/JhFYn4IGB7ly2m8gCPNN6Fef49FJkl9eJnIbIvLCw9JKssjp8c57TFSJLEupujymDPCAIwI6TnLIQ9SQWll7ydnwmdAIQe58nIvycxY5DRH2kbSG5r1ILcau+ReQ0ROaDhaUXXC+txX/TigEAq6aGiZyGiPrS2BBXDPFxRJNah89aV7cmonvHwtIL3jqcCUEAHhzqhSE+TmLHIaI+JJFIsKx1yrIzKQ/NGq3IiYjMAwtLD7taXIMDl0ogkQAvx/LYFSJLNDPCG16OSpTXNuO7C8VixyEyCywsPWzz4esAgJnh3hjo5SByGiISg7VMikUxQQCAjxK5kBxRT2Bh6UGXCqvx09VSSDldIbJ4T44OgK1chnRVLRKzKsSOQ2TyWFh60Jut05U5w3zR38Ne5DREJCYnW2s8PsofALCNC8kR3TMWlh5yPv8WjqSXQSaV4MUpPDOIiIAlMcGQSoAT18uRoaoVOw6RSWNh6SFvHs4EADwy3BfBbnYipyEiYxDQzxZxQ7wAAB8lZouchsi0sbD0gLO5lThxvRxWUglemMzpChH9bOkE/XL935wvRnlts8hpiEwXC0sP2HRIf+zKb0f5IaCfrchpiMiYjAx0xfAAZ7Rodfg0KVfsOEQmi4XlHiXduIlTN27CWibBSk5XiKgDS8frF5L79HQemtRcSI6oO1hY7oEgCHizdbryxOgA+DrbiJyIiIxR3BBP+LnY4FaDGnvPFYodh8gksbDcg5NZN5GSWwm5lRQrHugvdhwiMlJWMikWx+iPZfkoMQc6HReSI+oqFpZuEgQBmw5lAADmRwXAy0kpciIiMmZzR/vDQWGF7PJ6HM0oEzsOkclhYemmY9fLcS6/CkprKZ6bFCp2HCIycvYKKzwZFQAA2M6F5Ii6jIWlG3557MrTYwPh4cDpChHd3aJxQZBJJUjKvonLRdVixyEyKSws3RB/rQxphdWwlcuw/H5OV4ioc3ycbTAz3BuA/lgWIlNQ16zBtxeK8LcDV0XNYSXqdzdB+mNX9NOVheOC0M9eIXIiIjIlSycE47uLxfjvxWL8cfpAeDvx7EIyPg0tGhxNL8f+tGIcSS9Ds0YHAFgQHQR/V3HWG2Nh6aIfr6hwtaQG9gorPDshROw4RGRiIvycMSbYFSk5ldh5Kg9rHhwkdiQiAECTWotjGfqSEn+tDI2/WDMoqJ8tZkX4QGEl3gczLCxdoNMJePOQ/ppBS2KC4GInFzkREZmiZRNCkJJTid3JeXhhcn/YKfi/YhJHs0aLhOsV2J9WjENXS1Hf8nNJ8XOxwawIH8yK8MYQH0dIJBIRk7KwdMn3l0uQUVoLB6UVnhnP6QoRdc+UQR4IdrNDTkU9/nO2AIta12gh6gtqrQ6JWRXYf7EEP11VobZJY7jPx0mJmRHemBnhg0g/J9FLyi+xsHSSVidgc+sVmZeOD4GTrbXIiYjIVEmlEiwZH4z131zGjpO5eDpaf/YQUW/RaHVIyr6J/RdL8ONVFaoa1Ib7PB0VmBHujVkR3hju7wKpkb4XWVg66b8Xi5FVVgcnG2ssHh8kdhwiMnGPjfDDv37KQH5lAw5dVWH6UG+xI5GZ0eoEJOfcxP60Ehy8rEJlfYvhPjd7OR4cqi8po4Ncjbak/BILSydotDq8Fa+frjw7MQSOSk5XiOje2MhleCoqEO8czcK2hBwWFuoROp2As3m3cCCtGN9fVqG8ttlwn4utNaYP9cbsCG+MCXaFlcy0VjZhYemEr88XIaeiHq52ciwcFyR2HCIyEwuiA/HhiWyk5t3CufxbGBHgInYkMkGCIOBcfhUOpJXg+0slUNU0Ge5zVFph+lAvzIrwQXRoP1ibWEn5JRaWu1BrdXj7iH668ruJIbDn0fxE1EM8HJX4zTAffJVaiI8ScjBiPgsLdY4gCLhUVI39aSU4kFaCoqpGw30OCitMHeKJ2RE+iOnvBrmIpyL3JP72vYu9qYUoqGyEm70CC6KDxI5DRGZm6YRgfJVaiB8ul6CgskG0RbnI+AmCgKslNYaSkl/ZYLjPTi5D7GBPzIrwwYQwNyitZSIm7R0sLHfQrNFiy5EsAMBzk0JhIze/NwARiWuQlyMmhLkhIbMCH5/MxYbZg8WOREYmQ1WL/WnFOJBWguyKesPtSmspptzniVnh3nhgkIdZlpRfYmG5gya1DvcPdMfxjHLMb73KKhFRT1s6IQQJmRXYcyYfL08N44H9hKyyOkNJySyrM9wut5LigYHumBXhgyn3ecBWbjm/xi3nlXaDk401Xn84HE1qrdk3VyISz8QwNwzwtMf10jp8kZKPZyfyoqqWKLeiHvvTirE/rQTpqlrD7XKZFBMHuGFWhA9iB3ta7LGUlvmqu4hlhYh6k0QiwdLxIfjj3jR8fDIXi2OCTfpsDuq8gsoGHLhUgv1pxbhcVGO43UoqwfgwfUmZOtgTTjacurGwEBEZgd8M88EbP6ajpLoJ318qwZxhvmJHol5SXNWI7y+V4L9pJbhYUGW4XSaVYFxoP8yK8EbcEC842/J6db/EwkJEZASU1jIsiA7CpkPXsT0hB7+J9DGq67jQvSmt0RfR/WklSM27ZbhdKgGigvthVqQ3pg/xQj97hYgpjRsLCxGRkZgfFYCtR7NwqagaKTmViArpJ3Ykugfltc04eFk/STmTWwlB0N8ukQCjA131JWWoFzwclOIGNREsLERERqKfvQKPjvTD7uR8bEvIYWExQZX1LTh4WYUDl4qRdOMmdMLP940IcMbMCB/MDPeGlxNLSlexsBARGZElMcHYnZyP+PRSZJfXIcTdXuxIdBfVDWr8eEWF/ZdKcDKrAtpftJRIPyfMjPDGjHBv+LlwUcB7wcJCRGRE+nvYY8ogD8Snl2HHyRz8fw+Fix2JOlDTpMahK6U4cKkECZnlUGt/LilDfBwxM8Ibs8J9ENCPJaWnsLAQERmZZyYEIz69DF+lFuL3UwfCxY5nixiD+mYNDl8rxf60EhzPKEeLVme4b5CXA2aGe2NmhDenYr2EhYWIyMhEh/TDEB9HXCmuwWfJeVg5OUzsSBarsUWLI+ll2J9WjCPpZWjW/FxSQt3tMCvCB7MivBHm6SBiSsvAwkJEZGQkEgmWTgjGqj0XsTMpD8smhkBhxQUs+0qTWotjGeXYn1aM+GtlaFRrDfcF9bPFrAgfzIzwxiAvB5563odYWIiIjNDMcB/844cMqGqa8N2FYvx2lL/Ykcxas0aLhOsV2J9WjMPXylDXrDHc5+diY5ikDPFxZEkRCQsLEZERkltJsXBcEP5xMB0fJebgsZF+/EXZw9RaHRKzKrD/Ygl+uqpCbdPPJcXHSYmZEd6YGeGDSD8n7nsjwMJCRGSk5o0JwJYjmUhX1SIxqwITwtzFjmTyNFodkrJvYv/FEvx4VYWqBrXhPk9HBWaEe2NWhDeG+7tAKmVJMSYsLERERsrJ1hqPj/LHJ6dysT0hh4Wlm7Q6Ack5N3EgrQQHL6tws77FcJ+bvRwPDtWXlNFBriwpRqxblwPdunUrgoKCoFQqERUVhZSUlDtuv3nzZgwcOBA2Njbw9/fHqlWr0NTU1G6boqIiPPXUU+jXrx9sbGwQHh6Os2fPdiceEZHZWBITDIkEOH69HNdLa8WOYzJ0OgFncivx6reXMXZjPOZtS8Znyfm4Wd8CF1trPDkmALuXRiH5lVj89aGhiArpx7Ji5Lo8YdmzZw9Wr16N999/H1FRUdi8eTPi4uKQkZEBDw+PX22/e/durFmzBjt27MC4ceNw/fp1LFq0CBKJBJs2bQIA3Lp1CzExMXjggQfwww8/wN3dHZmZmXBxcbn3V0hEZMIC+tkibrAXDl5R4aOEHPzjsQixIxktQRBwvqAK+y+W4PtLJVDV/PyHsaPSCtOHemFWhA+iQ/vBWtatv9dJRBJBEIS7b/azqKgojB49Gu+88w4AQKfTwd/fHy+88ALWrFnzq+1XrlyJa9euIT4+3nDb73//eyQnJyMxMREAsGbNGpw8eRIJCQndfiE1NTVwcnJCdXU1HB0du/08RETGJjWvEo++lwS5TIqTaybD3YFX9G0jCAIuFVVjf1oJDqSVoKiq0XCfg8IKU4d4YnaED2L6u0FuxZJijDr7+7tLE5aWlhakpqZi7dq1htukUiliY2ORlJTU4WPGjRuHXbt2ISUlBWPGjEF2dja+//57PP3004ZtvvvuO8TFxeG3v/0tjh8/Dl9fXzz//PNYtmzZbbM0Nzejubm53QsmIjJHIwJcMMzfGRcKqvDp6TysnjpA7EiiEgQBV0tqDCUlv7LBcJ+dXIbYwZ6YFeGDCWFuUFpz/Rpz0aXCUlFRAa1WC09Pz3a3e3p6Ij09vcPHzJs3DxUVFRg/fjwEQYBGo8Hy5cvxyiuvGLbJzs7Ge++9h9WrV+OVV17BmTNn8OKLL0Iul2PhwoUdPu/GjRvxl7/8pSvxiYhMkkQiwbIJIVix+xx2nc7D85NCLfIXcYaqFvvTinEgrQTZFfWG222sZZh8nwdmR3hj0kAPi9w3lqDXzxI6duwYXn/9dbz77ruIiopCVlYWXnrpJfz1r3/F+vXrAeg/Vho1ahRef/11AMDw4cNx+fJlvP/++7ctLGvXrsXq1asN/15TUwN/fy6sRETmKW6IJ3ydbVBU1Yh954owLypA7Eh9IqusDgfSSrA/rRiZZXWG2xVWUjww0AMzI7wx5T4P2Mp50qu569J/YTc3N8hkMpSWlra7vbS0FF5eXh0+Zv369Xj66aexdOlSAEB4eDjq6+vx7LPP4k9/+hOkUim8vb0xePDgdo+77777sHfv3ttmUSgUUCj4OS4RWQYrmRRLxgfjr/uvYntiNp4Y7W+2Z7XkVtTjwKUS/PdiMdJVP58ZJZdJMXGAG2ZF+CB2sCfsFSwplqRL/7XlcjlGjhyJ+Ph4PPTQQwD005H4+HisXLmyw8c0NDRAKm1/oJNMph/XtR3vGxMTg4yMjHbbXL9+HYGBgV2JR0Rk1h4f5YfNh64ju7wex66XYfIgz7s/yEQUVDbgwCX9JOVy0c/HJFpJJRgfpi8pUwd7wsnGWsSUJKYu19PVq1dj4cKFGDVqFMaMGYPNmzejvr4eixcvBgAsWLAAvr6+2LhxIwBg9uzZ2LRpE4YPH274SGj9+vWYPXu2obisWrUK48aNw+uvv47HH38cKSkp+PDDD/Hhhx/24EslIjJtDkprPBkVgA9PZGPbiRyTLyzFVY34/lIJ/ptWgosFVYbbZVIJxoX2w6wIb8QN8YKzrVy8kGQ0ulxY5s6di/LycmzYsAEqlQrDhg3DwYMHDQfi5ufnt5uorFu3DhKJBOvWrUNRURHc3d0xe/Zs/O1vfzNsM3r0aHz99ddYu3YtXnvtNQQHB2Pz5s2YP39+D7xEIiLzsXBcED5KzEFS9k1cLqrGUF8nsSN1SWlNE76/VIL9aSVIzbtluF0qAaKC+2FWpDemD/FCP3t+5E/tdXkdFmPFdViIyFK8+Pl5fHexGA8P98Wbc4eJHeeuymubcfCyfpJyJrcSbb91JBJgdKCrvqQM9YKHg1LcoCSKXlmHhYiIxLd0QjC+u1iM/14sxv9OHwQvJ+P7RV9Z34KDl1U4cKkYSTduQveLP41HBDhjVoQPZoR7G2V2Mk4sLEREJibCzxljgl2RklOJT07lYs2Dg8SOBACoblDjx6sq7E8rwcmsCmh/0VIi/ZwwM8IbM8K94ediK2JKMlUsLEREJmjp+GCk5FRid3IeXpjcH3YineJb06TG4aul2J9WgoTMcqi1P5eUIT6OmBnhjVnhPgjox5JC94aFhYjIBMXe54lgNzvkVNTjP2cLsCgmuM++d32zBoev6UvK8evlaNHoDPcN8nLAzHBvzIzwRoi7fZ9lIvPHwkJEZIKkUgmWjA/G+m8uY8fJXDwdHQRZLy4k19iixZH0MuxPK8aR9DI0/6KkhLrbYVaED2ZFeCPM06HXMpBlY2EhIjJRj43ww79+ykB+ZQMOXVVh+lDvHn3+JrUWxzLKceBSCeKvlaKhRWu4L6ifrb6kRHpjoKcDJBLzXHWXjAcLCxGRibKRy/BUVCDeOZqF7Qk5PVJYmjVaJFyvwIFLJTh0tRR1zRrDfX4uNoZJyhAfR5YU6lMsLEREJmxBdCA+PJGNs3m3cD7/FoYHuHT5OdRaHRKzKnAgrQQ/XlGhtunnkuLjpMTMCG/MjPBBpJ8TSwqJhoWFiMiEeTgq8ZthPvgqtRDbE3OwdV7nCotGq8Pp7ErsTyvGwSsqVDWoDfd5OiowI9wbsyK8MdzfxWwvskimhYWFiMjEPTM+GF+lFuKHSyUoqGyAv2vHpxBrdQJSclpLymUVbta3GO5zs5fjwaH6kjI6yJUlhYwOCwsRkYm7z9sRE8LckJBZgY9P5mLD7MGG+3Q6Aan5t7D/YjG+v6xCeW2z4T4XW2tMH+qN2RHeiArp16tnGRHdKxYWIiIz8Mz4YCRkVmDPmXy8FBuGG+V12H+xBN9fKoGqpsmwnZONNeKGeGJWhA+iQ/vBWia9w7MSGQ8WFiIiM3D/AHeEedgjs6wO4/9+BLW/OLvHQWGFqUM8MTvCBzH93SC3Ykkh08PCQkRkBiQSCZZNCMEf96ahtlkDO7kMsYP1k5QJYW5QWsvEjkh0T1hYiIjMxGMj/aATBDjZWOOBQR4sKWRWWFiIiMyEVCrBE2MCxI5B1Cv4QSYREREZPRYWIiIiMnosLERERGT0WFiIiIjI6LGwEBERkdFjYSEiIiKjx8JCRERERo+FhYiIiIweCwsREREZPRYWIiIiMnosLERERGT0WFiIiIjI6LGwEBERkdEzm6s1C4IAAKipqRE5CREREXVW2+/ttt/jt2M2haW2thYA4O/vL3ISIiIi6qra2lo4OTnd9n6JcLdKYyJ0Oh2Ki4vh4OAAiUTSY89bU1MDf39/FBQUwNHRscee1xxxX3Ue91XXcH91HvdV53FfdV5v7itBEFBbWwsfHx9Ipbc/UsVsJixSqRR+fn699vyOjo58Q3cS91XncV91DfdX53FfdR73Vef11r6602SlDQ+6JSIiIqPHwkJERERGj4XlLhQKBV599VUoFAqxoxg97qvO477qGu6vzuO+6jzuq84zhn1lNgfdEhERkfnihIWIiIiMHgsLERERGT0WFiIiIjJ6LCxERERk9FhY7mLr1q0ICgqCUqlEVFQUUlJSxI4kuj//+c+QSCTtvgYNGmS4v6mpCStWrEC/fv1gb2+PRx99FKWlpSIm7jsnTpzA7Nmz4ePjA4lEgm+++abd/YIgYMOGDfD29oaNjQ1iY2ORmZnZbpvKykrMnz8fjo6OcHZ2xjPPPIO6uro+fBV94277atGiRb96n02fPr3dNpayrzZu3IjRo0fDwcEBHh4eeOihh5CRkdFum8783OXn52PmzJmwtbWFh4cH/vCHP0Cj0fTlS+l1ndlXkyZN+tV7a/ny5e22sYR99d577yEiIsKwGFx0dDR++OEHw/3G9p5iYbmDPXv2YPXq1Xj11Vdx7tw5REZGIi4uDmVlZWJHE92QIUNQUlJi+EpMTDTct2rVKvz3v//Ff/7zHxw/fhzFxcV45JFHREzbd+rr6xEZGYmtW7d2eP8bb7yBt99+G++//z6Sk5NhZ2eHuLg4NDU1GbaZP38+rly5gkOHDmH//v04ceIEnn322b56CX3mbvsKAKZPn97uffb555+3u99S9tXx48exYsUKnD59GocOHYJarca0adNQX19v2OZuP3darRYzZ85ES0sLTp06hZ07d+KTTz7Bhg0bxHhJvaYz+woAli1b1u699cYbbxjus5R95efnh7///e9ITU3F2bNnMXnyZMyZMwdXrlwBYITvKYFua8yYMcKKFSsM/67VagUfHx9h48aNIqYS36uvvipERkZ2eF9VVZVgbW0t/Oc//zHcdu3aNQGAkJSU1EcJjQMA4euvvzb8u06nE7y8vIT/9//+n+G2qqoqQaFQCJ9//rkgCIJw9epVAYBw5swZwzY//PCDIJFIhKKioj7L3tf+774SBEFYuHChMGfOnNs+xlL3lSAIQllZmQBAOH78uCAInfu5+/777wWpVCqoVCrDNu+9957g6OgoNDc39+0L6EP/d18JgiDcf//9wksvvXTbx1jqvhIEQXBxcRG2b99ulO8pTlhuo6WlBampqYiNjTXcJpVKERsbi6SkJBGTGYfMzEz4+PggJCQE8+fPR35+PgAgNTUVarW63X4bNGgQAgICLH6/5eTkQKVStds3Tk5OiIqKMuybpKQkODs7Y9SoUYZtYmNjIZVKkZyc3OeZxXbs2DF4eHhg4MCBeO6553Dz5k3DfZa8r6qrqwEArq6uADr3c5eUlITw8HB4enoatomLi0NNTY3hL2pz9H/3VZvPPvsMbm5uGDp0KNauXYuGhgbDfZa4r7RaLb744gvU19cjOjraKN9TZnPxw55WUVEBrVbb7j8EAHh6eiI9PV2kVMYhKioKn3zyCQYOHIiSkhL85S9/wYQJE3D58mWoVCrI5XI4Ozu3e4ynpydUKpU4gY1E2+vv6D3Vdp9KpYKHh0e7+62srODq6mpx+2/69Ol45JFHEBwcjBs3buCVV17Bgw8+iKSkJMhkMovdVzqdDi+//DJiYmIwdOhQAOjUz51Kperwvdd2nznqaF8BwLx58xAYGAgfHx+kpaXhf//3f5GRkYF9+/YBsKx9denSJURHR6OpqQn29vb4+uuvMXjwYFy4cMHo3lMsLNRlDz74oOGfIyIiEBUVhcDAQHz55ZewsbERMRmZkyeeeMLwz+Hh4YiIiEBoaCiOHTuGKVOmiJhMXCtWrMDly5fbHTdGHbvdvvrlcU7h4eHw9vbGlClTcOPGDYSGhvZ1TFENHDgQFy5cQHV1Nb766issXLgQx48fFztWh/iR0G24ublBJpP96ojo0tJSeHl5iZTKODk7O2PAgAHIysqCl5cXWlpaUFVV1W4b7jcYXv+d3lNeXl6/Oqhbo9GgsrLS4vdfSEgI3NzckJWVBcAy99XKlSuxf/9+HD16FH5+fobbO/Nz5+Xl1eF7r+0+c3O7fdWRqKgoAGj33rKUfSWXy9G/f3+MHDkSGzduRGRkJN566y2jfE+xsNyGXC7HyJEjER8fb7hNp9MhPj4e0dHRIiYzPnV1dbhx4wa8vb0xcuRIWFtbt9tvGRkZyM/Pt/j9FhwcDC8vr3b7pqamBsnJyYZ9Ex0djaqqKqSmphq2OXLkCHQ6neF/qpaqsLAQN2/ehLe3NwDL2leCIGDlypX4+uuvceTIEQQHB7e7vzM/d9HR0bh06VK7knfo0CE4Ojpi8ODBffNC+sDd9lVHLly4AADt3luWsK86otPp0NzcbJzvqR4/jNeMfPHFF4JCoRA++eQT4erVq8Kzzz4rODs7tzsi2hL9/ve/F44dOybk5OQIJ0+eFGJjYwU3NzehrKxMEARBWL58uRAQECAcOXJEOHv2rBAdHS1ER0eLnLpv1NbWCufPnxfOnz8vABA2bdoknD9/XsjLyxMEQRD+/ve/C87OzsK3334rpKWlCXPmzBGCg4OFxsZGw3NMnz5dGD58uJCcnCwkJiYKYWFhwpNPPinWS+o1d9pXtbW1wv/8z/8ISUlJQk5OjnD48GFhxIgRQlhYmNDU1GR4DkvZV88995zg5OQkHDt2TCgpKTF8NTQ0GLa528+dRqMRhg4dKkybNk24cOGCcPDgQcHd3V1Yu3atGC+p19xtX2VlZQmvvfaacPbsWSEnJ0f49ttvhZCQEGHixImG57CUfbVmzRrh+PHjQk5OjpCWliasWbNGkEgkwk8//SQIgvG9p1hY7mLLli1CQECAIJfLhTFjxginT58WO5Lo5s6dK3h7ewtyuVzw9fUV5s6dK2RlZRnub2xsFJ5//nnBxcVFsLW1FR5++GGhpKRExMR95+jRowKAX30tXLhQEAT9qc3r168XPD09BYVCIUyZMkXIyMho9xw3b94UnnzyScHe3l5wdHQUFi9eLNTW1orwanrXnfZVQ0ODMG3aNMHd3V2wtrYWAgMDhWXLlv3qjwVL2Vcd7ScAwscff2zYpjM/d7m5ucKDDz4o2NjYCG5ubsLvf/97Qa1W9/Gr6V1321f5+fnCxIkTBVdXV0GhUAj9+/cX/vCHPwjV1dXtnscS9tWSJUuEwMBAQS6XC+7u7sKUKVMMZUUQjO89JREEQej5uQ0RERFRz+ExLERERGT0WFiIiIjI6LGwEBERkdFjYSEiIiKjx8JCRERERo+FhYiIiIweCwsREREZPRYWIiIiMnosLERERGT0WFiIiIjI6LGwEBERkdFjYSEiIiKj9/8Dyhn33GzJ3WgAAAAASUVORK5CYII=",
>>>>>>> origin/main
      "text/plain": [
       "<Figure size 640x480 with 1 Axes>"
      ]
     },
     "metadata": {},
     "output_type": "display_data"
    }
   ],
   "source": [
    "import matplotlib.pyplot as plt\n",
    "\n",
    "eps = [100*i for i in range(0,4)]\n",
    "\n",
    "plt.plot(eps, losses)"
   ]
  },
  {
   "cell_type": "code",
<<<<<<< HEAD
   "execution_count": null,
   "metadata": {},
   "outputs": [],
   "source": [
    "def get_predictions(val_loader, model, threshold=0.5):\n",
    "    model.eval()  # Set the model to evaluation mode\n",
    "    predictions = []\n",
    "\n",
    "    with torch.no_grad():  # Disable gradient calculation\n",
    "        for input_ids, attention_mask, extra_features in val_loader:  # No labels\n",
    "            # Move inputs to the same device as the model (e.g., GPU if available)\n",
    "            input_ids = input_ids.to(model.fc[0].weight.device)\n",
    "            attention_mask = attention_mask.to(model.fc[0].weight.device)\n",
    "            extra_features = extra_features.to(model.fc[0].weight.device)\n",
    "\n",
    "            # Get model outputs\n",
    "            logits = model(input_ids, attention_mask, extra_features)\n",
    "            probabilities = torch.sigmoid(logits)  # Convert logits to probabilities\n",
    "            predictions.append((probabilities > threshold).cpu().numpy())  # Apply threshold and store predictions\n",
    "\n",
    "    # Concatenate all batches into a single numpy array\n",
    "    predictions = np.concatenate(predictions, axis=0)\n",
    "    return predictions\n",
    "    # sig = nn.Sigmoid() \n",
    "    # yhat = sig(model(X_val)).detach().numpy()\n",
    "    # y_pred = yhat > threshold\n",
    "    \n",
    "    # return y_pred\n",
=======
   "execution_count": 26,
   "metadata": {},
   "outputs": [],
   "source": [
    "def get_predictions(X_val, model, threshold=0.5):\n",
    "    sig = nn.Sigmoid() \n",
    "    yhat = sig(model(X_val)).detach().numpy()\n",
    "    y_pred = yhat > threshold\n",
    "    \n",
    "    return y_pred\n",
>>>>>>> origin/main
    "\n",
    "# y_pred = get_predictions(torch.Tensor(final_val_features), model, 0.45)\n",
    "# # print(y_pred)\n",
    "\n",
    "# # Create a DataFrame to save to CSV\n",
    "# val_data_with_pred = pd.DataFrame(y_pred, columns=['Anger', 'Fear', 'Joy', 'Sadness', 'Surprise'])  # Adjust column names as per your features\n",
    "# # val_data_with_pred['True_Label'] = y_test\n",
    "# # val_data_with_pred['Predictions'] = dummy_predictions\n",
    "\n",
    "# val_data_with_pred = val_data_with_pred.astype(int)\n",
    "\n",
    "# val_data_with_pred['id'] = val['id']\n",
    "\n",
    "# val_data_with_pred = val_data_with_pred[['id', 'Anger', 'Fear', 'Joy', 'Sadness', 'Surprise']]\n",
    "\n",
    "# # Save to CSV\n",
    "# current_time = datetime.datetime.now()\n",
    "# formatted_time = current_time.strftime('%Y-%m-%d_%H_%M_%S')\n",
    "\n",
    "# val_data_with_pred.to_csv(f'../results/pred_eng_a_{formatted_time}.csv', index=False)\n",
    "\n",
    "# print(val_data_with_pred)"
   ]
  },
  {
   "cell_type": "code",
<<<<<<< HEAD
   "execution_count": null,
=======
   "execution_count": 28,
>>>>>>> origin/main
   "metadata": {},
   "outputs": [
    {
     "name": "stdout",
     "output_type": "stream",
     "text": [
      "                        id  Anger  Fear  Joy  Sadness  Surprise\n",
<<<<<<< HEAD
      "0    eng_dev_track_a_00001      0     1    1        1         1\n",
      "1    eng_dev_track_a_00002      1     1    1        1         1\n",
      "2    eng_dev_track_a_00003      0     1    1        1         1\n",
      "3    eng_dev_track_a_00004      1     1    1        1         1\n",
      "4    eng_dev_track_a_00005      0     1    1        1         1\n",
      "..                     ...    ...   ...  ...      ...       ...\n",
      "111  eng_dev_track_a_00112      1     1    1        1         1\n",
      "112  eng_dev_track_a_00113      0     1    1        1         1\n",
=======
      "0    eng_dev_track_a_00001      1     0    1        1         1\n",
      "1    eng_dev_track_a_00002      1     1    1        1         1\n",
      "2    eng_dev_track_a_00003      1     1    1        1         1\n",
      "3    eng_dev_track_a_00004      1     0    1        1         1\n",
      "4    eng_dev_track_a_00005      1     1    0        1         1\n",
      "..                     ...    ...   ...  ...      ...       ...\n",
      "111  eng_dev_track_a_00112      1     0    1        1         1\n",
      "112  eng_dev_track_a_00113      1     1    0        1         1\n",
>>>>>>> origin/main
      "113  eng_dev_track_a_00114      1     1    1        1         1\n",
      "114  eng_dev_track_a_00115      0     1    1        1         1\n",
      "115  eng_dev_track_a_00116      1     1    1        1         1\n",
      "\n",
      "[116 rows x 6 columns]\n",
      "                        id  Anger  Fear  Joy  Sadness  Surprise\n",
<<<<<<< HEAD
      "0    eng_dev_track_a_00001      0     1    1        1         1\n",
      "1    eng_dev_track_a_00002      0     1    1        1         0\n",
      "2    eng_dev_track_a_00003      0     1    1        1         0\n",
      "3    eng_dev_track_a_00004      0     1    0        1         0\n",
      "4    eng_dev_track_a_00005      1     1    0        1         0\n",
      "..                     ...    ...   ...  ...      ...       ...\n",
      "111  eng_dev_track_a_00112      0     1    1        1         1\n",
      "112  eng_dev_track_a_00113      0     1    1        1         1\n",
      "113  eng_dev_track_a_00114      1     1    1        1         1\n",
=======
      "0    eng_dev_track_a_00001      0     0    1        1         1\n",
      "1    eng_dev_track_a_00002      1     1    1        1         1\n",
      "2    eng_dev_track_a_00003      0     0    1        1         0\n",
      "3    eng_dev_track_a_00004      1     1    1        1         1\n",
      "4    eng_dev_track_a_00005      0     1    0        1         0\n",
      "..                     ...    ...   ...  ...      ...       ...\n",
      "111  eng_dev_track_a_00112      0     1    1        1         0\n",
      "112  eng_dev_track_a_00113      1     1    1        1         1\n",
      "113  eng_dev_track_a_00114      1     1    1        1         1\n",
      "114  eng_dev_track_a_00115      0     0    1        1         1\n",
      "115  eng_dev_track_a_00116      0     1    1        1         1\n",
      "\n",
      "[116 rows x 6 columns]\n",
      "                        id  Anger  Fear  Joy  Sadness  Surprise\n",
      "0    eng_dev_track_a_00001      0     0    1        1         0\n",
      "1    eng_dev_track_a_00002      1     0    0        1         0\n",
      "2    eng_dev_track_a_00003      1     0    1        1         0\n",
      "3    eng_dev_track_a_00004      0     1    1        1         0\n",
      "4    eng_dev_track_a_00005      1     1    0        1         0\n",
      "..                     ...    ...   ...  ...      ...       ...\n",
      "111  eng_dev_track_a_00112      0     0    1        1         0\n",
      "112  eng_dev_track_a_00113      1     0    1        1         0\n",
      "113  eng_dev_track_a_00114      1     0    1        1         0\n",
>>>>>>> origin/main
      "114  eng_dev_track_a_00115      0     1    1        1         0\n",
      "115  eng_dev_track_a_00116      0     1    1        1         1\n",
      "\n",
      "[116 rows x 6 columns]\n",
      "                        id  Anger  Fear  Joy  Sadness  Surprise\n",
<<<<<<< HEAD
      "0    eng_dev_track_a_00001      0     1    0        1         0\n",
      "1    eng_dev_track_a_00002      0     1    1        1         0\n",
      "2    eng_dev_track_a_00003      0     0    1        1         0\n",
      "3    eng_dev_track_a_00004      1     1    0        1         0\n",
      "4    eng_dev_track_a_00005      1     0    0        1         0\n",
      "..                     ...    ...   ...  ...      ...       ...\n",
      "111  eng_dev_track_a_00112      0     0    1        1         1\n",
      "112  eng_dev_track_a_00113      0     0    1        1         0\n",
      "113  eng_dev_track_a_00114      0     1    0        1         1\n",
      "114  eng_dev_track_a_00115      0     1    0        1         0\n",
      "115  eng_dev_track_a_00116      1     1    1        1         1\n",
      "\n",
      "[116 rows x 6 columns]\n",
      "                        id  Anger  Fear  Joy  Sadness  Surprise\n",
      "0    eng_dev_track_a_00001      0     1    1        1         1\n",
      "1    eng_dev_track_a_00002      0     1    1        1         0\n",
      "2    eng_dev_track_a_00003      1     0    0        1         0\n",
      "3    eng_dev_track_a_00004      1     1    0        1         0\n",
      "4    eng_dev_track_a_00005      1     0    0        1         0\n",
      "..                     ...    ...   ...  ...      ...       ...\n",
      "111  eng_dev_track_a_00112      0     0    1        1         0\n",
      "112  eng_dev_track_a_00113      0     0    1        1         0\n",
      "113  eng_dev_track_a_00114      0     1    0        1         0\n",
      "114  eng_dev_track_a_00115      0     1    0        1         0\n",
      "115  eng_dev_track_a_00116      0     1    1        1         1\n",
=======
      "0    eng_dev_track_a_00001      0     0    1        1         0\n",
      "1    eng_dev_track_a_00002      0     1    0        1         0\n",
      "2    eng_dev_track_a_00003      1     0    1        1         0\n",
      "3    eng_dev_track_a_00004      0     1    0        1         0\n",
      "4    eng_dev_track_a_00005      1     1    0        1         0\n",
      "..                     ...    ...   ...  ...      ...       ...\n",
      "111  eng_dev_track_a_00112      0     0    1        1         0\n",
      "112  eng_dev_track_a_00113      1     0    0        1         1\n",
      "113  eng_dev_track_a_00114      0     0    1        1         0\n",
      "114  eng_dev_track_a_00115      0     1    1        1         0\n",
      "115  eng_dev_track_a_00116      0     0    1        1         1\n",
>>>>>>> origin/main
      "\n",
      "[116 rows x 6 columns]\n"
     ]
    }
   ],
   "source": [
    "# DO 10 different prediction files with epochs 100, 200, 300, 400, 500, 600, 700, 800, 900 and 1000 Model parameters\n",
    "\n",
    "# Get 10 differen prediction files\n",
    "\n",
<<<<<<< HEAD
    "bert_val_text = tokenizer(\n",
    "    val[\"text\"].tolist(),\n",
    "    return_tensors=\"pt\",\n",
    "    add_special_tokens=True,\n",
    "    padding=\"max_length\",\n",
    "    truncation=True,\n",
    "    max_length=128\n",
    ")\n",
    "\n",
    "val_input_ids = bert_val_text[\"input_ids\"]\n",
    "val_attention_mask = bert_val_text[\"attention_mask\"]\n",
    "\n",
    "# Convert val_lr_features to PyTorch tensor\n",
    "val_lr_features_tensor = torch.tensor(val_lr_features, dtype=torch.float32)\n",
    "\n",
    "# Create TensorDataset for validation data (without labels)\n",
    "val_dataset = TensorDataset(val_input_ids, val_attention_mask, val_lr_features_tensor)\n",
    "\n",
    "# Validation DataLoader\n",
    "val_loader = DataLoader(val_dataset, batch_size=16, shuffle=False)\n",
    "\n",
    "# for input_ids, attention_mask, extra_features, _ in val_loader:  # Assuming DataLoader includes labels\n",
    "#     # Move inputs to the same device as the model\n",
    "#     input_ids = input_ids.to(model.fc[0].weight.device)\n",
    "#     attention_mask = attention_mask.to(model.fc[0].weight.device)\n",
    "#     extra_features = extra_features.to(model.fc[0].weight.device)\n",
    "\n",
    "#     # Get model outputs\n",
    "#     logits = model(input_ids, attention_mask, extra_features)\n",
    "#     probabilities = torch.sigmoid(logits)  # Convert logits to probabilities\n",
    "#     predictions.append((probabilities > threshold).cpu().numpy())  # Apply threshold\n",
    "\n",
    "\n",
    "for i in range(4):\n",
    "    epoch = i*100\n",
    "    model.load_state_dict(torch.load(f'./24-12-24/net_epoch_{epoch}.pth', weights_only=True))\n",
    "    y_pred = get_predictions(val_loader, model, 0.45)\n",
=======
    "for i in range(4):\n",
    "    epoch = i*100\n",
    "    model.load_state_dict(torch.load(f'./28-12-24/net_epoch_{epoch}.pth', weights_only=True))\n",
    "    y_pred = get_predictions(torch.Tensor(final_val_features), model, 0.45)\n",
>>>>>>> origin/main
    "    # print(y_pred)\n",
    "\n",
    "    # Create a DataFrame to save to CSV\n",
    "    val_data_with_pred = pd.DataFrame(y_pred, columns=['Anger', 'Fear', 'Joy', 'Sadness', 'Surprise'])  # Adjust column names as per your features\n",
    "    # val_data_with_pred['True_Label'] = y_test\n",
    "    # val_data_with_pred['Predictions'] = dummy_predictions\n",
    "\n",
    "    val_data_with_pred = val_data_with_pred.astype(int)\n",
    "\n",
    "    val_data_with_pred['id'] = val['id']\n",
    "\n",
    "    val_data_with_pred = val_data_with_pred[['id', 'Anger', 'Fear', 'Joy', 'Sadness', 'Surprise']]\n",
    "\n",
    "    # Save to CSV\n",
    "    current_time = datetime.datetime.now()\n",
    "    formatted_time = current_time.strftime('%Y-%m-%d_%H_%M_%S')\n",
    "\n",
<<<<<<< HEAD
    "    val_data_with_pred.to_csv(f'../results/alt5/alt5_epoch_{epoch}_pred_eng_a_{formatted_time}.csv', index=False)\n",
=======
    "    val_data_with_pred.to_csv(f'../results/alt5_0/alt5_epoch_{epoch}_pred_eng_a_{formatted_time}.csv', index=False)\n",
>>>>>>> origin/main
    "\n",
    "    print(val_data_with_pred)"
   ]
  },
  {
   "cell_type": "markdown",
   "metadata": {},
   "source": [
    "---"
   ]
  },
  {
   "cell_type": "markdown",
   "metadata": {},
   "source": [
    "1. For Submission 5 files:\n",
    "\n",
    "    Your results for eng track A are:\n",
    "\n",
    "    Multi-label accuracy (Jaccard score): 0.26063218390804593\n",
    "\n",
    "    Micro F1 score: 0.41758241758241754\n",
    "\n",
    "    Macro F1 score: 0.36549662349391404\n",
    "\n",
    "2. For Submission 6 files:\n",
    "\n",
    "    Your results for eng track A are:\n",
    "\n",
    "    Multi-label accuracy (Jaccard score): 0.26206896551724135\n",
    "\n",
    "    Micro F1 score: 0.42659279778393355\n",
    "\n",
    "    Macro F1 score: 0.36911780259117266"
   ]
  },
  {
   "cell_type": "markdown",
   "metadata": {},
   "source": [
    "3. For Submission 8 files"
   ]
  },
  {
   "cell_type": "markdown",
   "metadata": {},
   "source": [
    "| Epoch | Jaccard Index       | Micro F1            | Macro F1            |\n",
    "| ----- | ------------------- | ------------------- | ------------------- |\n",
    "| 0     | 0.29094827586206906 | 0.4409171075837742  | 0.3952511404048909  |\n",
    "| 100   | 0.24080459770114943 | 0.39560439560439564 | 0.3420526643168152  |\n",
    "| 200   | 0.2548850574712644  | 0.4089635854341737  | 0.3569574389199279  |\n",
    "| 300   | 0.2548850574712644  | 0.41758241758241754 | 0.3576650885346538  |\n",
    "| 400   | 0.2557471264367816  | 0.4098360655737705  | 0.3598377304037682  |\n",
    "| 500   | 0.2530172413793103  | 0.41666666666666663 | 0.35474739097380603 |\n",
    "| 600   | 0.26379310344827583 | 0.41208791208791207 | 0.3499361424130125  |\n",
    "| 700   | 0.27241379310344827 | 0.42622950819672134 | 0.37301587301587297 |\n",
    "| 800   | 0.253448275862069   | 0.4098360655737705  | 0.3496649512518185  |\n",
    "| 900   | 0.25804597701149423 | 0.41961852861035426 | 0.37158938378169115 |"
   ]
<<<<<<< HEAD
=======
  },
  {
   "cell_type": "markdown",
   "metadata": {},
   "source": [
    "---\n",
    "\n",
    "1. ALT 5 Epoch 0: \n",
    "\n",
    "Multi-label accuracy (Jaccard score): 0.26954022988505744\n",
    "\n",
    "Micro F1 score: 0.4201438848920864\n",
    "\n",
    "Macro F1 score: 0.40864974517443786\n",
    "\n",
    "2. ALT 5 Epoch 100: \n",
    "\n",
    "Multi-label accuracy (Jaccard score): 0.3070402298850575\n",
    "\n",
    "Micro F1 score: 0.4602649006622517\n",
    "\n",
    "Macro F1 score: 0.4274557175116834\n",
    "\n",
    "3. ALT 5 Epoch 200: \n",
    "\n",
    "Multi-label accuracy (Jaccard score): 0.2689655172413793\n",
    "\n",
    "Micro F1 score: 0.4114285714285714\n",
    "\n",
    "Macro F1 score: 0.36944836989062213\n",
    "\n",
    "4. ALT 5 Epoch 300: \n",
    "\n",
    "Multi-label accuracy (Jaccard score): 0.25244252873563217\n",
    "\n",
    "Micro F1 score: 0.3869653767820774\n",
    "\n",
    "Macro F1 score: 0.320969520516741"
   ]
>>>>>>> origin/main
  }
 ],
 "metadata": {
  "kernelspec": {
   "display_name": "base",
   "language": "python",
   "name": "python3"
  },
  "language_info": {
   "codemirror_mode": {
    "name": "ipython",
    "version": 3
   },
   "file_extension": ".py",
   "mimetype": "text/x-python",
   "name": "python",
   "nbconvert_exporter": "python",
   "pygments_lexer": "ipython3",
<<<<<<< HEAD
   "version": "3.12.6"
=======
   "version": "3.9.13"
>>>>>>> origin/main
  }
 },
 "nbformat": 4,
 "nbformat_minor": 2
}
